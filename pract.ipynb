{
 "cells": [
  {
   "cell_type": "markdown",
   "id": "cfe2c5cd",
   "metadata": {},
   "source": [
    "# Data Cleaning\n",
    "This section covers essential steps for cleaning data in Python using pandas."
   ]
  },
  {
   "cell_type": "code",
   "execution_count": null,
   "id": "f1897527",
   "metadata": {},
   "outputs": [],
   "source": [
    "# Import necessary libraries\n",
    "import pandas as pd  # For data manipulation\n",
    "import numpy as np   # For numerical operations"
   ]
  },
  {
   "cell_type": "markdown",
   "id": "e78bb6b7",
   "metadata": {},
   "source": [
    "## Loading Data\n",
    "Let's load your dataset into a pandas DataFrame. This is the first step in any data analysis workflow."
   ]
  },
  {
   "cell_type": "code",
   "execution_count": null,
   "id": "efb9bad3",
   "metadata": {},
   "outputs": [],
   "source": [
    "# Load a CSV file into a DataFrame\n",
    "# Replace 'your_data.csv' with your actual file path\n",
    "\n",
    "df = pd.read_csv('your_data.csv')"
   ]
  },
  {
   "cell_type": "markdown",
   "id": "21777350",
   "metadata": {},
   "source": [
    "## Previewing the Data\n",
    "It's important to preview the first few rows to understand the structure of your dataset."
   ]
  },
  {
   "cell_type": "code",
   "execution_count": null,
   "id": "efff5c1f",
   "metadata": {},
   "outputs": [],
   "source": [
    "# Display the first five rows of the DataFrame\n",
    "df.head()"
   ]
  },
  {
   "cell_type": "markdown",
   "id": "77180361",
   "metadata": {},
   "source": [
    "## Handling Missing Values\n",
    "Let's identify and handle missing values in your dataset."
   ]
  },
  {
   "cell_type": "code",
   "execution_count": null,
   "id": "da02bacd",
   "metadata": {},
   "outputs": [],
   "source": [
    "# Check for missing values in each column\n",
    "df.isnull().sum()"
   ]
  },
  {
   "cell_type": "markdown",
   "id": "285bbadc",
   "metadata": {},
   "source": [
    "### Filling Missing Values\n",
    "One common approach is to fill missing values with the mean of the column."
   ]
  },
  {
   "cell_type": "code",
   "execution_count": null,
   "id": "2ccaff21",
   "metadata": {},
   "outputs": [],
   "source": [
    "# Fill missing values with the mean of each column\n",
    "df_filled = df.fillna(df.mean())"
   ]
  },
  {
   "cell_type": "markdown",
   "id": "8b99a4ae",
   "metadata": {},
   "source": [
    "## Removing Duplicates\n",
    "Duplicate rows can skew your analysis. Let's remove them."
   ]
  },
  {
   "cell_type": "code",
   "execution_count": null,
   "id": "8da59c6c",
   "metadata": {},
   "outputs": [],
   "source": [
    "# Remove duplicate rows from the DataFrame\n",
    "df_no_duplicates = df.drop_duplicates()"
   ]
  },
  {
   "cell_type": "markdown",
   "id": "c1658a15",
   "metadata": {},
   "source": [
    "## Correcting Data Types\n",
    "Columns should have the correct data types for accurate analysis."
   ]
  },
  {
   "cell_type": "code",
   "execution_count": null,
   "id": "b89b7cc8",
   "metadata": {},
   "outputs": [],
   "source": [
    "# Convert a column to numeric, forcing errors to NaN\n",
    "df['numeric_column'] = pd.to_numeric(df['numeric_column'], errors='coerce')"
   ]
  },
  {
   "cell_type": "code",
   "execution_count": null,
   "id": "9ed80ea6",
   "metadata": {},
   "outputs": [],
   "source": [
    "# Convert a column to datetime\n",
    "df['date_column'] = pd.to_datetime(df['date_column'], errors='coerce')"
   ]
  },
  {
   "cell_type": "markdown",
   "id": "e427e0f7",
   "metadata": {},
   "source": [
    "## Handling Outliers\n",
    "Outliers can affect your analysis. Let's define a function to remove them using the IQR method."
   ]
  },
  {
   "cell_type": "code",
   "execution_count": null,
   "id": "ba0dbd13",
   "metadata": {},
   "outputs": [],
   "source": [
    "# Function to remove outliers using the IQR method\n",
    "def remove_outliers_iqr(df, column):\n",
    "    Q1 = df[column].quantile(0.25)\n",
    "    Q3 = df[column].quantile(0.75)\n",
    "    IQR = Q3 - Q1\n",
    "    lower_bound = Q1 - 1.5 * IQR\n",
    "    upper_bound = Q3 + 1.5 * IQR\n",
    "    return df[(df[column] >= lower_bound) & (df[column] <= upper_bound)]"
   ]
  },
  {
   "cell_type": "code",
   "execution_count": null,
   "id": "e059d839",
   "metadata": {},
   "outputs": [],
   "source": [
    "# Remove outliers from a specific column\n",
    "df_no_outliers = remove_outliers_iqr(df, 'numeric_column')"
   ]
  },
  {
   "cell_type": "markdown",
   "id": "3aadfde1",
   "metadata": {},
   "source": [
    "## String Cleaning\n",
    "String columns often contain extra spaces or inconsistent casing. Let's clean them."
   ]
  },
  {
   "cell_type": "code",
   "execution_count": null,
   "id": "61e3ff1a",
   "metadata": {},
   "outputs": [],
   "source": [
    "# Remove leading/trailing whitespace and convert to lowercase\n",
    "df['string_column'] = df['string_column'].str.strip().str.lower()"
   ]
  },
  {
   "cell_type": "markdown",
   "id": "a24f342a",
   "metadata": {},
   "source": [
    "## Renaming Columns\n",
    "Rename columns for clarity and consistency."
   ]
  },
  {
   "cell_type": "code",
   "execution_count": null,
   "id": "5c715516",
   "metadata": {},
   "outputs": [],
   "source": [
    "# Rename columns using a dictionary\n",
    "df = df.rename(columns={'old_name': 'new_name'})"
   ]
  },
  {
   "cell_type": "markdown",
   "id": "37b55c70",
   "metadata": {},
   "source": [
    "## Encoding Categorical Variables\n",
    "Convert categorical columns to numeric codes for machine learning."
   ]
  },
  {
   "cell_type": "code",
   "execution_count": null,
   "id": "9d806f2a",
   "metadata": {},
   "outputs": [],
   "source": [
    "# Encode categorical variables using pandas get_dummies\n",
    "df_encoded = pd.get_dummies(df, columns=['categorical_column'])"
   ]
  },
  {
   "cell_type": "markdown",
   "id": "d07909f4",
   "metadata": {},
   "source": [
    "## Feature Scaling\n",
    "Scale numerical features for better model performance."
   ]
  },
  {
   "cell_type": "code",
   "execution_count": null,
   "id": "5684ec16",
   "metadata": {},
   "outputs": [],
   "source": [
    "from sklearn.preprocessing import StandardScaler\n",
    "\n",
    "# Initialize the scaler\n",
    "scaler = StandardScaler()\n",
    "\n",
    "# Scale a numeric column\n",
    "df[['numeric_column']] = scaler.fit_transform(df[['numeric_column']])"
   ]
  },
  {
   "cell_type": "markdown",
   "id": "fe2d511b",
   "metadata": {},
   "source": [
    "## Dropping Unnecessary Columns\n",
    "Remove columns that are not needed for analysis."
   ]
  },
  {
   "cell_type": "code",
   "execution_count": null,
   "id": "7cebaf10",
   "metadata": {},
   "outputs": [],
   "source": [
    "# Drop columns by name\n",
    "df = df.drop(['unnecessary_column1', 'unnecessary_column2'], axis=1)"
   ]
  },
  {
   "cell_type": "markdown",
   "id": "3b081c9b",
   "metadata": {},
   "source": [
    "---\n",
    "\n",
    "# Advanced Data Cleaning\n",
    "In this section, we will cover more advanced data cleaning techniques to further improve your dataset."
   ]
  },
  {
   "cell_type": "markdown",
   "id": "11db4052",
   "metadata": {},
   "source": [
    "## Visualizing Outliers\n",
    "Before removing outliers, it's helpful to visualize them. Let's use a boxplot to see the distribution."
   ]
  },
  {
   "cell_type": "code",
   "execution_count": null,
   "id": "67b9da99",
   "metadata": {},
   "outputs": [],
   "source": [
    "import matplotlib.pyplot as plt\n",
    "\n",
    "# Create a boxplot for a numeric column\n",
    "plt.figure(figsize=(8, 4))\n",
    "df.boxplot(column=['numeric_column'])\n",
    "plt.title('Boxplot of Numeric Column')\n",
    "plt.show()"
   ]
  },
  {
   "cell_type": "markdown",
   "id": "537ea89f",
   "metadata": {},
   "source": [
    "## Advanced Imputation Techniques\n",
    "Sometimes, filling missing values with the mean is not enough. Let's use interpolation and forward/backward fill methods."
   ]
  },
  {
   "cell_type": "code",
   "execution_count": null,
   "id": "53708eea",
   "metadata": {},
   "outputs": [],
   "source": [
    "# Interpolate missing values\n",
    "df_interpolated = df.interpolate()"
   ]
  },
  {
   "cell_type": "code",
   "execution_count": null,
   "id": "6be0d29c",
   "metadata": {},
   "outputs": [],
   "source": [
    "# Forward fill missing values\n",
    "df_ffill = df.fillna(method='ffill')"
   ]
  },
  {
   "cell_type": "code",
   "execution_count": null,
   "id": "e090eae0",
   "metadata": {},
   "outputs": [],
   "source": [
    "# Backward fill missing values\n",
    "df_bfill = df.fillna(method='bfill')"
   ]
  },
  {
   "cell_type": "markdown",
   "id": "35492a24",
   "metadata": {},
   "source": [
    "## Feature Engineering\n",
    "Create new features from existing data to enhance your analysis or model."
   ]
  },
  {
   "cell_type": "code",
   "execution_count": null,
   "id": "b50f839a",
   "metadata": {},
   "outputs": [],
   "source": [
    "# Create a new column based on existing columns\n",
    "df['total'] = df['column1'] + df['column2']"
   ]
  }
 ],
 "metadata": {
  "kernelspec": {
   "display_name": "Python 3",
   "language": "python",
   "name": "python3"
  },
  "language_info": {
   "name": "python",
   "version": "3.12.6"
  }
 },
 "nbformat": 4,
 "nbformat_minor": 5
}
