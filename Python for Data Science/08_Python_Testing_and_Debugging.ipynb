{
 "cells": [
  {
   "cell_type": "markdown",
   "id": "d7d6baf7",
   "metadata": {},
   "source": [
    "# Python Testing and Debugging\n",
    "This notebook covers unit testing, logging, debugging, and assertions with real-life use cases, best practices, and code examples."
   ]
  },
  {
   "cell_type": "markdown",
   "id": "a4726a72",
   "metadata": {},
   "source": [
    "## 1. Unit Testing\n",
    "**Definition:** Unit testing is the practice of testing small pieces of code (units) in isolation. Python's built-in `unittest` module is commonly used.\n",
    "\n",
    "**Syntax and Example:**"
   ]
  },
  {
   "cell_type": "code",
   "execution_count": null,
   "id": "97b9d7f1",
   "metadata": {},
   "outputs": [],
   "source": [
    "import unittest\n",
    "def add(a, b):\n",
    "    return a + b\n",
    "class TestAdd(unittest.TestCase):\n",
    "    def test_add_positive(self):\n",
    "        self.assertEqual(add(2, 3), 5)\n",
    "    def test_add_negative(self):\n",
    "        self.assertEqual(add(-1, -1), -2)\n",
    "suite = unittest.TestLoader().loadTestsFromTestCase(TestAdd)\n",
    "unittest.TextTestRunner().run(suite)"
   ]
  },
  {
   "cell_type": "markdown",
   "id": "155828c8",
   "metadata": {},
   "source": [
    "**Output:**\n",
    ". .\n",
    "----------------------------------------------------------------------\n",
    "Ran 2 tests in ...\n",
    "OK\n",
    "\n",
    "**Real-life use case:** Ensuring that a financial calculation function always returns correct results.\n",
    "\n",
    "**Common mistakes:** Not testing edge cases or only testing happy paths.\n",
    "\n",
    "**Best practices:** Write tests for all critical code paths and automate test execution."
   ]
  },
  {
   "cell_type": "markdown",
   "id": "fb8f3e70",
   "metadata": {},
   "source": [
    "## 2. Logging\n",
    "**Definition:** Logging is used to record events and errors during program execution. The `logging` module is flexible and configurable.\n",
    "\n",
    "**Syntax and Example:**"
   ]
  },
  {
   "cell_type": "code",
   "execution_count": null,
   "id": "0943c24a",
   "metadata": {},
   "outputs": [],
   "source": [
    "import logging\n",
    "logging.basicConfig(level=logging.INFO)\n",
    "def divide(a, b):\n",
    "    try:\n",
    "        result = a / b\n",
    "        logging.info(f'Result: {result}')\n",
    "        return result\n",
    "    except ZeroDivisionError:\n",
    "        logging.error('Attempted division by zero')\n",
    "        return None\n",
    "divide(10, 2)\n",
    "divide(5, 0)"
   ]
  },
  {
   "cell_type": "markdown",
   "id": "1380367f",
   "metadata": {},
   "source": [
    "**Output:**\n",
    "INFO:root:Result: 5.0\n",
    "ERROR:root:Attempted division by zero\n",
    "\n",
    "**Real-life use case:** Logging errors in a web server to troubleshoot issues.\n",
    "\n",
    "**Common mistakes:** Using print statements instead of logging or not setting log levels.\n",
    "\n",
    "**Best practices:** Use logging for all production code and configure log levels appropriately."
   ]
  },
  {
   "cell_type": "markdown",
   "id": "b316d2be",
   "metadata": {},
   "source": [
    "## 3. Debugging\n",
    "**Definition:** Debugging is the process of finding and fixing errors in code. The built-in `pdb` module provides an interactive debugger.\n",
    "\n",
    "**Syntax and Example:**"
   ]
  },
  {
   "cell_type": "code",
   "execution_count": null,
   "id": "021f2396",
   "metadata": {},
   "outputs": [],
   "source": [
    "def buggy_function(x):\n",
    "    y = x + 10\n",
    "    # import pdb; pdb.set_trace()  # Uncomment to start debugger here\n",
    "    return y\n",
    "buggy_function(5)"
   ]
  },
  {
   "cell_type": "markdown",
   "id": "87168d11",
   "metadata": {},
   "source": [
    "**Output:**\n",
    "15\n",
    "\n",
    "**Real-life use case:** Stepping through code to find the cause of a bug in a data processing pipeline.\n",
    "\n",
    "**Common mistakes:** Not using a debugger and relying only on print statements.\n",
    "\n",
    "**Best practices:** Use a debugger for complex bugs and to inspect program state."
   ]
  },
  {
   "cell_type": "markdown",
   "id": "b6af2852",
   "metadata": {},
   "source": [
    "## 4. Assertions\n",
    "**Definition:** Assertions are used to check if a condition is true. If not, an AssertionError is raised. Useful for catching bugs early.\n",
    "\n",
    "**Syntax and Example:**"
   ]
  },
  {
   "cell_type": "code",
   "execution_count": null,
   "id": "17046efe",
   "metadata": {},
   "outputs": [],
   "source": [
    "def get_positive_number(n):\n",
    "    assert n > 0, 'Number must be positive'\n",
    "    return n\n",
    "print(get_positive_number(5))\n",
    "# print(get_positive_number(-2))  # Raises AssertionError: Number must be positive"
   ]
  },
  {
   "cell_type": "code",
   "execution_count": null,
   "id": "2f286677",
   "metadata": {},
   "outputs": [],
   "source": [
    "def get_positive_number(n):\n",
    "    assert n > 0, 'Number must be positive'\n",
    "    return n\n",
    "\n",
    "print(get_positive_number(5))  # Output: 5\n",
    "# print(get_positive_number(-2))  # Raises AssertionError: Number must be positive"
   ]
  }
 ],
 "metadata": {
  "language_info": {
   "name": "python"
  }
 },
 "nbformat": 4,
 "nbformat_minor": 5
}
