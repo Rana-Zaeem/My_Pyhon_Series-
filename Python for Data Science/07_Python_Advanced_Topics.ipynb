{
 "cells": [
  {
   "cell_type": "markdown",
   "id": "a322729a",
   "metadata": {},
   "source": [
    "# Python Advanced Topics\n",
    "This notebook covers advanced Python concepts with real-life use cases, best practices, and code examples."
   ]
  },
  {
   "cell_type": "markdown",
   "id": "8d43663f",
   "metadata": {},
   "source": [
    "## 1. Decorators\n",
    "**Definition:** Decorators are functions that modify the behavior of other functions or methods. They are widely used for logging, access control, timing, and more.\n",
    "\n",
    "**Syntax and Example:**"
   ]
  },
  {
   "cell_type": "code",
   "execution_count": null,
   "id": "67ce9fd8",
   "metadata": {},
   "outputs": [],
   "source": [
    "def log_decorator(func):\n",
    "    def wrapper(*args, **kwargs):\n",
    "        print(f'Calling {func.__name__}')\n",
    "        result = func(*args, **kwargs)\n",
    "        print(f'Finished {func.__name__}')\n",
    "        return result\n",
    "    return wrapper\n",
    "\n",
    "@log_decorator\n",
    "def greet(name):\n",
    "    print(f'Hello, {name}!')\n",
    "\n",
    "greet('Alice')"
   ]
  },
  {
   "cell_type": "markdown",
   "id": "8f8afcf8",
   "metadata": {},
   "source": [
    "**Output:**\n",
    "Calling greet\n",
    "Hello, Alice!\n",
    "Finished greet\n",
    "\n",
    "**Real-life use case:** Use decorators to log API calls in a web application.\n",
    "\n",
    "**Common mistakes:** Forgetting to return the wrapper function or losing function metadata (use `functools.wraps`).\n",
    "\n",
    "**Best practices:** Use `functools.wraps` to preserve metadata."
   ]
  },
  {
   "cell_type": "markdown",
   "id": "79d96b7b",
   "metadata": {},
   "source": [
    "## 2. Generators\n",
    "**Definition:** Generators are functions that yield items one at a time, allowing for memory-efficient iteration over large datasets.\n",
    "\n",
    "**Syntax and Example:**"
   ]
  },
  {
   "cell_type": "code",
   "execution_count": null,
   "id": "62debf44",
   "metadata": {},
   "outputs": [],
   "source": [
    "def countdown(n):\n",
    "    while n > 0:\n",
    "        yield n\n",
    "        n -= 1\n",
    "\n",
    "for num in countdown(3):\n",
    "    print(num)"
   ]
  },
  {
   "cell_type": "markdown",
   "id": "24005e53",
   "metadata": {},
   "source": [
    "**Output:**\n",
    "3\n",
    "2\n",
    "1\n",
    "\n",
    "**Real-life use case:** Reading large files line by line without loading the entire file into memory.\n",
    "\n",
    "**Common mistakes:** Forgetting to use `yield` or trying to access all values at once.\n",
    "\n",
    "**Best practices:** Use generators for large or infinite sequences."
   ]
  },
  {
   "cell_type": "markdown",
   "id": "8cbb7e88",
   "metadata": {},
   "source": [
    "## 3. Comprehensions\n",
    "**Definition:** Comprehensions provide a concise way to create lists, sets, and dictionaries.\n",
    "\n",
    "**Syntax and Example:**"
   ]
  },
  {
   "cell_type": "code",
   "execution_count": null,
   "id": "85e3ac1e",
   "metadata": {},
   "outputs": [],
   "source": [
    "# List comprehension\n",
    "evens = [x for x in range(10) if x % 2 == 0]\n",
    "print(evens)\n",
    "# Set comprehension\n",
    "squares = {x**2 for x in range(5)}\n",
    "print(squares)\n",
    "# Dict comprehension\n",
    "square_map = {x: x**2 for x in range(3)}\n",
    "print(square_map)"
   ]
  },
  {
   "cell_type": "markdown",
   "id": "798ccdb7",
   "metadata": {},
   "source": [
    "**Output:**\n",
    "[0, 2, 4, 6, 8]\n",
    "{0, 1, 4, 9, 16}\n",
    "{0: 0, 1: 1, 2: 4}\n",
    "\n",
    "**Real-life use case:** Quickly filter and transform data in a single line (e.g., extracting emails from a list of users).\n",
    "\n",
    "**Common mistakes:** Overusing comprehensions for complex logic, making code hard to read.\n",
    "\n",
    "**Best practices:** Use comprehensions for simple, readable transformations."
   ]
  },
  {
   "cell_type": "markdown",
   "id": "3f060655",
   "metadata": {},
   "source": [
    "## 4. Context Managers\n",
    "**Definition:** Context managers handle setup and cleanup actions, often used with the `with` statement (e.g., file handling).\n",
    "\n",
    "**Syntax and Example:**"
   ]
  },
  {
   "cell_type": "code",
   "execution_count": null,
   "id": "240cb8b9",
   "metadata": {},
   "outputs": [],
   "source": [
    "with open('sample.txt', 'w') as f:\n",
    "    f.write('Hello!')\n",
    "# File is automatically closed after the block"
   ]
  },
  {
   "cell_type": "markdown",
   "id": "6d38ebe1",
   "metadata": {},
   "source": [
    "**Output:** (Creates 'sample.txt' with content 'Hello!')\n",
    "\n",
    "**Real-life use case:** Managing database connections or file resources.\n",
    "\n",
    "**Common mistakes:** Not using `with` for resources that need cleanup.\n",
    "\n",
    "**Best practices:** Always use context managers for resource management."
   ]
  },
  {
   "cell_type": "markdown",
   "id": "43425e70",
   "metadata": {},
   "source": [
    "## 5. Type Hints\n",
    "**Definition:** Type hints document the expected types of function arguments and return values, improving code readability and tooling support.\n",
    "\n",
    "**Syntax and Example:**"
   ]
  },
  {
   "cell_type": "code",
   "execution_count": null,
   "id": "be06e321",
   "metadata": {},
   "outputs": [],
   "source": [
    "def add(x: int, y: int) -> int:\n",
    "    return x + y\n",
    "print(add(2, 3))"
   ]
  },
  {
   "cell_type": "markdown",
   "id": "af98fbb7",
   "metadata": {},
   "source": [
    "**Output:**\n",
    "5\n",
    "\n",
    "**Real-life use case:** Large codebases where type hints help with code maintenance and static analysis.\n",
    "\n",
    "**Common mistakes:** Ignoring type hints or using them inconsistently.\n",
    "\n",
    "**Best practices:** Use type hints consistently for public APIs."
   ]
  },
  {
   "cell_type": "markdown",
   "id": "7c511bfc",
   "metadata": {},
   "source": [
    "## 6. Virtual Environments\n",
    "**Definition:** Virtual environments allow you to manage project-specific dependencies, avoiding conflicts between packages.\n",
    "\n",
    "**Syntax and Example:** (run in terminal)\n",
    "```\n",
    "python -m venv myenv\n",
    "# Windows:\n",
    "myenv\\Scripts\\activate\n",
    "# macOS/Linux:\n",
    "source myenv/bin/activate\n",
    "```\n",
    "**Real-life use case:** Isolating dependencies for different projects (e.g., web app vs. data science project).\n",
    "\n",
    "**Common mistakes:** Installing packages globally, leading to version conflicts.\n",
    "\n",
    "**Best practices:** Always use a virtual environment for each project."
   ]
  },
  {
   "cell_type": "markdown",
   "id": "1476ef98",
   "metadata": {},
   "source": [
    "## 7. Package Management\n",
    "\n",
    "Use `pip` to install, upgrade, and remove Python packages. Always use a requirements.txt file for reproducibility.\n",
    "\n",
    "**Example:**\n",
    "```bash\n",
    "pip install numpy\n",
    "pip freeze > requirements.txt\n",
    "pip install -r requirements.txt\n",
    "```"
   ]
  }
 ],
 "metadata": {
  "language_info": {
   "name": "python"
  }
 },
 "nbformat": 4,
 "nbformat_minor": 5
}
