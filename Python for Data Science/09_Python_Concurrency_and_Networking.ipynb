{
 "cells": [
  {
   "cell_type": "markdown",
   "id": "79547f5c",
   "metadata": {},
   "source": [
    "# Python Concurrency and Networking\n",
    "This notebook covers threading, multiprocessing, async/await, sockets, and HTTP requests with real-life use cases, best practices, and code examples."
   ]
  },
  {
   "cell_type": "markdown",
   "id": "316b795c",
   "metadata": {},
   "source": [
    "## 1. Threading\n",
    "**Definition:** Threading allows concurrent execution of code, useful for I/O-bound tasks.\n",
    "\n",
    "**Syntax and Example:**"
   ]
  },
  {
   "cell_type": "code",
   "execution_count": null,
   "id": "6875210f",
   "metadata": {},
   "outputs": [],
   "source": [
    "import threading\n",
    "import time\n",
    "def print_numbers():\n",
    "    for i in range(3):\n",
    "        print(f'Thread: {i}')\n",
    "        time.sleep(1)\n",
    "t = threading.Thread(target=print_numbers)\n",
    "t.start()\n",
    "t.join()"
   ]
  },
  {
   "cell_type": "markdown",
   "id": "5bb4d36e",
   "metadata": {},
   "source": [
    "**Output:**\n",
    "Thread: 0\n",
    "Thread: 1\n",
    "Thread: 2\n",
    "\n",
    "**Real-life use case:** Downloading multiple files at the same time.\n",
    "\n",
    "**Common mistakes:** Not using locks for shared data, leading to race conditions.\n",
    "\n",
    "**Best practices:** Use threading for I/O-bound tasks and use locks for shared resources."
   ]
  },
  {
   "cell_type": "markdown",
   "id": "450e9393",
   "metadata": {},
   "source": [
    "## 2. Multiprocessing\n",
    "**Definition:** Multiprocessing runs code in separate processes, ideal for CPU-bound tasks.\n",
    "\n",
    "**Syntax and Example:**"
   ]
  },
  {
   "cell_type": "code",
   "execution_count": null,
   "id": "694421d6",
   "metadata": {},
   "outputs": [],
   "source": [
    "import multiprocessing\n",
    "def square(x):\n",
    "    return x * x\n",
    "if __name__ == '__main__':\n",
    "    with multiprocessing.Pool(2) as pool:\n",
    "        results = pool.map(square, [1, 2, 3, 4])\n",
    "        print(results)"
   ]
  },
  {
   "cell_type": "markdown",
   "id": "f0c89cac",
   "metadata": {},
   "source": [
    "**Output:**\n",
    "[1, 4, 9, 16]\n",
    "\n",
    "**Real-life use case:** Image processing or data analysis on large datasets.\n",
    "\n",
    "**Common mistakes:** Sharing state between processes (each process has its own memory space).\n",
    "\n",
    "**Best practices:** Use multiprocessing for CPU-bound tasks and avoid sharing state."
   ]
  },
  {
   "cell_type": "markdown",
   "id": "f45ed896",
   "metadata": {},
   "source": [
    "## 3. Async/Await\n",
    "**Definition:** Async/await enables asynchronous programming, useful for high-performance I/O-bound code.\n",
    "\n",
    "**Syntax and Example:**"
   ]
  },
  {
   "cell_type": "code",
   "execution_count": null,
   "id": "f3a2b767",
   "metadata": {},
   "outputs": [],
   "source": [
    "import asyncio\n",
    "async def say_hello():\n",
    "    await asyncio.sleep(1)\n",
    "    print('Hello after 1 second')\n",
    "asyncio.run(say_hello())"
   ]
  },
  {
   "cell_type": "markdown",
   "id": "b7e6682b",
   "metadata": {},
   "source": [
    "**Output:**\n",
    "Hello after 1 second\n",
    "\n",
    "**Real-life use case:** Handling thousands of simultaneous web requests in a web server.\n",
    "\n",
    "**Common mistakes:** Mixing blocking code with async code.\n",
    "\n",
    "**Best practices:** Use async for I/O-bound, high-concurrency tasks."
   ]
  },
  {
   "cell_type": "markdown",
   "id": "98bef1e3",
   "metadata": {},
   "source": [
    "## 4. Sockets\n",
    "**Definition:** Sockets allow low-level network communication. Useful for building custom network protocols.\n",
    "\n",
    "**Syntax and Example:** (Client)"
   ]
  },
  {
   "cell_type": "code",
   "execution_count": null,
   "id": "a63cded0",
   "metadata": {},
   "outputs": [],
   "source": [
    "import socket\n",
    "def simple_client():\n",
    "    s = socket.socket(socket.AF_INET, socket.SOCK_STREAM)\n",
    "    s.connect(('example.com', 80))\n",
    "    s.sendall(b'GET / HTTP/1.1\\r\\nHost: example.com\\r\\n\\r\\n')\n",
    "    response = s.recv(1024)\n",
    "    print(response.decode('utf-8'))\n",
    "    s.close()\n",
    "# simple_client()  # Uncomment to run (requires internet access)"
   ]
  },
  {
   "cell_type": "markdown",
   "id": "bb13c9f5",
   "metadata": {},
   "source": [
    "**Output:**\n",
    "HTTP/1.1 200 OK ... (HTML content)\n",
    "\n",
    "**Real-life use case:** Building a chat application or custom server.\n",
    "\n",
    "**Common mistakes:** Not closing sockets or handling partial data.\n",
    "\n",
    "**Best practices:** Always close sockets and handle exceptions."
   ]
  },
  {
   "cell_type": "markdown",
   "id": "46f7c61d",
   "metadata": {},
   "source": [
    "## 5. HTTP Requests (requests library)\n",
    "**Definition:** The `requests` library is a user-friendly way to make HTTP requests in Python.\n",
    "\n",
    "**Syntax and Example:**"
   ]
  },
  {
   "cell_type": "code",
   "execution_count": null,
   "id": "ffec31dd",
   "metadata": {},
   "outputs": [],
   "source": [
    "import requests\n",
    "response = requests.get('https://api.github.com')\n",
    "print(response.status_code)\n",
    "print(response.json())"
   ]
  },
  {
   "cell_type": "code",
   "execution_count": null,
   "id": "d38fa0b2",
   "metadata": {},
   "outputs": [],
   "source": [
    "import requests\n",
    "response = requests.get('https://api.github.com')\n",
    "print(response.status_code)  # Output: 200\n",
    "print(response.json())  # Output: JSON data from GitHub API"
   ]
  }
 ],
 "metadata": {
  "language_info": {
   "name": "python"
  }
 },
 "nbformat": 4,
 "nbformat_minor": 5
}
