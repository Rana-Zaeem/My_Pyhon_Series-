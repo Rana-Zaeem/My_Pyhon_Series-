{
 "cells": [
  {
   "cell_type": "markdown",
   "id": "497b5ea1",
   "metadata": {},
   "source": [
    "# Statistical Analysis in Python\n",
    "\n",
    "This notebook covers essential concepts and techniques for statistical analysis using Python. You'll learn how to describe, explore, and infer from data using libraries like NumPy, pandas, SciPy, and statsmodels.\n",
    "\n",
    "## Topics Covered:\n",
    "1. Introduction to Statistical Analysis\n",
    "2. Descriptive Statistics\n",
    "3. Probability Distributions\n",
    "4. Inferential Statistics (Hypothesis Testing)\n",
    "5. Correlation and Covariance\n",
    "6. Regression Analysis\n",
    "7. ANOVA and Group Comparisons\n",
    "8. Real-Life Use Cases and Best Practices\n",
    "9. Effect Size and Confidence Intervals\n",
    "10. Non-Parametric Tests\n",
    "11. Categorical Data Analysis (Chi-Square Test)\n",
    "12. Practical Exercises"
   ]
  },
  {
   "cell_type": "markdown",
   "id": "b7013eb3",
   "metadata": {},
   "source": [
    "## 1. Introduction to Statistical Analysis\n",
    "\n",
    "Statistical analysis helps us summarize, interpret, and draw conclusions from data. It is foundational for data science, business analytics, scientific research, and more.\n",
    "\n",
    "**Real-life use case:** A healthcare analyst uses statistical analysis to determine if a new drug is more effective than the current standard treatment."
   ]
  },
  {
   "cell_type": "code",
   "execution_count": null,
   "id": "9273ac1d",
   "metadata": {},
   "outputs": [],
   "source": [
    "# Import required libraries\n",
    "import numpy as np\n",
    "import pandas as pd\n",
    "import scipy.stats as stats\n",
    "import statsmodels.api as sm\n",
    "import matplotlib.pyplot as plt\n",
    "import seaborn as sns"
   ]
  },
  {
   "cell_type": "markdown",
   "id": "4c8c1364",
   "metadata": {},
   "source": [
    "## 2. Descriptive Statistics\n",
    "\n",
    "Descriptive statistics summarize and describe the main features of a dataset. Common measures include mean, median, mode, variance, and standard deviation.\n",
    "\n",
    "**Real-life use case:** A school administrator summarizes students' test scores to understand overall performance."
   ]
  },
  {
   "cell_type": "code",
   "execution_count": null,
   "id": "09a04f2a",
   "metadata": {},
   "outputs": [],
   "source": [
    "# Create a sample dataset\n",
    "data = np.random.normal(loc=70, scale=10, size=100)\n",
    "df = pd.DataFrame({'score': data})\n",
    "\n",
    "# Calculate descriptive statistics\n",
    "mean = df['score'].mean()\n",
    "median = df['score'].median()\n",
    "mode = df['score'].mode()[0]\n",
    "std = df['score'].std()\n",
    "var = df['score'].var()\n",
    "\n",
    "print(f'Mean: {mean:.2f}, Median: {median:.2f}, Mode: {mode:.2f}, Std: {std:.2f}, Var: {var:.2f}')\n",
    "\n",
    "# Visualize the distribution\n",
    "plt.figure(figsize=(8, 4))\n",
    "sns.histplot(df['score'], kde=True)\n",
    "plt.title('Distribution of Scores')\n",
    "plt.xlabel('Score')\n",
    "plt.ylabel('Frequency')\n",
    "plt.show()"
   ]
  },
  {
   "cell_type": "markdown",
   "id": "0fb354c7",
   "metadata": {},
   "source": [
    "## 3. Probability Distributions\n",
    "\n",
    "Probability distributions describe how values are distributed. Common distributions include normal, binomial, and Poisson.\n",
    "\n",
    "**Real-life use case:** A manufacturer models the probability of defects in a batch using the binomial distribution."
   ]
  },
  {
   "cell_type": "code",
   "execution_count": null,
   "id": "06bb7c65",
   "metadata": {},
   "outputs": [],
   "source": [
    "# Normal distribution example\n",
    "x = np.linspace(-4, 4, 100)\n",
    "y = stats.norm.pdf(x, loc=0, scale=1)\n",
    "plt.plot(x, y, label='Normal Distribution')\n",
    "plt.title('Normal Distribution (mean=0, std=1)')\n",
    "plt.xlabel('x')\n",
    "plt.ylabel('Probability Density')\n",
    "plt.legend()\n",
    "plt.show()\n",
    "\n",
    "# Binomial distribution example\n",
    "n, p = 10, 0.3\n",
    "binom_rv = stats.binom(n, p)\n",
    "x = np.arange(0, n+1)\n",
    "plt.bar(x, binom_rv.pmf(x))\n",
    "plt.title('Binomial Distribution (n=10, p=0.3)')\n",
    "plt.xlabel('Number of Successes')\n",
    "plt.ylabel('Probability')\n",
    "plt.show()"
   ]
  },
  {
   "cell_type": "markdown",
   "id": "1a3a8e7b",
   "metadata": {},
   "source": [
    "## 4. Inferential Statistics (Hypothesis Testing)\n",
    "\n",
    "Inferential statistics allow us to make conclusions about a population based on a sample. Hypothesis testing is used to determine if observed differences are statistically significant.\n",
    "\n",
    "**Real-life use case:** A marketing team tests if a new ad campaign increases sales compared to the previous campaign."
   ]
  },
  {
   "cell_type": "code",
   "execution_count": null,
   "id": "27dbd464",
   "metadata": {},
   "outputs": [],
   "source": [
    "# Example: One-sample t-test\n",
    "sample = np.random.normal(loc=72, scale=10, size=30)\n",
    "t_stat, p_value = stats.ttest_1samp(sample, popmean=70)\n",
    "print(f'T-statistic: {t_stat:.2f}, p-value: {p_value:.4f}')\n",
    "if p_value < 0.05:\n",
    "    print('Result: Statistically significant difference from mean 70')\n",
    "else:\n",
    "    print('Result: No significant difference from mean 70')"
   ]
  },
  {
   "cell_type": "markdown",
   "id": "cc4d2031",
   "metadata": {},
   "source": [
    "## 5. Correlation and Covariance\n",
    "\n",
    "Correlation measures the strength and direction of a linear relationship between two variables. Covariance measures how two variables change together.\n",
    "\n",
    "**Real-life use case:** An economist studies the correlation between education level and income."
   ]
  },
  {
   "cell_type": "code",
   "execution_count": null,
   "id": "84a400f7",
   "metadata": {},
   "outputs": [],
   "source": [
    "# Create two related variables\n",
    "np.random.seed(0)\n",
    "x = np.random.normal(50, 10, 100)\n",
    "y = 2 * x + np.random.normal(0, 10, 100)\n",
    "\n",
    "df_corr = pd.DataFrame({'x': x, 'y': y})\n",
    "corr = df_corr.corr().iloc[0, 1]\n",
    "cov = df_corr.cov().iloc[0, 1]\n",
    "print(f'Correlation: {corr:.2f}, Covariance: {cov:.2f}')\n",
    "\n",
    "plt.figure(figsize=(6, 4))\n",
    "sns.scatterplot(x='x', y='y', data=df_corr)\n",
    "plt.title('Scatter Plot of x and y')\n",
    "plt.show()"
   ]
  },
  {
   "cell_type": "markdown",
   "id": "3d4053ce",
   "metadata": {},
   "source": [
    "## 6. Regression Analysis\n",
    "\n",
    "Regression analysis models the relationship between a dependent variable and one or more independent variables. Linear regression is the most common type.\n",
    "\n",
    "**Real-life use case:** A real estate agent predicts house prices based on features like size, location, and number of bedrooms."
   ]
  },
  {
   "cell_type": "code",
   "execution_count": null,
   "id": "edcfcb8e",
   "metadata": {},
   "outputs": [],
   "source": [
    "# Simple linear regression with statsmodels\n",
    "X = sm.add_constant(df_corr['x'])\n",
    "model = sm.OLS(df_corr['y'], X).fit()\n",
    "print(model.summary())\n",
    "\n",
    "# Plot regression line\n",
    "plt.figure(figsize=(6, 4))\n",
    "sns.scatterplot(x='x', y='y', data=df_corr, label='Data')\n",
    "plt.plot(df_corr['x'], model.predict(X), color='red', label='Regression Line')\n",
    "plt.title('Linear Regression Fit')\n",
    "plt.legend()\n",
    "plt.show()"
   ]
  },
  {
   "cell_type": "markdown",
   "id": "3c7f9d94",
   "metadata": {},
   "source": [
    "## 7. ANOVA and Group Comparisons\n",
    "\n",
    "ANOVA (Analysis of Variance) tests whether there are significant differences between the means of three or more groups.\n",
    "\n",
    "**Real-life use case:** An HR analyst compares average salaries across different departments."
   ]
  },
  {
   "cell_type": "code",
   "execution_count": null,
   "id": "07b0b3c0",
   "metadata": {},
   "outputs": [],
   "source": [
    "# Create sample data for three groups\n",
    "group1 = np.random.normal(70, 5, 30)\n",
    "group2 = np.random.normal(75, 5, 30)\n",
    "group3 = np.random.normal(80, 5, 30)\n",
    "\n",
    "f_stat, p_val = stats.f_oneway(group1, group2, group3)\n",
    "print(f'ANOVA F-statistic: {f_stat:.2f}, p-value: {p_val:.4f}')\n",
    "if p_val < 0.05:\n",
    "    print('Result: At least one group mean is significantly different')\n",
    "else:\n",
    "    print('Result: No significant difference between group means')"
   ]
  },
  {
   "cell_type": "markdown",
   "id": "391ccd88",
   "metadata": {},
   "source": [
    "## 8. Real-Life Use Cases and Best Practices\n",
    "\n",
    "- **Healthcare:** Clinical trials use hypothesis testing to validate new treatments.\n",
    "- **Business:** A/B testing for website optimization uses t-tests and ANOVA.\n",
    "- **Finance:** Portfolio managers use correlation and regression to manage risk.\n",
    "- **Social Science:** Surveys use descriptive and inferential statistics to draw conclusions about populations.\n",
    "\n",
    "### Best Practices:\n",
    "- Always visualize your data before and after analysis.\n",
    "- Check assumptions (normality, independence, etc.) before applying statistical tests.\n",
    "- Report effect sizes and confidence intervals, not just p-values.\n",
    "- Use appropriate statistical methods for your data type and research question."
   ]
  },
  {
   "cell_type": "markdown",
   "id": "7481fdb8",
   "metadata": {},
   "source": [
    "## 9. Effect Size and Confidence Intervals\n",
    "\n",
    "Effect size quantifies the magnitude of a difference, while confidence intervals provide a range of plausible values for a parameter.\n",
    "\n",
    "**Real-life use case:** Reporting the effect of a new teaching method on student scores, not just whether the difference is significant."
   ]
  },
  {
   "cell_type": "code",
   "execution_count": null,
   "id": "8ccb0667",
   "metadata": {},
   "outputs": [],
   "source": [
    "# Calculate Cohen's d for effect size\n",
    "group_a = np.random.normal(70, 10, 50)\n",
    "group_b = np.random.normal(75, 10, 50)\n",
    "mean_diff = group_a.mean() - group_b.mean()\n",
    "pooled_std = np.sqrt(((group_a.std() ** 2) + (group_b.std() ** 2)) / 2)\n",
    "cohens_d = mean_diff / pooled_std\n",
    "print(f\"Cohen's d: {cohens_d:.2f}\")\n",
    "\n",
    "# Confidence interval for the mean\n",
    "import scipy.stats as stats\n",
    "conf_int = stats.t.interval(0.95, len(group_a)-1, loc=group_a.mean(), scale=stats.sem(group_a))\n",
    "print(f'95% Confidence interval for group_a mean: {conf_int}')"
   ]
  },
  {
   "cell_type": "markdown",
   "id": "22ba2222",
   "metadata": {},
   "source": [
    "## 10. Non-Parametric Tests\n",
    "\n",
    "Non-parametric tests are used when data doesn't meet the assumptions of parametric tests (e.g., normality).\n",
    "\n",
    "**Real-life use case:** Comparing customer satisfaction ratings (ordinal data) between two stores."
   ]
  },
  {
   "cell_type": "code",
   "execution_count": null,
   "id": "2fc17c3f",
   "metadata": {},
   "outputs": [],
   "source": [
    "# Mann-Whitney U test (non-parametric alternative to t-test)\n",
    "ratings_store1 = np.random.randint(1, 6, 30)\n",
    "ratings_store2 = np.random.randint(2, 6, 30)\n",
    "u_stat, p_val = stats.mannwhitneyu(ratings_store1, ratings_store2)\n",
    "print(f'Mann-Whitney U statistic: {u_stat}, p-value: {p_val:.4f}')"
   ]
  },
  {
   "cell_type": "markdown",
   "id": "8f18ba65",
   "metadata": {},
   "source": [
    "## 11. Categorical Data Analysis (Chi-Square Test)\n",
    "\n",
    "Chi-square tests are used to examine relationships between categorical variables.\n",
    "\n",
    "**Real-life use case:** Testing if product preference is independent of gender."
   ]
  },
  {
   "cell_type": "code",
   "execution_count": null,
   "id": "0ecea42d",
   "metadata": {},
   "outputs": [],
   "source": [
    "# Create a contingency table\n",
    "obs = np.array([[30, 10], [20, 40]])  # e.g., [Male, Female] x [Product A, Product B]\n",
    "chi2, p, dof, expected = stats.chi2_contingency(obs)\n",
    "print(f'Chi-square statistic: {chi2:.2f}, p-value: {p:.4f}')\n",
    "print('Expected frequencies:', expected)"
   ]
  },
  {
   "cell_type": "markdown",
   "id": "acc02da6",
   "metadata": {},
   "source": [
    "## 12. Practical Exercises\n",
    "\n",
    "Try these exercises to reinforce your understanding:\n",
    "\n",
    "1. Calculate and interpret the effect size for two groups of your own data.\n",
    "2. Use a non-parametric test to compare two samples that are not normally distributed.\n",
    "3. Analyze a real or simulated contingency table using the chi-square test.\n",
    "4. Visualize the confidence interval for a sample mean using matplotlib.\n",
    "5. Find a real dataset and perform a full statistical analysis: descriptive stats, hypothesis test, effect size, and visualization."
   ]
  }
 ],
 "metadata": {
  "language_info": {
   "name": "python"
  }
 },
 "nbformat": 4,
 "nbformat_minor": 5
}
