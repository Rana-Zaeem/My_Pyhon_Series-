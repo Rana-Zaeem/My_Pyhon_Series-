{
 "cells": [
  {
   "cell_type": "markdown",
   "id": "5f01e102",
   "metadata": {},
   "source": [
    "# Python Basics for Data Science\n",
    "\n",
    "This notebook covers all essential Python basics required for data science, including definitions, code examples, and real-life uses."
   ]
  },
  {
   "cell_type": "markdown",
   "id": "1a086db7",
   "metadata": {},
   "source": [
    "## 1. Variables and Data Types\n",
    "Variables store data. Python supports types like int, float, str, and bool.\n",
    "\n",
    "**Real-life use:** Storing user age, product price, or a name."
   ]
  },
  {
   "cell_type": "code",
   "execution_count": 1,
   "id": "bacd2dd5",
   "metadata": {},
   "outputs": [
    {
     "name": "stdout",
     "output_type": "stream",
     "text": [
      "<class 'int'> <class 'float'> <class 'str'> <class 'bool'>\n"
     ]
    }
   ],
   "source": [
    "age = 30  # int\n",
    "price = 19.99  # float\n",
    "name = 'Alice'  # str\n",
    "is_active = True  # bool\n",
    "print(type(age), type(price), type(name), type(is_active))"
   ]
  },
  {
   "cell_type": "markdown",
   "id": "141f0354",
   "metadata": {},
   "source": [
    "## 2. Basic Operators\n",
    "Operators perform operations on variables and values.\n",
    "\n",
    "**Real-life use:** Calculating total price, discounts, or averages."
   ]
  },
  {
   "cell_type": "code",
   "execution_count": 2,
   "id": "838f4334",
   "metadata": {},
   "outputs": [
    {
     "name": "stdout",
     "output_type": "stream",
     "text": [
      "Addition: 13\n",
      "Division: 3.3333333333333335\n",
      "Exponent: 1000\n"
     ]
    }
   ],
   "source": [
    "a = 10\n",
    "b = 3\n",
    "print('Addition:', a + b)\n",
    "print('Division:', a / b)\n",
    "print('Exponent:', a ** b)"
   ]
  },
  {
   "cell_type": "markdown",
   "id": "48b35f33",
   "metadata": {},
   "source": [
    "## 3. Control Flow: if, elif, else\n",
    "Control flow lets you make decisions in code.\n",
    "\n",
    "**Real-life use:** Checking if a user is old enough to access a service."
   ]
  },
  {
   "cell_type": "code",
   "execution_count": 3,
   "id": "b8bfb7dd",
   "metadata": {},
   "outputs": [
    {
     "name": "stdout",
     "output_type": "stream",
     "text": [
      "Adult\n"
     ]
    }
   ],
   "source": [
    "age = 18\n",
    "if age >= 18:\n",
    "    print('Adult')\n",
    "else:\n",
    "    print('Minor')"
   ]
  },
  {
   "cell_type": "markdown",
   "id": "7c04b89c",
   "metadata": {},
   "source": [
    "## 4. Loops: for and while\n",
    "Loops repeat actions. `for` is used for iterating, `while` for repeating until a condition is met.\n",
    "\n",
    "**Real-life use:** Processing all rows in a dataset."
   ]
  },
  {
   "cell_type": "code",
   "execution_count": 4,
   "id": "f2683f7e",
   "metadata": {},
   "outputs": [
    {
     "name": "stdout",
     "output_type": "stream",
     "text": [
      "Iteration 0\n",
      "Iteration 1\n",
      "Iteration 2\n",
      "Count: 0\n",
      "Count: 1\n",
      "Count: 2\n"
     ]
    }
   ],
   "source": [
    "for i in range(3):\n",
    "    print('Iteration', i)\n",
    "\n",
    "count = 0\n",
    "while count < 3:\n",
    "    print('Count:', count)\n",
    "    count += 1"
   ]
  },
  {
   "cell_type": "markdown",
   "id": "3484de56",
   "metadata": {},
   "source": [
    "## 5. Functions and Lambda Expressions\n",
    "Functions organize code into reusable blocks. Lambda creates small anonymous functions.\n",
    "\n",
    "**Real-life use:** Data cleaning, feature engineering."
   ]
  },
  {
   "cell_type": "code",
   "execution_count": 5,
   "id": "1eaea95e",
   "metadata": {},
   "outputs": [
    {
     "name": "stdout",
     "output_type": "stream",
     "text": [
      "25\n",
      "36\n"
     ]
    }
   ],
   "source": [
    "def square(x):\n",
    "    return x * x\n",
    "\n",
    "print(square(5))\n",
    "\n",
    "square_lambda = lambda x: x * x\n",
    "print(square_lambda(6))"
   ]
  },
  {
   "cell_type": "markdown",
   "id": "ab001356",
   "metadata": {},
   "source": [
    "## 6. List, Tuple, and Dictionary Operations\n",
    "Lists, tuples, and dictionaries store collections of data.\n",
    "\n",
    "**Real-life use:** Storing columns of data, mapping names to values."
   ]
  },
  {
   "cell_type": "code",
   "execution_count": 6,
   "id": "e2d530c7",
   "metadata": {},
   "outputs": [
    {
     "name": "stdout",
     "output_type": "stream",
     "text": [
      "1 5 1\n"
     ]
    }
   ],
   "source": [
    "my_list = [1, 2, 3]\n",
    "my_tuple = (4, 5, 6)\n",
    "my_dict = {'a': 1, 'b': 2}\n",
    "print(my_list[0], my_tuple[1], my_dict['a'])"
   ]
  },
  {
   "cell_type": "markdown",
   "id": "ea610a14",
   "metadata": {},
   "source": [
    "## 7. String Manipulation\n",
    "Strings are text data. You can slice, format, and search them.\n",
    "\n",
    "**Real-life use:** Parsing CSV files, cleaning text data."
   ]
  },
  {
   "cell_type": "code",
   "execution_count": 7,
   "id": "c647fea0",
   "metadata": {},
   "outputs": [
    {
     "name": "stdout",
     "output_type": "stream",
     "text": [
      "data science\n",
      "Data_Science\n"
     ]
    }
   ],
   "source": [
    "text = 'Data Science'\n",
    "print(text.lower())\n",
    "print(text.replace(' ', '_'))"
   ]
  },
  {
   "cell_type": "markdown",
   "id": "c24971ff",
   "metadata": {},
   "source": [
    "## 8. List Comprehensions\n",
    "List comprehensions create lists in a concise way.\n",
    "\n",
    "**Real-life use:** Creating new columns in dataframes."
   ]
  },
  {
   "cell_type": "code",
   "execution_count": 8,
   "id": "19ef023b",
   "metadata": {},
   "outputs": [
    {
     "name": "stdout",
     "output_type": "stream",
     "text": [
      "[0, 1, 4, 9, 16]\n"
     ]
    }
   ],
   "source": [
    "squares = [x**2 for x in range(5)]\n",
    "print(squares)"
   ]
  },
  {
   "cell_type": "markdown",
   "id": "f1a87e5a",
   "metadata": {},
   "source": [
    "## 9. Importing Libraries\n",
    "Libraries add extra functionality. Use `import` to include them.\n",
    "\n",
    "**Real-life use:** Importing pandas, numpy, matplotlib, etc."
   ]
  },
  {
   "cell_type": "code",
   "execution_count": 9,
   "id": "e7ff5ce8",
   "metadata": {},
   "outputs": [
    {
     "name": "stdout",
     "output_type": "stream",
     "text": [
      "4.0\n",
      "9\n"
     ]
    }
   ],
   "source": [
    "import math\n",
    "import random\n",
    "print(math.sqrt(16))\n",
    "print(random.randint(1, 10))"
   ]
  },
  {
   "cell_type": "markdown",
   "id": "0226dab1",
   "metadata": {},
   "source": [
    "## 10. File Handling\n",
    "Read and write files using Python's built-in functions.\n",
    "\n",
    "**Real-life use:** Loading datasets, saving results."
   ]
  },
  {
   "cell_type": "code",
   "execution_count": 10,
   "id": "d7e2e234",
   "metadata": {},
   "outputs": [
    {
     "name": "stdout",
     "output_type": "stream",
     "text": [
      "Hello, file!\n"
     ]
    }
   ],
   "source": [
    "with open('example.txt', 'w') as f:\n",
    "    f.write('Hello, file!')\n",
    "with open('example.txt', 'r') as f:\n",
    "    print(f.read())"
   ]
  },
  {
   "cell_type": "markdown",
   "id": "697e7400",
   "metadata": {},
   "source": [
    "## 11. Exception Handling\n",
    "Handle errors gracefully using try-except blocks.\n",
    "\n",
    "**Real-life use:** Handling missing files or invalid user input."
   ]
  },
  {
   "cell_type": "code",
   "execution_count": 11,
   "id": "8ccf1607",
   "metadata": {},
   "outputs": [
    {
     "name": "stdout",
     "output_type": "stream",
     "text": [
      "Cannot divide by zero!\n"
     ]
    }
   ],
   "source": [
    "try:\n",
    "    result = 10 / 0\n",
    "except ZeroDivisionError:\n",
    "    print('Cannot divide by zero!')"
   ]
  },
  {
   "cell_type": "markdown",
   "id": "1bff9fd8",
   "metadata": {},
   "source": [
    "## 12. Working with Dates and Times\n",
    "Use the `datetime` module to work with dates and times.\n",
    "\n",
    "**Real-life use:** Timestamping data, calculating durations."
   ]
  },
  {
   "cell_type": "code",
   "execution_count": null,
   "id": "30ad4c78",
   "metadata": {},
   "outputs": [
    {
     "name": "stdout",
     "output_type": "stream",
     "text": [
      "Current date and time: 2025-05-06 17:20:25.699884\n"
     ]
    }
   ],
   "source": [
    "from datetime import datetime, timedelta\n",
    "now = datetime.now()\n",
    "print('Current date and time:', now)\n",
    "\n",
    "# Date operations\n",
    "one_week_later = now + timedelta(days=7)\n",
    "print('One week from now:', one_week_later)\n",
    "\n",
    "# Format dates\n",
    "formatted_date = now.strftime('%Y-%m-%d %H:%M:%S')\n",
    "print('Formatted date:', formatted_date)"
   ]
  },
  {
   "cell_type": "markdown",
   "id": "6a0c1b20",
   "metadata": {},
   "source": [
    "## 13. Sets and Their Operations\n",
    "Sets are collections of unique elements with mathematical operations.\n",
    "\n",
    "**Real-life use:** Finding unique values, comparing groups, efficient membership testing."
   ]
  },
  {
   "cell_type": "code",
   "execution_count": null,
   "id": "1ae1e22f",
   "metadata": {},
   "outputs": [],
   "source": [
    "# Creating sets\n",
    "fruits = {'apple', 'banana', 'cherry'}\n",
    "citrus = {'orange', 'lemon', 'lime', 'cherry'}\n",
    "\n",
    "# Add and remove elements\n",
    "fruits.add('mango')\n",
    "fruits.remove('banana')\n",
    "print('Updated fruits:', fruits)\n",
    "\n",
    "# Set operations\n",
    "print('\\nUnion:', fruits | citrus)  # All elements from both sets\n",
    "print('Intersection:', fruits & citrus)  # Common elements\n",
    "print('Difference (fruits - citrus):', fruits - citrus)  # In fruits but not in citrus\n",
    "print('Symmetric difference:', fruits ^ citrus)  # In either set but not both\n",
    "\n",
    "# Membership testing (very efficient for large collections)\n",
    "print('\\nIs apple in fruits?', 'apple' in fruits)"
   ]
  },
  {
   "cell_type": "markdown",
   "id": "35f6101c",
   "metadata": {},
   "source": [
    "## 14. Advanced Dictionary Techniques\n",
    "Dictionaries can be used in sophisticated ways for data manipulation.\n",
    "\n",
    "**Real-life use:** Feature extraction, counting occurrences, grouping related data."
   ]
  },
  {
   "cell_type": "code",
   "execution_count": null,
   "id": "32694b91",
   "metadata": {},
   "outputs": [],
   "source": [
    "# Dictionary comprehensions\n",
    "squares_dict = {x: x**2 for x in range(1, 6)}\n",
    "print('Square dictionary:', squares_dict)\n",
    "\n",
    "# Default dictionaries\n",
    "from collections import defaultdict\n",
    "word_count = defaultdict(int)  # Default value is 0 for int\n",
    "text = \"data science is the science of data\"\n",
    "for word in text.split():\n",
    "    word_count[word] += 1\n",
    "print('\\nWord count:', dict(word_count))\n",
    "\n",
    "# Nested dictionaries\n",
    "employee_data = {\n",
    "    'Alice': {'department': 'Data Science', 'salary': 85000},\n",
    "    'Bob': {'department': 'Engineering', 'salary': 92000}\n",
    "}\n",
    "print(f\"\\nAlice's department: {employee_data['Alice']['department']}\")\n",
    "\n",
    "# Dictionary merging (Python 3.9+)\n",
    "dict1 = {'a': 1, 'b': 2}\n",
    "dict2 = {'b': 3, 'c': 4}\n",
    "merged = dict1 | dict2  # dict2 values override dict1 where keys overlap\n",
    "print('\\nMerged dictionary:', merged)"
   ]
  },
  {
   "cell_type": "markdown",
   "id": "c3de9bca",
   "metadata": {},
   "source": [
    "## 15. Generators and Iterators\n",
    "Generators produce values on-demand, saving memory for large datasets.\n",
    "\n",
    "**Real-life use:** Processing large files, creating data pipelines."
   ]
  },
  {
   "cell_type": "code",
   "execution_count": null,
   "id": "f5a22abe",
   "metadata": {},
   "outputs": [],
   "source": [
    "# Generator function\n",
    "def fibonacci(n):\n",
    "    a, b = 0, 1\n",
    "    for _ in range(n):\n",
    "        yield a\n",
    "        a, b = b, a + b\n",
    "\n",
    "# Using a generator\n",
    "fib_10 = list(fibonacci(10))\n",
    "print('First 10 Fibonacci numbers:', fib_10)\n",
    "\n",
    "# Generator expression\n",
    "even_squares = (x**2 for x in range(10) if x % 2 == 0)\n",
    "print('\\nEven squares:',)\n",
    "for square in even_squares:\n",
    "    print(square, end=' ')\n",
    "\n",
    "# Memory efficiency example\n",
    "def read_large_file(file_path):\n",
    "    \"\"\"A generator that yields lines from a file\"\"\"\n",
    "    with open(file_path, 'r') as file:\n",
    "        for line in file:\n",
    "            yield line.strip()\n",
    "\n",
    "# Would be used like this:\n",
    "# for line in read_large_file('huge_dataset.csv'):\n",
    "#     process(line)  # Process one line at a time"
   ]
  },
  {
   "cell_type": "markdown",
   "id": "19273c5a",
   "metadata": {},
   "source": [
    "## 16. Regular Expressions\n",
    "Regex patterns help search, replace, and validate text.\n",
    "\n",
    "**Real-life use:** Data cleaning, extraction, validation."
   ]
  },
  {
   "cell_type": "code",
   "execution_count": null,
   "id": "1fbd47e6",
   "metadata": {},
   "outputs": [],
   "source": [
    "import re\n",
    "\n",
    "# Finding patterns\n",
    "text = \"Contact us at info@example.com or support@company.org\"\n",
    "emails = re.findall(r'[\\w.+-]+@[\\w-]+\\.[\\w.-]+', text)\n",
    "print('Extracted emails:', emails)\n",
    "\n",
    "# Replacing patterns\n",
    "censored = re.sub(r'\\b[A-Za-z0-9._%+-]+@[A-Za-z0-9.-]+\\.[A-Z|a-z]{2,}\\b', '[EMAIL REDACTED]', text)\n",
    "print('\\nCensored text:', censored)\n",
    "\n",
    "# Validation\n",
    "def is_valid_phone(phone):\n",
    "    pattern = r'^(\\+\\d{1,3})?[-\\s]?\\(?\\d{3}\\)?[-\\s]?\\d{3}[-\\s]?\\d{4}$'\n",
    "    return bool(re.match(pattern, phone))\n",
    "\n",
    "phones = ['+1-555-123-4567', '123-456-7890', '5551234567', '12-34-567']\n",
    "for phone in phones:\n",
    "    print(f\"'{phone}' is valid: {is_valid_phone(phone)}\")"
   ]
  },
  {
   "cell_type": "markdown",
   "id": "efd81981",
   "metadata": {},
   "source": [
    "## 17. Map, Filter, and Reduce Functions\n",
    "Functional programming tools for data transformation.\n",
    "\n",
    "**Real-life use:** Batch processing, data transformation pipelines."
   ]
  },
  {
   "cell_type": "code",
   "execution_count": null,
   "id": "57106bef",
   "metadata": {},
   "outputs": [],
   "source": [
    "from functools import reduce\n",
    "\n",
    "# Map: apply function to each item\n",
    "numbers = [1, 2, 3, 4, 5]\n",
    "squares = list(map(lambda x: x**2, numbers))\n",
    "print('Squared numbers:', squares)\n",
    "\n",
    "# Filter: keep items that match condition\n",
    "even_numbers = list(filter(lambda x: x % 2 == 0, numbers))\n",
    "print('Even numbers:', even_numbers)\n",
    "\n",
    "# Reduce: accumulate values\n",
    "sum_result = reduce(lambda x, y: x + y, numbers)\n",
    "print('Sum of numbers:', sum_result)\n",
    "\n",
    "# Real-world example: data processing pipeline\n",
    "data = ['  alice  ', 'BOB', 'Charlie  ', '  DAVID']\n",
    "\n",
    "# Clean, filter and transform data in one pipeline\n",
    "processed = list(map(\n",
    "    lambda x: x.capitalize(),\n",
    "    filter(\n",
    "        lambda x: len(x.strip()) > 3,\n",
    "        map(lambda x: x.strip(), data)\n",
    "    )\n",
    "))\n",
    "print('\\nProcessed names:', processed)"
   ]
  },
  {
   "cell_type": "markdown",
   "id": "0fb3f53a",
   "metadata": {},
   "source": [
    "## 18. Context Managers with `with`\n",
    "Context managers ensure proper resource handling.\n",
    "\n",
    "**Real-life use:** File operations, database connections, API requests."
   ]
  },
  {
   "cell_type": "code",
   "execution_count": null,
   "id": "53ac6a8e",
   "metadata": {},
   "outputs": [],
   "source": [
    "# File handling with context manager\n",
    "with open('example.txt', 'w') as file:\n",
    "    file.write('This file will be closed automatically\\n')\n",
    "    file.write('Even if an error occurs')\n",
    "print('File is closed after with block:', file.closed)\n",
    "\n",
    "# Custom context manager\n",
    "from contextlib import contextmanager\n",
    "import time\n",
    "\n",
    "@contextmanager\n",
    "def timer():\n",
    "    \"\"\"Measure execution time of a code block\"\"\"\n",
    "    start = time.time()\n",
    "    try:\n",
    "        yield  # This is where the with-block's code executes\n",
    "    finally:\n",
    "        end = time.time()\n",
    "        print(f\"Execution took {end - start:.5f} seconds\")\n",
    "\n",
    "# Usage\n",
    "with timer():\n",
    "    # Simulate work\n",
    "    sum(i**2 for i in range(1000000))"
   ]
  },
  {
   "cell_type": "markdown",
   "id": "3dae9542",
   "metadata": {},
   "source": [
    "## 19. Object-Oriented Programming\n",
    "Classes allow you to create custom data types with behavior.\n",
    "\n",
    "**Real-life use:** Creating custom data structures, encapsulating logic."
   ]
  },
  {
   "cell_type": "code",
   "execution_count": null,
   "id": "c1badbb3",
   "metadata": {},
   "outputs": [],
   "source": [
    "# Define a class\n",
    "class DataPoint:\n",
    "    def __init__(self, x, y, label=None):\n",
    "        self.x = x\n",
    "        self.y = y\n",
    "        self.label = label\n",
    "        self._distance = None  # Private attribute\n",
    "        \n",
    "    def distance_from_origin(self):\n",
    "        \"\"\"Calculate distance from (0,0)\"\"\"\n",
    "        import math\n",
    "        if self._distance is None:  # Calculate only once\n",
    "            self._distance = math.sqrt(self.x**2 + self.y**2)\n",
    "        return self._distance\n",
    "    \n",
    "    def __repr__(self):\n",
    "        \"\"\"String representation\"\"\"\n",
    "        if self.label:\n",
    "            return f\"DataPoint({self.x}, {self.y}, '{self.label}')\"\n",
    "        return f\"DataPoint({self.x}, {self.y})\"\n",
    "\n",
    "# Class inheritance\n",
    "class LabeledDataPoint(DataPoint):\n",
    "    def is_outlier(self, threshold=5.0):\n",
    "        \"\"\"Check if point is far from origin\"\"\"\n",
    "        return self.distance_from_origin() > threshold\n",
    "\n",
    "# Using the classes\n",
    "points = [\n",
    "    DataPoint(1, 2, 'A'),\n",
    "    LabeledDataPoint(3, 4, 'B'),\n",
    "    LabeledDataPoint(10, 10, 'Outlier')\n",
    "]\n",
    "\n",
    "for p in points:\n",
    "    print(f\"{p} - Distance: {p.distance_from_origin():.2f}\")\n",
    "    if isinstance(p, LabeledDataPoint):\n",
    "        print(f\"  Is outlier: {p.is_outlier()}\")"
   ]
  },
  {
   "cell_type": "markdown",
   "id": "61321759",
   "metadata": {},
   "source": [
    "## 20. Error Handling Best Practices\n",
    "Proper error handling makes your code more robust.\n",
    "\n",
    "**Real-life use:** Making data pipelines resilient, graceful degradation."
   ]
  },
  {
   "cell_type": "code",
   "execution_count": null,
   "id": "b3e57583",
   "metadata": {},
   "outputs": [],
   "source": [
    "# Specific exception handling\n",
    "def safe_division(a, b):\n",
    "    try:\n",
    "        return a / b\n",
    "    except ZeroDivisionError:\n",
    "        print(\"Error: Division by zero\")\n",
    "        return float('inf')  # Return infinity\n",
    "    except TypeError as e:\n",
    "        print(f\"Error: {e}\")\n",
    "        return None\n",
    "    finally:\n",
    "        print(\"Division operation attempted\")\n",
    "\n",
    "print(safe_division(10, 2))   # Normal case\n",
    "print(safe_division(10, 0))   # Division by zero\n",
    "print(safe_division('10', 2)) # Type error\n",
    "\n",
    "# Custom exceptions\n",
    "class DataValidationError(Exception):\n",
    "    \"\"\"Exception raised for data validation errors\"\"\"\n",
    "    pass\n",
    "\n",
    "def process_age(age):\n",
    "    try:\n",
    "        age = int(age)\n",
    "        if age < 0 or age > 120:\n",
    "            raise DataValidationError(f\"Age must be between 0 and 120, got {age}\")\n",
    "        return age\n",
    "    except ValueError:\n",
    "        raise DataValidationError(f\"Age must be a number, got {age}\")\n",
    "\n",
    "# Testing the validation\n",
    "test_ages = ['25', '-5', '200', 'thirty']\n",
    "for age in test_ages:\n",
    "    try:\n",
    "        validated_age = process_age(age)\n",
    "        print(f\"Valid age: {validated_age}\")\n",
    "    except DataValidationError as e:\n",
    "        print(f\"Validation error: {e}\")"
   ]
  },
  {
   "cell_type": "markdown",
   "id": "5495bbef",
   "metadata": {},
   "source": [
    "## 21. Working with CSV and JSON\n",
    "CSV and JSON are common data interchange formats.\n",
    "\n",
    "**Real-life use:** Importing datasets, API communication, data storage."
   ]
  },
  {
   "cell_type": "code",
   "execution_count": null,
   "id": "c5560b60",
   "metadata": {},
   "outputs": [],
   "source": [
    "import csv\n",
    "import json\n",
    "\n",
    "# Create sample data\n",
    "data = [\n",
    "    {'name': 'Alice', 'age': 30, 'city': 'New York'},\n",
    "    {'name': 'Bob', 'age': 25, 'city': 'Boston'},\n",
    "    {'name': 'Charlie', 'age': 35, 'city': 'Chicago'}\n",
    "]\n",
    "\n",
    "# Writing and reading CSV\n",
    "with open('people.csv', 'w', newline='') as csvfile:\n",
    "    fieldnames = ['name', 'age', 'city']\n",
    "    writer = csv.DictWriter(csvfile, fieldnames=fieldnames)\n",
    "    writer.writeheader()\n",
    "    writer.writerows(data)\n",
    "\n",
    "print(\"Reading from CSV:\")\n",
    "with open('people.csv', 'r') as csvfile:\n",
    "    reader = csv.DictReader(csvfile)\n",
    "    for row in reader:\n",
    "        print(f\"{row['name']}, {row['age']}, {row['city']}\")\n",
    "\n",
    "# Writing and reading JSON\n",
    "with open('people.json', 'w') as jsonfile:\n",
    "    json.dump(data, jsonfile, indent=4)\n",
    "\n",
    "print(\"\\nReading from JSON:\")\n",
    "with open('people.json', 'r') as jsonfile:\n",
    "    loaded_data = json.load(jsonfile)\n",
    "    for person in loaded_data:\n",
    "        print(f\"{person['name']}, {person['age']}, {person['city']}\")"
   ]
  },
  {
   "cell_type": "markdown",
   "id": "5c543bd5",
   "metadata": {},
   "source": [
    "## 22. Unpacking and Multiple Assignment\n",
    "Unpacking and multiple assignment allow elegant value extraction.\n",
    "\n",
    "**Real-life use:** Data destructuring, tuple returns, coordinate handling."
   ]
  },
  {
   "cell_type": "code",
   "execution_count": null,
   "id": "4cf0da1b",
   "metadata": {},
   "outputs": [],
   "source": [
    "# Basic unpacking\n",
    "coords = (10, 20)\n",
    "x, y = coords  # Unpack tuple into variables\n",
    "print(f\"Coordinates: x={x}, y={y}\")\n",
    "\n",
    "# Multiple assignment\n",
    "a, b, c = 1, 2, 3\n",
    "print(f\"Values: a={a}, b={b}, c={c}\")\n",
    "\n",
    "# Swapping variables (no temp variable needed)\n",
    "a, b = b, a\n",
    "print(f\"After swap: a={a}, b={b}\")\n",
    "\n",
    "# Unpacking with * for remaining items\n",
    "first, *middle, last = [1, 2, 3, 4, 5]\n",
    "print(f\"First: {first}, Middle: {middle}, Last: {last}\")\n",
    "\n",
    "# Unpacking in a for loop\n",
    "points = [(1, 2), (3, 4), (5, 6)]\n",
    "for x, y in points:\n",
    "    print(f\"Point: ({x}, {y})\")\n",
    "\n",
    "# Unpacking dictionary items\n",
    "person = {'name': 'Alice', 'age': 30, 'job': 'Data Scientist'}\n",
    "for key, value in person.items():\n",
    "    print(f\"{key}: {value}\")\n",
    "\n",
    "# Function with multiple return values\n",
    "def get_statistics(numbers):\n",
    "    \"\"\"Return min, max, average of a list\"\"\"\n",
    "    return min(numbers), max(numbers), sum(numbers)/len(numbers)\n",
    "\n",
    "data = [5, 3, 8, 1, 9, 2]\n",
    "minimum, maximum, average = get_statistics(data)\n",
    "print(f\"\\nStats - Min: {minimum}, Max: {maximum}, Avg: {average:.2f}\")"
   ]
  }
 ],
 "metadata": {
  "kernelspec": {
   "display_name": "base",
   "language": "python",
   "name": "python3"
  },
  "language_info": {
   "codemirror_mode": {
    "name": "ipython",
    "version": 3
   },
   "file_extension": ".py",
   "mimetype": "text/x-python",
   "name": "python",
   "nbconvert_exporter": "python",
   "pygments_lexer": "ipython3",
   "version": "3.12.9"
  }
 },
 "nbformat": 4,
 "nbformat_minor": 5
}
