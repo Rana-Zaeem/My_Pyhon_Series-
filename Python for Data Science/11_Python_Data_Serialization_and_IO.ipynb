{
 "cells": [
  {
   "cell_type": "markdown",
   "id": "41de0771",
   "metadata": {},
   "source": [
    "# Python Data Serialization and I/O\n",
    "This notebook covers data serialization and input/output (I/O) in Python, including pickle, CSV, XML, Excel, images, and PDFs, with real-life use cases, best practices, and code examples."
   ]
  },
  {
   "cell_type": "markdown",
   "id": "e1983067",
   "metadata": {},
   "source": [
    "## 1. Pickle (Object Serialization)\n",
    "**Definition:** Pickle is used to serialize and deserialize Python objects. Useful for saving models or data structures.\n",
    "\n",
    "**Syntax and Example:**"
   ]
  },
  {
   "cell_type": "code",
   "execution_count": null,
   "id": "1554fe7c",
   "metadata": {},
   "outputs": [],
   "source": [
    "import pickle\n",
    "data = {'a': 1, 'b': 2}\n",
    "with open('data.pkl', 'wb') as f:\n",
    "    pickle.dump(data, f)\n",
    "with open('data.pkl', 'rb') as f:\n",
    "    loaded = pickle.load(f)\n",
    "print(loaded)"
   ]
  },
  {
   "cell_type": "markdown",
   "id": "51f1c579",
   "metadata": {},
   "source": [
    "**Output:**\n",
    "{'a': 1, 'b': 2}\n",
    "\n",
    "**Real-life use case:** Saving trained machine learning models for later use.\n",
    "\n",
    "**Common mistakes:** Pickle files are not secure against code execution attacks. Never unpickle data from untrusted sources.\n",
    "\n",
    "**Best practices:** Use pickle only for trusted data and consider alternatives for cross-language compatibility."
   ]
  },
  {
   "cell_type": "markdown",
   "id": "6b03c7b2",
   "metadata": {},
   "source": [
    "## 2. CSV Files\n",
    "**Definition:** CSV (Comma-Separated Values) is a common format for tabular data.\n",
    "\n",
    "**Syntax and Example:**"
   ]
  },
  {
   "cell_type": "code",
   "execution_count": null,
   "id": "15070658",
   "metadata": {},
   "outputs": [],
   "source": [
    "import csv\n",
    "with open('example.csv', 'w', newline='') as f:\n",
    "    writer = csv.writer(f)\n",
    "    writer.writerow(['name', 'age'])\n",
    "    writer.writerow(['Alice', 30])\n",
    "    writer.writerow(['Bob', 25])\n",
    "with open('example.csv', 'r') as f:\n",
    "    reader = csv.reader(f)\n",
    "    for row in reader:\n",
    "        print(row)"
   ]
  },
  {
   "cell_type": "markdown",
   "id": "72a77b54",
   "metadata": {},
   "source": [
    "**Output:**\n",
    "['name', 'age']\n",
    "['Alice', '30']\n",
    "['Bob', '25']\n",
    "\n",
    "**Real-life use case:** Importing/exporting data between Excel and Python.\n",
    "\n",
    "**Common mistakes:** Not handling newlines or encoding issues.\n",
    "\n",
    "**Best practices:** Always specify newline='' and encoding when working with CSV files."
   ]
  },
  {
   "cell_type": "markdown",
   "id": "37b79ad0",
   "metadata": {},
   "source": [
    "## 3. XML Files\n",
    "**Definition:** XML (eXtensible Markup Language) is used for structured data exchange.\n",
    "\n",
    "**Syntax and Example:**"
   ]
  },
  {
   "cell_type": "code",
   "execution_count": null,
   "id": "cc3ba609",
   "metadata": {},
   "outputs": [],
   "source": [
    "import xml.etree.ElementTree as ET\n",
    "xml_data = '<root><item>A</item><item>B</item></root>'\n",
    "root = ET.fromstring(xml_data)\n",
    "for item in root.findall('item'):\n",
    "    print(item.text)"
   ]
  },
  {
   "cell_type": "markdown",
   "id": "cbaa20da",
   "metadata": {},
   "source": [
    "**Output:**\n",
    "A\n",
    "B\n",
    "\n",
    "**Real-life use case:** Reading configuration files or data from web services.\n",
    "\n",
    "**Common mistakes:** Not handling namespaces or large files efficiently.\n",
    "\n",
    "**Best practices:** Use iterparse for large XML files."
   ]
  },
  {
   "cell_type": "markdown",
   "id": "9b0d3434",
   "metadata": {},
   "source": [
    "## 4. Excel Files\n",
    "**Definition:** Excel files are widely used for data storage and analysis. Use `pandas` for easy reading/writing.\n",
    "\n",
    "**Syntax and Example:**"
   ]
  },
  {
   "cell_type": "code",
   "execution_count": null,
   "id": "a890d63f",
   "metadata": {},
   "outputs": [],
   "source": [
    "import pandas as pd\n",
    "df = pd.DataFrame({'name': ['Alice', 'Bob'], 'age': [30, 25]})\n",
    "df.to_excel('example.xlsx', index=False)\n",
    "df2 = pd.read_excel('example.xlsx')\n",
    "print(df2)"
   ]
  },
  {
   "cell_type": "markdown",
   "id": "1f31b933",
   "metadata": {},
   "source": [
    "**Output:**\n",
    "   name  age\n",
    "0 Alice   30\n",
    "1   Bob   25\n",
    "\n",
    "**Real-life use case:** Automating report generation for business analytics.\n",
    "\n",
    "**Common mistakes:** Not installing required libraries (openpyxl, xlrd).\n",
    "\n",
    "**Best practices:** Always specify index=False unless you want to save the DataFrame index."
   ]
  },
  {
   "cell_type": "markdown",
   "id": "a615a5ab",
   "metadata": {},
   "source": [
    "## 5. Images\n",
    "**Definition:** Use the `PIL` (Pillow) library to work with images.\n",
    "\n",
    "**Syntax and Example:**"
   ]
  },
  {
   "cell_type": "code",
   "execution_count": null,
   "id": "20979fc2",
   "metadata": {},
   "outputs": [],
   "source": [
    "from PIL import Image\n",
    "img = Image.new('RGB', (60, 30), color = 'red')\n",
    "img.save('pil_red.png')\n",
    "img2 = Image.open('pil_red.png')\n",
    "print(img2.size)"
   ]
  },
  {
   "cell_type": "markdown",
   "id": "ac90cb70",
   "metadata": {},
   "source": [
    "**Output:**\n",
    "(60, 30)\n",
    "\n",
    "**Real-life use case:** Generating thumbnails or processing images for machine learning.\n",
    "\n",
    "**Common mistakes:** Not closing image files after opening.\n",
    "\n",
    "**Best practices:** Use context managers or call close() on images."
   ]
  },
  {
   "cell_type": "markdown",
   "id": "4efd8cbf",
   "metadata": {},
   "source": [
    "## 6. PDFs\n",
    "**Definition:** Use the `PyPDF2` library to read PDF files.\n",
    "\n",
    "**Syntax and Example:**"
   ]
  },
  {
   "cell_type": "code",
   "execution_count": null,
   "id": "7cf889ce",
   "metadata": {},
   "outputs": [],
   "source": [
    "import PyPDF2\n",
    "with open('example.pdf', 'rb') as f:\n",
    "    reader = PyPDF2.PdfReader(f)\n",
    "    page = reader.pages[0]\n",
    "    print(page.extract_text())"
   ]
  },
  {
   "cell_type": "code",
   "execution_count": null,
   "id": "d608baeb",
   "metadata": {},
   "outputs": [],
   "source": [
    "import PyPDF2\n",
    "with open('example.pdf', 'rb') as f:\n",
    "    reader = PyPDF2.PdfReader(f)\n",
    "    page = reader.pages[0]\n",
    "    print(page.extract_text())  # Output: Text from first page of PDF"
   ]
  }
 ],
 "metadata": {
  "language_info": {
   "name": "python"
  }
 },
 "nbformat": 4,
 "nbformat_minor": 5
}
