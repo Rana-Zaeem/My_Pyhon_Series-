{
 "cells": [
  {
   "cell_type": "markdown",
   "id": "3d78c71d",
   "metadata": {},
   "source": [
    "# Python Web Scraping and GUI Programming\n",
    "This notebook covers web scraping and GUI programming with real-life use cases, best practices, and code examples."
   ]
  },
  {
   "cell_type": "markdown",
   "id": "a30f2d19",
   "metadata": {},
   "source": [
    "## 1. Web Scraping\n",
    "**Definition:** Web scraping is the process of extracting data from websites using code.\n",
    "\n",
    "**Syntax and Example:** Scraping the title of a web page."
   ]
  },
  {
   "cell_type": "code",
   "execution_count": null,
   "id": "37bda5a4",
   "metadata": {},
   "outputs": [],
   "source": [
    "import requests\n",
    "from bs4 import BeautifulSoup\n",
    "url = 'https://www.example.com'\n",
    "response = requests.get(url)\n",
    "soup = BeautifulSoup(response.text, 'html.parser')\n",
    "print(soup.title.string)"
   ]
  },
  {
   "cell_type": "markdown",
   "id": "a880bcab",
   "metadata": {},
   "source": [
    "**Output:**\n",
    "Example Domain\n",
    "\n",
    "**Real-life use case:** Collecting product prices from e-commerce websites for price comparison tools.\n",
    "\n",
    "**Common mistakes:** Not respecting website terms of service or scraping too quickly (may get blocked).\n",
    "\n",
    "**Best practices:** Use appropriate delays, respect robots.txt, and use headers to mimic browsers."
   ]
  },
  {
   "cell_type": "markdown",
   "id": "ab07e4c6",
   "metadata": {},
   "source": [
    "## 2. GUI Programming (tkinter)\n",
    "**Definition:** GUI programming allows you to create graphical user interfaces for your applications.\n",
    "\n",
    "**Syntax and Example:** Simple window with a button."
   ]
  },
  {
   "cell_type": "code",
   "execution_count": null,
   "id": "5fb5c451",
   "metadata": {},
   "outputs": [],
   "source": [
    "import tkinter as tk\n",
    "def say_hello():\n",
    "    print('Hello from GUI!')\n",
    "root = tk.Tk()\n",
    "root.title('Simple GUI')\n",
    "button = tk.Button(root, text='Click Me', command=say_hello)\n",
    "button.pack(padx=20, pady=20)\n",
    "root.mainloop()"
   ]
  },
  {
   "cell_type": "code",
   "execution_count": null,
   "id": "67f795b0",
   "metadata": {},
   "outputs": [],
   "source": [
    "import tkinter as tk\n",
    "\n",
    "def say_hello():\n",
    "    print('Hello from GUI!')\n",
    "\n",
    "root = tk.Tk()\n",
    "root.title('Simple GUI')\n",
    "button = tk.Button(root, text='Click Me', command=say_hello)\n",
    "button.pack(padx=20, pady=20)\n",
    "root.mainloop()  # Opens a window with a button"
   ]
  }
 ],
 "metadata": {
  "language_info": {
   "name": "python"
  }
 },
 "nbformat": 4,
 "nbformat_minor": 5
}
