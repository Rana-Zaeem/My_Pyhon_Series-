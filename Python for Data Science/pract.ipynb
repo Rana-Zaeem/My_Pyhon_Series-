{
 "cells": [
  {
   "cell_type": "markdown",
   "id": "d6eb4a3a",
   "metadata": {},
   "source": [
    "# Python Practice Notebook\n",
    "\n",
    "This notebook covers basic Python concepts with clear code examples and explanations."
   ]
  },
  {
   "cell_type": "markdown",
   "id": "7945060b",
   "metadata": {},
   "source": [
    "## 1. While Loop Example: Counting Cups of Tea"
   ]
  },
  {
   "cell_type": "code",
   "execution_count": null,
   "id": "b0c803a3",
   "metadata": {},
   "outputs": [],
   "source": [
    "cup_of_chai = int(input(\"How many cups of tea do you want? \"))\n",
    "chai = 0\n",
    "while chai < cup_of_chai:\n",
    "    chai += 1\n",
    "    print(f'You have taken {chai} cup(s) of tea')"
   ]
  },
  {
   "cell_type": "markdown",
   "id": "f78ac401",
   "metadata": {},
   "source": [
    "## 2. For Loop Example: Counting with Steps and Break Statement"
   ]
  },
  {
   "cell_type": "code",
   "execution_count": null,
   "id": "8f32b625",
   "metadata": {},
   "outputs": [],
   "source": [
    "x = int(input(\"How many cups of tea do you want? \"))\n",
    "for i in range(1, x, 2):\n",
    "    print(f'You have taken {i+1} cup(s) of tea')\n",
    "    print(i)\n",
    "    if i == 4:\n",
    "        print('You have reached the limit of 5 cups.')\n",
    "        break"
   ]
  },
  {
   "cell_type": "markdown",
   "id": "01a28356",
   "metadata": {},
   "source": [
    "## 3. For Loop with Step Size"
   ]
  },
  {
   "cell_type": "code",
   "execution_count": null,
   "id": "7e9e29ec",
   "metadata": {},
   "outputs": [],
   "source": [
    "for i in range(1, 11, 2):\n",
    "    print(i)"
   ]
  },
  {
   "cell_type": "markdown",
   "id": "5fab4a56",
   "metadata": {},
   "source": [
    "## 4. Continue Statement in a Loop"
   ]
  },
  {
   "cell_type": "code",
   "execution_count": null,
   "id": "772c508e",
   "metadata": {},
   "outputs": [],
   "source": [
    "for i in range(11):\n",
    "    if i == 5:\n",
    "        print('continue', i)\n",
    "        continue"
   ]
  },
  {
   "cell_type": "markdown",
   "id": "f43950fa",
   "metadata": {},
   "source": [
    "# if-else Statements"
   ]
  },
  {
   "cell_type": "code",
   "execution_count": null,
   "id": "c8604822",
   "metadata": {},
   "outputs": [],
   "source": [
    "paper = input('Do you want to go to university? (true/false) ')\n",
    "if paper == 'true':\n",
    "    print('I want to go to university')\n",
    "else:\n",
    "    print('I do not want to go to university')"
   ]
  },
  {
   "cell_type": "markdown",
   "id": "a6e7d41f",
   "metadata": {},
   "source": [
    "## 5. Nested if-else Example: Family at Home"
   ]
  },
  {
   "cell_type": "code",
   "execution_count": null,
   "id": "c1ba19c4",
   "metadata": {},
   "outputs": [],
   "source": [
    "mother = input('Where is your mother? ')\n",
    "father = input('Where is your father? ')\n",
    "if mother == 'ghar' and father == 'ghar':\n",
    "    print('happy family')\n",
    "elif mother == 'ghar' and father != 'ghar':\n",
    "    print('father is not at ghar')\n",
    "else:\n",
    "    print('not happy family')"
   ]
  },
  {
   "cell_type": "markdown",
   "id": "c1c7a5d3",
   "metadata": {},
   "source": [
    "# pass and continue Statements in Python\n",
    "\n",
    "Let's compare the `pass` and `continue` statements with examples."
   ]
  },
  {
   "cell_type": "code",
   "execution_count": null,
   "id": "031a487d",
   "metadata": {},
   "outputs": [],
   "source": [
    "# Example 1: pass statement\n",
    "for i in range(5):\n",
    "    if i == 2:\n",
    "        pass  # Does nothing, just a placeholder\n",
    "        print(f'This will still execute when i = {i}')\n",
    "    print(f'Current value: {i}')"
   ]
  },
  {
   "cell_type": "code",
   "execution_count": null,
   "id": "522f0cf5",
   "metadata": {},
   "outputs": [],
   "source": [
    "# Example 2: continue statement\n",
    "for i in range(5):\n",
    "    if i == 2:\n",
    "        continue  # Skip the rest of the current iteration\n",
    "        print('This will never execute')\n",
    "    print(f'Current value: {i}')"
   ]
  },
  {
   "cell_type": "markdown",
   "id": "dc6b528a",
   "metadata": {},
   "source": [
    "## pass and continue in Nested Loops"
   ]
  },
  {
   "cell_type": "code",
   "execution_count": null,
   "id": "61971e63",
   "metadata": {},
   "outputs": [],
   "source": [
    "# pass in nested loops\n",
    "for i in range(3):\n",
    "    for j in range(3):\n",
    "        if i == j:\n",
    "            pass\n",
    "        print(f'pass example: i={i}, j={j}')"
   ]
  },
  {
   "cell_type": "code",
   "execution_count": null,
   "id": "f8c054e8",
   "metadata": {},
   "outputs": [],
   "source": [
    "# continue in nested loops\n",
    "for i in range(3):\n",
    "    for j in range(3):\n",
    "        if i == j:\n",
    "            continue\n",
    "        print(f'continue example: i={i}, j={j}')"
   ]
  },
  {
   "cell_type": "markdown",
   "id": "d1a7eea0",
   "metadata": {},
   "source": [
    "# pass Statement: Use Cases and Examples"
   ]
  },
  {
   "cell_type": "code",
   "execution_count": null,
   "id": "25d1922f",
   "metadata": {},
   "outputs": [],
   "source": [
    "# Using pass in an if statement\n",
    "x = 10\n",
    "if x > 5:\n",
    "    pass  # We'll implement this later\n",
    "print('Program continues execution')"
   ]
  },
  {
   "cell_type": "code",
   "execution_count": null,
   "id": "c2ebba6d",
   "metadata": {},
   "outputs": [],
   "source": [
    "# Using pass as a placeholder for a function\n",
    "def not_implemented_yet():\n",
    "    pass\n",
    "print('Function defined but does nothing when called')\n",
    "not_implemented_yet()"
   ]
  },
  {
   "cell_type": "markdown",
   "id": "728032aa",
   "metadata": {},
   "source": [
    "# continue Statement: Use Cases and Examples"
   ]
  },
  {
   "cell_type": "code",
   "execution_count": null,
   "id": "04283819",
   "metadata": {},
   "outputs": [],
   "source": [
    "# Using continue to skip printing even numbers\n",
    "print('Printing only odd numbers from 0 to 9:')\n",
    "for i in range(10):\n",
    "    if i % 2 == 0:\n",
    "        continue\n",
    "    print(i)"
   ]
  },
  {
   "cell_type": "markdown",
   "id": "ff087e4c",
   "metadata": {},
   "source": [
    "# Practical Uses of pass and continue"
   ]
  },
  {
   "cell_type": "code",
   "execution_count": null,
   "id": "a1f10ada",
   "metadata": {},
   "outputs": [],
   "source": [
    "# 1. Creating a minimal class\n",
    "class EmptyClass:\n",
    "    pass\n",
    "# 2. Creating an exception without additional functionality\n",
    "class MyCustomException(Exception):\n",
    "    pass\n",
    "# 3. Using pass in try-except blocks\n",
    "try:\n",
    "    x = 1 / 0\n",
    "except ZeroDivisionError:\n",
    "    pass  # Silently ignore division by zero\n",
    "print('Program continues even after the exception')"
   ]
  },
  {
   "cell_type": "code",
   "execution_count": null,
   "id": "533e98a0",
   "metadata": {},
   "outputs": [],
   "source": [
    "# Filtering out items in a loop using continue\n",
    "numbers = [1, -2, 3, -4, 5, -6, 7, -8, 9]\n",
    "positive_sum = 0\n",
    "print('Adding only positive numbers:')\n",
    "for num in numbers:\n",
    "    if num < 0:\n",
    "        continue\n",
    "    positive_sum += num\n",
    "    print(f'Added {num}, sum is now {positive_sum}')\n",
    "print(f'Final sum of positive numbers: {positive_sum}')"
   ]
  },
  {
   "cell_type": "markdown",
   "id": "dc47ee65",
   "metadata": {},
   "source": [
    "# break Statement: Example and Comparison"
   ]
  },
  {
   "cell_type": "code",
   "execution_count": null,
   "id": "72fbffe4",
   "metadata": {},
   "outputs": [],
   "source": [
    "# continue vs break in a while loop\n",
    "print('Using continue in a while loop:')\n",
    "i = 0\n",
    "while i < 10:\n",
    "    i += 1\n",
    "    if i % 3 == 0:\n",
    "        print(f'Skipping {i}')\n",
    "        continue\n",
    "    print(f'Processing {i}')\n",
    "print('\\nUsing break in a while loop:')\n",
    "i = 0\n",
    "while i < 10:\n",
    "    i += 1\n",
    "    if i == 5:\n",
    "        print(f'Breaking at {i}')\n",
    "        break\n",
    "    print(f'Processing {i}')"
   ]
  },
  {
   "cell_type": "markdown",
   "id": "f86dd70e",
   "metadata": {},
   "source": [
    "# Functions: Calculating Mean of a List"
   ]
  },
  {
   "cell_type": "code",
   "execution_count": null,
   "id": "b644a779",
   "metadata": {},
   "outputs": [],
   "source": [
    "def my_mean(lst):\n",
    "    \"\"\"This function calculates the mean of a list of numbers.\"\"\"\n",
    "    total = 0\n",
    "    for i in lst:\n",
    "        total += i\n",
    "    return total / len(lst)\n",
    "lst = [1,2,3,4,5,6,7,8,9,10]\n",
    "print(my_mean(lst))"
   ]
  },
  {
   "cell_type": "code",
   "execution_count": null,
   "id": "04531c77",
   "metadata": {},
   "outputs": [],
   "source": [
    "lst = [1,2,3,5,4,3,6]\n",
    "total = 0\n",
    "for i in lst:\n",
    "    total += i\n",
    "mean2 = total / len(lst)\n",
    "print(int(mean2))"
   ]
  },
  {
   "cell_type": "markdown",
   "id": "02662372",
   "metadata": {},
   "source": [
    "# *args and **kwargs in Python Functions"
   ]
  },
  {
   "cell_type": "code",
   "execution_count": null,
   "id": "a3608f72",
   "metadata": {},
   "outputs": [],
   "source": [
    "def add(*args):\n",
    "    \"\"\"\n",
    "    Function that adds any number of numeric arguments passed to it.\n",
    "    \n",
    "    Parameters:\n",
    "    *args: Any number of numeric values\n",
    "    \n",
    "    Returns:\n",
    "    The sum of all provided arguments\n",
    "    \"\"\"\n",
    "    total = 0\n",
    "    for num in args:\n",
    "        total += num\n",
    "    return total\n",
    "# Example usage\n",
    "print(add(2, 3, 4, 5, 6))  # 20\n",
    "print(add(10, 20))  # 30\n",
    "print(add(1, 2, 3, 4, 5, 6, 7, 8, 9, 10))  # 55\n",
    "print(add())  # 0 (no arguments)"
   ]
  },
  {
   "cell_type": "code",
   "execution_count": null,
   "id": "a8dd2fc6",
   "metadata": {},
   "outputs": [],
   "source": [
    "def add(*args, **kwargs):\n",
    "    print(args)\n",
    "    print(kwargs)\n",
    "    return sum(args) + sum(kwargs.values())"
   ]
  },
  {
   "cell_type": "code",
   "execution_count": null,
   "id": "6195c782",
   "metadata": {},
   "outputs": [],
   "source": [
    "add('zaeem', 'asghar', x=10, y=20, z=30)"
   ]
  },
  {
   "cell_type": "markdown",
   "id": "b9baa67b",
   "metadata": {},
   "source": [
    "## Ensuring Only Numeric Arguments with *args"
   ]
  },
  {
   "cell_type": "code",
   "execution_count": null,
   "id": "ab163f2f",
   "metadata": {},
   "outputs": [],
   "source": [
    "def add(*args):\n",
    "    total = 0\n",
    "    for num in args:\n",
    "        if not isinstance(num, (int, float)):\n",
    "            raise TypeError(f'All arguments must be numeric, got {type(num)}')\n",
    "        total += num\n",
    "    return total\n",
    "# Now this will raise an error if a non-numeric value is passed\n",
    "print(add(1, 2, 3))        # Works\n",
    "print(add(1, 'hello', 3))  # Raises TypeError"
   ]
  },
  {
   "cell_type": "code",
   "execution_count": null,
   "id": "5059da33",
   "metadata": {},
   "outputs": [],
   "source": []
  }
 ],
 "metadata": {
  "kernelspec": {
   "display_name": "Python 3",
   "language": "python",
   "name": "python3"
  },
  "language_info": {
   "codemirror_mode": {
    "name": "ipython",
    "version": 3
   },
   "file_extension": ".py",
   "mimetype": "text/x-python",
   "name": "python",
   "nbconvert_exporter": "python",
   "pygments_lexer": "ipython3",
   "version": "3.12.6"
  }
 },
 "nbformat": 4,
 "nbformat_minor": 5
}
