{
 "cells": [
  {
   "cell_type": "markdown",
   "id": "5d818434",
   "metadata": {},
   "source": [
    "# Python Data Serialization and I/O\n",
    "This notebook introduces the main ways to save, load, and exchange data in Python. Each section is concise, practical, and beginner-friendly."
   ]
  },
  {
   "cell_type": "markdown",
   "id": "e30b8f38",
   "metadata": {},
   "source": [
    "## What is Pickle?\n",
    "Pickle is a Python module for saving (serializing) and loading (deserializing) Python objects. Useful for saving models, settings, or any Python data structure to disk."
   ]
  },
  {
   "cell_type": "code",
   "execution_count": null,
   "id": "25c1c48d",
   "metadata": {},
   "outputs": [],
   "source": [
    "import pickle"
   ]
  },
  {
   "cell_type": "markdown",
   "id": "3b3b804e",
   "metadata": {},
   "source": [
    "## Create a Python dictionary\n",
    "This cell creates a simple dictionary to demonstrate serialization."
   ]
  },
  {
   "cell_type": "code",
   "execution_count": null,
   "id": "d2bc86ef",
   "metadata": {},
   "outputs": [],
   "source": [
    "my_data = {'a': 1, 'b': 2}"
   ]
  },
  {
   "cell_type": "markdown",
   "id": "495bd7dc",
   "metadata": {},
   "source": [
    "## Save a Python object to a file using Pickle\n",
    "This cell shows how to serialize a Python object and write it to a file."
   ]
  },
  {
   "cell_type": "code",
   "execution_count": null,
   "id": "cccc069d",
   "metadata": {},
   "outputs": [],
   "source": [
    "with open('data.pkl', 'wb') as f:\n",
    "    pickle.dump(my_data, f)"
   ]
  },
  {
   "cell_type": "markdown",
   "id": "c096111f",
   "metadata": {},
   "source": [
    "## Load a Python object from a Pickle file\n",
    "This cell demonstrates how to load a previously saved object from disk."
   ]
  },
  {
   "cell_type": "code",
   "execution_count": null,
   "id": "3e3461dd",
   "metadata": {},
   "outputs": [],
   "source": [
    "with open('data.pkl', 'rb') as f:\n",
    "    loaded = pickle.load(f)\n",
    "print(loaded)"
   ]
  },
  {
   "cell_type": "markdown",
   "id": "ede19cae",
   "metadata": {},
   "source": [
    "**Use case:** Save trained ML models, user settings, or session data for later use."
   ]
  },
  {
   "cell_type": "markdown",
   "id": "60beb6dd",
   "metadata": {},
   "source": [
    "## What is CSV?\n",
    "CSV (Comma-Separated Values) is a universal format for tabular data, like spreadsheets and databases."
   ]
  },
  {
   "cell_type": "code",
   "execution_count": null,
   "id": "dee50725",
   "metadata": {},
   "outputs": [],
   "source": [
    "import csv"
   ]
  },
  {
   "cell_type": "markdown",
   "id": "379068a3",
   "metadata": {},
   "source": [
    "## Prepare data for CSV\n",
    "This cell prepares a list of rows for writing to a CSV file."
   ]
  },
  {
   "cell_type": "code",
   "execution_count": null,
   "id": "74bad149",
   "metadata": {},
   "outputs": [],
   "source": [
    "rows = [['name', 'age'], ['Alice', 30], ['Bob', 25]]"
   ]
  },
  {
   "cell_type": "markdown",
   "id": "133dbef4",
   "metadata": {},
   "source": [
    "## Write data to a CSV file\n",
    "This cell shows how to write tabular data to a CSV file."
   ]
  },
  {
   "cell_type": "code",
   "execution_count": null,
   "id": "e0ccf64f",
   "metadata": {},
   "outputs": [],
   "source": [
    "with open('people.csv', 'w', newline='') as f:\n",
    "    writer = csv.writer(f)\n",
    "    writer.writerows(rows)"
   ]
  },
  {
   "cell_type": "markdown",
   "id": "3cc7fc5f",
   "metadata": {},
   "source": [
    "## Read data from a CSV file\n",
    "This cell demonstrates how to read tabular data from a CSV file."
   ]
  },
  {
   "cell_type": "code",
   "execution_count": null,
   "id": "42454083",
   "metadata": {},
   "outputs": [],
   "source": [
    "with open('people.csv', 'r') as f:\n",
    "    reader = csv.reader(f)\n",
    "    for row in reader:\n",
    "        print(row)"
   ]
  },
  {
   "cell_type": "markdown",
   "id": "2b89acdc",
   "metadata": {},
   "source": [
    "**Use case:** Import/export data between Excel, databases, and Python."
   ]
  },
  {
   "cell_type": "markdown",
   "id": "3b4990e2",
   "metadata": {},
   "source": [
    "## What is JSON?\n",
    "JSON (JavaScript Object Notation) is a widely used, human-readable format for data exchange between languages and systems."
   ]
  },
  {
   "cell_type": "code",
   "execution_count": null,
   "id": "efcea4ef",
   "metadata": {},
   "outputs": [],
   "source": [
    "import json"
   ]
  },
  {
   "cell_type": "markdown",
   "id": "3d7d8870",
   "metadata": {},
   "source": [
    "## Serialize a Python object to JSON and save to file\n",
    "This cell shows how to save a Python dictionary as JSON."
   ]
  },
  {
   "cell_type": "code",
   "execution_count": null,
   "id": "27379aac",
   "metadata": {},
   "outputs": [],
   "source": [
    "person = {'name': 'Alice', 'age': 30, 'city': 'New York'}\n",
    "with open('person.json', 'w') as f:\n",
    "    json.dump(person, f)"
   ]
  },
  {
   "cell_type": "markdown",
   "id": "711f3770",
   "metadata": {},
   "source": [
    "## Load data from a JSON file\n",
    "This cell shows how to read and parse JSON data from a file."
   ]
  },
  {
   "cell_type": "code",
   "execution_count": null,
   "id": "3f30c223",
   "metadata": {},
   "outputs": [],
   "source": [
    "with open('person.json', 'r') as f:\n",
    "    loaded_person = json.load(f)\n",
    "print(loaded_person)"
   ]
  },
  {
   "cell_type": "markdown",
   "id": "d7c15d1d",
   "metadata": {},
   "source": [
    "**Use case:** Web APIs, config files, and cross-language data exchange."
   ]
  },
  {
   "cell_type": "markdown",
   "id": "9694efea",
   "metadata": {},
   "source": [
    "## What is XML?\n",
    "XML is used for structured, hierarchical data exchange, especially in web services and config files."
   ]
  },
  {
   "cell_type": "code",
   "execution_count": null,
   "id": "e197b20c",
   "metadata": {},
   "outputs": [],
   "source": [
    "import xml.etree.ElementTree as ET"
   ]
  },
  {
   "cell_type": "markdown",
   "id": "58d3e800",
   "metadata": {},
   "source": [
    "## Example XML data as a string\n",
    "This cell defines a simple XML string for demonstration."
   ]
  },
  {
   "cell_type": "code",
   "execution_count": null,
   "id": "6a72701b",
   "metadata": {},
   "outputs": [],
   "source": [
    "xml_data = '<root><person><name>Alice</name></person></root>'"
   ]
  },
  {
   "cell_type": "markdown",
   "id": "c4617355",
   "metadata": {},
   "source": [
    "## Parse XML data from a string\n",
    "This cell shows how to parse XML and access its elements."
   ]
  },
  {
   "cell_type": "code",
   "execution_count": null,
   "id": "257fc26a",
   "metadata": {},
   "outputs": [],
   "source": [
    "root = ET.fromstring(xml_data)\n",
    "for person in root.findall('person'):\n",
    "    print(person.find('name').text)"
   ]
  },
  {
   "cell_type": "markdown",
   "id": "89a4f1d3",
   "metadata": {},
   "source": [
    "**Use case:** Data exchange with legacy systems, config files, or APIs."
   ]
  },
  {
   "cell_type": "markdown",
   "id": "103fac79",
   "metadata": {},
   "source": [
    "## What is Excel?\n",
    "Excel files are common in business for storing and analyzing tabular data. Use pandas for easy reading/writing."
   ]
  },
  {
   "cell_type": "code",
   "execution_count": null,
   "id": "9799d6e0",
   "metadata": {},
   "outputs": [],
   "source": [
    "import pandas as pd"
   ]
  },
  {
   "cell_type": "markdown",
   "id": "ba288897",
   "metadata": {},
   "source": [
    "## Create a DataFrame\n",
    "This cell creates a pandas DataFrame for demonstration."
   ]
  },
  {
   "cell_type": "code",
   "execution_count": null,
   "id": "d5eef74b",
   "metadata": {},
   "outputs": [],
   "source": [
    "data = {'name': ['Alice', 'Bob'], 'age': [30, 25]}\n",
    "df = pd.DataFrame(data)"
   ]
  },
  {
   "cell_type": "markdown",
   "id": "9aafac88",
   "metadata": {},
   "source": [
    "## Write a DataFrame to an Excel file\n",
    "This cell shows how to save a DataFrame to an Excel file."
   ]
  },
  {
   "cell_type": "code",
   "execution_count": null,
   "id": "52b57e10",
   "metadata": {},
   "outputs": [],
   "source": [
    "df.to_excel('people.xlsx', index=False)"
   ]
  },
  {
   "cell_type": "markdown",
   "id": "dccd6a6a",
   "metadata": {},
   "source": [
    "## Read a DataFrame from an Excel file\n",
    "This cell demonstrates how to load data from an Excel file."
   ]
  },
  {
   "cell_type": "code",
   "execution_count": null,
   "id": "d448752a",
   "metadata": {},
   "outputs": [],
   "source": [
    "read_df = pd.read_excel('people.xlsx')\n",
    "print(read_df)"
   ]
  },
  {
   "cell_type": "markdown",
   "id": "247c6087",
   "metadata": {},
   "source": [
    "**Use case:** Automate report generation, data analysis, or business workflows."
   ]
  },
  {
   "cell_type": "markdown",
   "id": "3cff929f",
   "metadata": {},
   "source": [
    "## What are Plain Text Files?\n",
    "Plain text files are the simplest way to store and share data, logs, or notes."
   ]
  },
  {
   "cell_type": "markdown",
   "id": "9d43729a",
   "metadata": {},
   "source": [
    "## Write to a text file\n",
    "This cell shows how to write text to a file."
   ]
  },
  {
   "cell_type": "code",
   "execution_count": null,
   "id": "fb07e661",
   "metadata": {},
   "outputs": [],
   "source": [
    "with open('notes.txt', 'w') as f:\n",
    "    f.write('This is a line of text.\\nAnother line.')"
   ]
  },
  {
   "cell_type": "markdown",
   "id": "c457047e",
   "metadata": {},
   "source": [
    "## Read from a text file\n",
    "This cell demonstrates how to read all lines from a text file."
   ]
  },
  {
   "cell_type": "code",
   "execution_count": null,
   "id": "86d9950f",
   "metadata": {},
   "outputs": [],
   "source": [
    "with open('notes.txt', 'r') as f:\n",
    "    lines = f.readlines()\n",
    "print(lines)"
   ]
  },
  {
   "cell_type": "markdown",
   "id": "8767d2d4",
   "metadata": {},
   "source": [
    "**Use case:** Logging, configuration, and simple data storage."
   ]
  },
  {
   "cell_type": "markdown",
   "id": "1c88fc9c",
   "metadata": {},
   "source": [
    "## What are ZIP Files?\n",
    "ZIP files are used to compress and bundle multiple files for storage or sharing."
   ]
  },
  {
   "cell_type": "code",
   "execution_count": null,
   "id": "f84f841b",
   "metadata": {},
   "outputs": [],
   "source": [
    "import zipfile"
   ]
  },
  {
   "cell_type": "markdown",
   "id": "a23e8b3a",
   "metadata": {},
   "source": [
    "## Create a ZIP file and add files to it\n",
    "This cell shows how to create a ZIP archive and add files."
   ]
  },
  {
   "cell_type": "code",
   "execution_count": null,
   "id": "06af639a",
   "metadata": {},
   "outputs": [],
   "source": [
    "with zipfile.ZipFile('archive.zip', 'w') as zipf:\n",
    "    zipf.write('notes.txt')\n",
    "    zipf.write('person.json')"
   ]
  },
  {
   "cell_type": "markdown",
   "id": "82380808",
   "metadata": {},
   "source": [
    "## Extract files from a ZIP archive\n",
    "This cell shows how to extract all files from a ZIP archive."
   ]
  },
  {
   "cell_type": "code",
   "execution_count": null,
   "id": "e04f3f49",
   "metadata": {},
   "outputs": [],
   "source": [
    "with zipfile.ZipFile('archive.zip', 'r') as zipf:\n",
    "    zipf.extractall('extracted_files')"
   ]
  },
  {
   "cell_type": "markdown",
   "id": "23c524e9",
   "metadata": {},
   "source": [
    "**Use case:** Data backup, sharing datasets, and packaging projects."
   ]
  },
  {
   "cell_type": "markdown",
   "id": "706a6207",
   "metadata": {},
   "source": [
    "## What is YAML?\n",
    "YAML (YAML Ain't Markup Language) is a readable format for configuration and data exchange, popular in DevOps and data science."
   ]
  },
  {
   "cell_type": "code",
   "execution_count": null,
   "id": "63b28bb1",
   "metadata": {},
   "outputs": [],
   "source": [
    "# Requires: pip install pyyaml\n",
    "import yaml"
   ]
  },
  {
   "cell_type": "markdown",
   "id": "a9ad8806",
   "metadata": {},
   "source": [
    "## Serialize Python object to YAML\n",
    "This cell shows how to save a Python dictionary as YAML."
   ]
  },
  {
   "cell_type": "code",
   "execution_count": null,
   "id": "225811be",
   "metadata": {},
   "outputs": [],
   "source": [
    "config = {'version': 1, 'settings': {'theme': 'dark', 'autosave': True}}\n",
    "with open('config.yaml', 'w') as f:\n",
    "    yaml.dump(config, f)"
   ]
  },
  {
   "cell_type": "markdown",
   "id": "de6efd4e",
   "metadata": {},
   "source": [
    "## Load data from a YAML file\n",
    "This cell shows how to read YAML data from a file."
   ]
  },
  {
   "cell_type": "code",
   "execution_count": null,
   "id": "21c267c0",
   "metadata": {},
   "outputs": [],
   "source": [
    "with open('config.yaml', 'r') as f:\n",
    "    loaded_config = yaml.safe_load(f)\n",
    "print(loaded_config)"
   ]
  },
  {
   "cell_type": "markdown",
   "id": "b1d7f267",
   "metadata": {},
   "source": [
    "**Use case:** Application configuration, cloud infrastructure, and data pipelines."
   ]
  },
  {
   "cell_type": "markdown",
   "id": "2e23b280",
   "metadata": {},
   "source": [
    "## What is Pillow?\n",
    "Pillow (PIL) is a Python library for opening, processing, and saving images."
   ]
  },
  {
   "cell_type": "code",
   "execution_count": null,
   "id": "e73243b5",
   "metadata": {},
   "outputs": [],
   "source": [
    "from PIL import Image"
   ]
  },
  {
   "cell_type": "markdown",
   "id": "fecf1a6a",
   "metadata": {},
   "source": [
    "## Create a new image\n",
    "This cell creates a new image in memory."
   ]
  },
  {
   "cell_type": "code",
   "execution_count": null,
   "id": "118bebf8",
   "metadata": {},
   "outputs": [],
   "source": [
    "img = Image.new('RGB', (100, 50), color='red')"
   ]
  },
  {
   "cell_type": "markdown",
   "id": "8e05b8cc",
   "metadata": {},
   "source": [
    "## Save an image to a file\n",
    "This cell shows how to save an image created in Python."
   ]
  },
  {
   "cell_type": "code",
   "execution_count": null,
   "id": "7643604e",
   "metadata": {},
   "outputs": [],
   "source": [
    "img.save('red.png')"
   ]
  },
  {
   "cell_type": "markdown",
   "id": "faf8fc8d",
   "metadata": {},
   "source": [
    "## Open and display an image\n",
    "This cell demonstrates how to open and display an image file."
   ]
  },
  {
   "cell_type": "code",
   "execution_count": null,
   "id": "1a3e85b5",
   "metadata": {},
   "outputs": [],
   "source": [
    "img = Image.open('red.png')\n",
    "img.show()"
   ]
  },
  {
   "cell_type": "markdown",
   "id": "801ee6e8",
   "metadata": {},
   "source": [
    "**Use case:** Automate image processing, create thumbnails, or analyze photos."
   ]
  },
  {
   "cell_type": "markdown",
   "id": "783f738c",
   "metadata": {},
   "source": [
    "## What is PyPDF2?\n",
    "PyPDF2 is a Python library for reading and manipulating PDF files."
   ]
  },
  {
   "cell_type": "code",
   "execution_count": null,
   "id": "401a929e",
   "metadata": {},
   "outputs": [],
   "source": [
    "import PyPDF2"
   ]
  },
  {
   "cell_type": "markdown",
   "id": "f0054632",
   "metadata": {},
   "source": [
    "## Extract text from a PDF file\n",
    "This cell shows how to extract text from the first page of a PDF."
   ]
  },
  {
   "cell_type": "code",
   "execution_count": null,
   "id": "5da6a8b1",
   "metadata": {},
   "outputs": [],
   "source": [
    "with open('example.pdf', 'rb') as f:\n",
    "    reader = PyPDF2.PdfReader(f)\n",
    "    page = reader.pages[0]\n",
    "    print(page.extract_text())"
   ]
  },
  {
   "cell_type": "markdown",
   "id": "6e62a1c0",
   "metadata": {},
   "source": [
    "**Use case:** Extract data from reports, automate paperwork, or combine PDFs."
   ]
  },
  {
   "cell_type": "markdown",
   "id": "45147db4",
   "metadata": {},
   "source": [
    "## What are Binary Files?\n",
    "Binary files store data in a non-text format, useful for images, audio, or custom formats."
   ]
  },
  {
   "cell_type": "markdown",
   "id": "198c084c",
   "metadata": {},
   "source": [
    "## Write to a binary file\n",
    "This cell shows how to write bytes to a binary file."
   ]
  },
  {
   "cell_type": "code",
   "execution_count": null,
   "id": "b4918e8e",
   "metadata": {},
   "outputs": [],
   "source": [
    "with open('binary_example.bin', 'wb') as f:\n",
    "    f.write(b'\\x00\\x01\\x02Hello')"
   ]
  },
  {
   "cell_type": "markdown",
   "id": "fbcff7d9",
   "metadata": {},
   "source": [
    "## Read from a binary file\n",
    "This cell demonstrates how to read bytes from a binary file."
   ]
  },
  {
   "cell_type": "code",
   "execution_count": null,
   "id": "a5d9bb8b",
   "metadata": {},
   "outputs": [],
   "source": [
    "with open('binary_example.bin', 'rb') as f:\n",
    "    data = f.read()\n",
    "print(data)"
   ]
  },
  {
   "cell_type": "markdown",
   "id": "30e4f418",
   "metadata": {},
   "source": [
    "**Use case:** Storing images, audio, or any non-text data."
   ]
  },
  {
   "cell_type": "markdown",
   "id": "f81101d5",
   "metadata": {},
   "source": [
    "## What is SQLite?\n",
    "SQLite is a lightweight, file-based SQL database built into Python. Great for small apps and prototyping."
   ]
  },
  {
   "cell_type": "code",
   "execution_count": null,
   "id": "fd158e60",
   "metadata": {},
   "outputs": [],
   "source": [
    "import sqlite3"
   ]
  },
  {
   "cell_type": "markdown",
   "id": "0fbf7cef",
   "metadata": {},
   "source": [
    "## Create a SQLite database and table\n",
    "This cell creates a new database and a table."
   ]
  },
  {
   "cell_type": "code",
   "execution_count": null,
   "id": "0926c127",
   "metadata": {},
   "outputs": [],
   "source": [
    "conn = sqlite3.connect('example.db')\n",
    "cursor = conn.cursor()\n",
    "cursor.execute('CREATE TABLE IF NOT EXISTS users (id INTEGER PRIMARY KEY, name TEXT)')\n",
    "conn.commit()"
   ]
  },
  {
   "cell_type": "markdown",
   "id": "6cdff12f",
   "metadata": {},
   "source": [
    "## Insert data into a SQLite table\n",
    "This cell inserts a row into the users table."
   ]
  },
  {
   "cell_type": "code",
   "execution_count": null,
   "id": "b84bf4bd",
   "metadata": {},
   "outputs": [],
   "source": [
    "cursor.execute('INSERT INTO users (name) VALUES (?)', ('Alice',))\n",
    "conn.commit()"
   ]
  },
  {
   "cell_type": "markdown",
   "id": "2b364bf8",
   "metadata": {},
   "source": [
    "## Query data from a SQLite table\n",
    "This cell fetches all rows from the users table."
   ]
  },
  {
   "cell_type": "code",
   "execution_count": null,
   "id": "9664dbdf",
   "metadata": {},
   "outputs": [],
   "source": [
    "cursor.execute('SELECT * FROM users')\n",
    "print(cursor.fetchall())\n",
    "conn.close()"
   ]
  },
  {
   "cell_type": "markdown",
   "id": "5afbee72",
   "metadata": {},
   "source": [
    "**Use case:** Local databases for apps, prototyping, or data analysis."
   ]
  },
  {
   "cell_type": "markdown",
   "id": "1d078b83",
   "metadata": {},
   "source": [
    "## What is shelve?\n",
    "shelve is a Python module that provides a persistent dictionary-like object."
   ]
  },
  {
   "cell_type": "code",
   "execution_count": null,
   "id": "016ad978",
   "metadata": {},
   "outputs": [],
   "source": [
    "import shelve"
   ]
  },
  {
   "cell_type": "markdown",
   "id": "41aac70f",
   "metadata": {},
   "source": [
    "## Store and retrieve data with shelve\n",
    "This cell shows how to use shelve to persist Python objects."
   ]
  },
  {
   "cell_type": "code",
   "execution_count": null,
   "id": "acfe5b15",
   "metadata": {},
   "outputs": [],
   "source": [
    "with shelve.open('my_shelf.db') as db:\n",
    "    db['key'] = {'a': 1, 'b': 2}\n",
    "    print(db['key'])"
   ]
  },
  {
   "cell_type": "markdown",
   "id": "2431ff30",
   "metadata": {},
   "source": [
    "**Use case:** Simple persistent storage for Python objects."
   ]
  },
  {
   "cell_type": "markdown",
   "id": "f186e055",
   "metadata": {},
   "source": [
    "## What are tar archives?\n",
    "Tar files (.tar, .tar.gz) are used to bundle and compress multiple files, common in Unix/Linux."
   ]
  },
  {
   "cell_type": "code",
   "execution_count": null,
   "id": "9d9bf74e",
   "metadata": {},
   "outputs": [],
   "source": [
    "import tarfile"
   ]
  },
  {
   "cell_type": "markdown",
   "id": "e89c77c0",
   "metadata": {},
   "source": [
    "## Create a tar archive\n",
    "This cell shows how to create a tar archive and add files."
   ]
  },
  {
   "cell_type": "code",
   "execution_count": null,
   "id": "52f34ee3",
   "metadata": {},
   "outputs": [],
   "source": [
    "with tarfile.open('archive.tar.gz', 'w:gz') as tar:\n",
    "    tar.add('notes.txt')\n",
    "    tar.add('person.json')"
   ]
  },
  {
   "cell_type": "markdown",
   "id": "8c4755ba",
   "metadata": {},
   "source": [
    "## Extract files from a tar archive\n",
    "This cell shows how to extract all files from a tar archive."
   ]
  },
  {
   "cell_type": "code",
   "execution_count": null,
   "id": "a3e2f923",
   "metadata": {},
   "outputs": [],
   "source": [
    "with tarfile.open('archive.tar.gz', 'r:gz') as tar:\n",
    "    tar.extractall('extracted_tar')"
   ]
  },
  {
   "cell_type": "markdown",
   "id": "569ed982",
   "metadata": {},
   "source": [
    "**Use case:** Packaging, backups, and sharing datasets in Unix/Linux environments."
   ]
  }
 ],
 "metadata": {
  "kernelspec": {
   "display_name": "python_basics",
   "language": "python",
   "name": "python3"
  },
  "language_info": {
   "name": "python",
   "version": "3.10.16"
  }
 },
 "nbformat": 4,
 "nbformat_minor": 5
}
