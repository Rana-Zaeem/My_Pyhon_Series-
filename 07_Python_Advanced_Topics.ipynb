{
 "cells": [
  {
   "cell_type": "markdown",
   "id": "10f0794b",
   "metadata": {},
   "source": [
    "### Importing functools for Decorators\n",
    "\n",
    "**Introduction:**\n",
    "To create decorators that preserve function metadata, we need the `functools` module.\n",
    "\n",
    "**Real-life use case:**\n",
    "Developers use `functools.wraps` to ensure decorated functions retain their original name and docstring, which is important for debugging and documentation tools.\n",
    "\n",
    "**What the code does:**\n",
    "The next code cell imports the `functools` module."
   ]
  },
  {
   "cell_type": "code",
   "execution_count": null,
   "id": "9f1c4989",
   "metadata": {},
   "outputs": [],
   "source": [
    "import functools  # Import for decorator utilities"
   ]
  },
  {
   "cell_type": "markdown",
   "id": "5db4ac27",
   "metadata": {},
   "source": [
    "### Creating a Basic Logging Decorator\n",
    "\n",
    "**Introduction:**\n",
    "A decorator is a function that wraps another function to extend or modify its behavior. Here, we'll create a simple logging decorator.\n",
    "\n",
    "**Real-life use case:**\n",
    "Logging decorators are used in web applications to track API calls or in data pipelines to monitor function execution.\n",
    "\n",
    "**What the code does:**\n",
    "The next code cell defines a decorator that logs when a function is called and when it finishes."
   ]
  },
  {
   "cell_type": "code",
   "execution_count": null,
   "id": "ea1895b6",
   "metadata": {},
   "outputs": [],
   "source": [
    "# Basic decorator example\n",
    "def log_decorator(func):\n",
    "    \"\"\"A simple decorator that logs when a function is called and completed\"\"\"\n",
    "    @functools.wraps(func)  # This preserves the metadata of the decorated function\n",
    "    def wrapper(*args, **kwargs):\n",
    "        print(f'Calling {func.__name__}')  # Log before function execution\n",
    "        result = func(*args, **kwargs)    # Execute the original function\n",
    "        print(f'Finished {func.__name__}') # Log after function execution\n",
    "        return result                     # Return the result of the function\n",
    "    return wrapper  # Return the wrapper function"
   ]
  },
  {
   "cell_type": "markdown",
   "id": "351a65cc",
   "metadata": {},
   "source": [
    "### Applying a Decorator to a Function\n",
    "\n",
    "**Introduction:**\n",
    "Decorators are applied to functions using the `@` syntax. This allows you to easily add extra behavior to any function.\n",
    "\n",
    "**Real-life use case:**\n",
    "You might use a decorator to add authentication checks to sensitive functions in a web app.\n",
    "\n",
    "**What the code does:**\n",
    "The next code cell applies the logging decorator to a greeting function and calls it."
   ]
  },
  {
   "cell_type": "code",
   "execution_count": null,
   "id": "98d5f5ae",
   "metadata": {},
   "outputs": [],
   "source": [
    "# Apply the decorator using the @ syntax\n",
    "@log_decorator\n",
    "def greet(name):\n",
    "    \"\"\"Greet someone by name\"\"\"\n",
    "    print(f'Hello, {name}!')\n",
    "    return f'Greeting to {name} was successful'\n",
    "\n",
    "# Call the decorated function\n",
    "result = greet('Alice')\n",
    "print(f\"Return value: {result}\")"
   ]
  },
  {
   "cell_type": "markdown",
   "id": "3cd532d6",
   "metadata": {},
   "source": [
    "### Creating a Timing Decorator\n",
    "\n",
    "**Introduction:**\n",
    "A timing decorator measures how long a function takes to execute. This is useful for performance monitoring.\n",
    "\n",
    "**Real-life use case:**\n",
    "Timing decorators are used in data science to profile slow functions or in production systems to monitor latency.\n",
    "\n",
    "**What the code does:**\n",
    "The next code cell defines a decorator that prints the execution time of a function."
   ]
  },
  {
   "cell_type": "code",
   "execution_count": null,
   "id": "f525e5b8",
   "metadata": {},
   "outputs": [],
   "source": [
    "# Create a decorator for timing function execution\n",
    "def timer_decorator(func):\n",
    "    @functools.wraps(func)\n",
    "    def wrapper(*args, **kwargs):\n",
    "        import time\n",
    "        start_time = time.time()\n",
    "        result = func(*args, **kwargs)\n",
    "        end_time = time.time()\n",
    "        print(f'{func.__name__} took {end_time - start_time:.4f} seconds to run')\n",
    "        return result\n",
    "    return wrapper"
   ]
  },
  {
   "cell_type": "markdown",
   "id": "07aba8fc",
   "metadata": {},
   "source": [
    "### Using a Timing Decorator on a Slow Function\n",
    "\n",
    "**Introduction:**\n",
    "Let's see how the timing decorator works by applying it to a function that simulates a slow operation.\n",
    "\n",
    "**Real-life use case:**\n",
    "You might use this to profile a function that loads data from disk or performs a complex calculation.\n",
    "\n",
    "**What the code does:**\n",
    "The next code cell applies the timing decorator to a function and calls it."
   ]
  },
  {
   "cell_type": "code",
   "execution_count": null,
   "id": "1fd0ca2d",
   "metadata": {},
   "outputs": [],
   "source": [
    "@timer_decorator\n",
    "def slow_function():\n",
    "    \"\"\"A function that takes some time to execute\"\"\"\n",
    "    import time\n",
    "    time.sleep(1)  # Simulate slow execution\n",
    "    return \"Done processing\"\n",
    "\n",
    "slow_function()"
   ]
  },
  {
   "cell_type": "markdown",
   "id": "94c50f69",
   "metadata": {},
   "source": [
    "### Key Takeaways for Decorators\n",
    "\n",
    "**Introduction:**\n",
    "Decorators are a powerful feature for code reuse and separation of concerns.\n",
    "\n",
    "**Real-life use case:**\n",
    "Use decorators for logging, authentication, timing, and more in production code.\n",
    "\n",
    "**What the code does:**\n",
    "This cell summarizes best practices and common mistakes when using decorators."
   ]
  },
  {
   "cell_type": "markdown",
   "id": "0bc77dc7",
   "metadata": {},
   "source": [
    "- Always use `functools.wraps` to preserve function metadata.\n",
    "- Remember to return the wrapper function from your decorator.\n",
    "- Decorators can be stacked for multiple behaviors.\n",
    "- Use decorators to keep code DRY (Don't Repeat Yourself).\n",
    "- Common mistakes: forgetting to return the wrapper, losing metadata, or overusing decorators for simple logic."
   ]
  },
  {
   "cell_type": "markdown",
   "id": "1f630af1",
   "metadata": {},
   "source": [
    "### Introduction to Generators\n",
    "\n",
    "**Introduction:**\n",
    "Generators are special functions that yield items one at a time, allowing for memory-efficient iteration over large datasets.\n",
    "\n",
    "**Real-life use case:**\n",
    "Reading large files line by line without loading the entire file into memory.\n",
    "\n",
    "**What the code does:**\n",
    "The next code cell defines a basic generator function for counting down from a given number."
   ]
  },
  {
   "cell_type": "code",
   "execution_count": null,
   "id": "cac154b5",
   "metadata": {},
   "outputs": [],
   "source": [
    "# Basic generator using the yield keyword\n",
    "def countdown(n):\n",
    "    \"\"\"A generator that counts down from n to 1\"\"\"\n",
    "    print(\"Starting countdown\")\n",
    "    while n > 0:\n",
    "        yield n  # Pause execution and return value\n",
    "        n -= 1  # Continue execution after the next() call\n",
    "    print(\"Countdown finished\")"
   ]
  },
  {
   "cell_type": "markdown",
   "id": "e357db7b",
   "metadata": {},
   "source": [
    "### Creating and Inspecting a Generator Object\n",
    "\n",
    "**Introduction:**\n",
    "When you call a generator function, it returns a generator object that can be iterated over.\n",
    "\n",
    "**Real-life use case:**\n",
    "Generators are used in data pipelines to process streams of data efficiently.\n",
    "\n",
    "**What the code does:**\n",
    "The next code cell creates a generator object and prints its type."
   ]
  },
  {
   "cell_type": "code",
   "execution_count": null,
   "id": "f079f87c",
   "metadata": {},
   "outputs": [],
   "source": [
    "# Creating a generator object\n",
    "gen = countdown(3)\n",
    "print(f\"Type of gen: {type(gen)}\")"
   ]
  },
  {
   "cell_type": "markdown",
   "id": "f156c7ef",
   "metadata": {},
   "source": [
    "### Manual Iteration with next()\n",
    "\n",
    "**Introduction:**\n",
    "You can manually retrieve values from a generator using the `next()` function.\n",
    "\n",
    "**Real-life use case:**\n",
    "Manual iteration is useful when you want fine-grained control over the iteration process.\n",
    "\n",
    "**What the code does:**\n",
    "The next code cell demonstrates manual iteration through the generator."
   ]
  },
  {
   "cell_type": "code",
   "execution_count": null,
   "id": "0f511064",
   "metadata": {},
   "outputs": [],
   "source": [
    "# Manually iterating through the generator\n",
    "print(\"\\nManual iteration:\")\n",
    "print(next(gen))  # Get the first value\n",
    "print(next(gen))  # Get the second value\n",
    "print(next(gen))  # Get the third value\n",
    "# print(next(gen))  # Uncommenting this would raise StopIteration"
   ]
  },
  {
   "cell_type": "markdown",
   "id": "2de86b48",
   "metadata": {},
   "source": [
    "### Iterating with a for Loop\n",
    "\n",
    "**Introduction:**\n",
    "A for loop can automatically iterate through a generator, handling `StopIteration` exceptions for you.\n",
    "\n",
    "**Real-life use case:**\n",
    "For loops are commonly used to process all items from a generator in data processing tasks.\n",
    "\n",
    "**What the code does:**\n",
    "The next code cell uses a for loop to iterate through the countdown generator."
   ]
  },
  {
   "cell_type": "code",
   "execution_count": null,
   "id": "21ca6852",
   "metadata": {},
   "outputs": [],
   "source": [
    "# A new generator instance\n",
    "print(\"\\nUsing for loop:\")\n",
    "for num in countdown(3):  # Automatically handles StopIteration\n",
    "    print(num)"
   ]
  },
  {
   "cell_type": "markdown",
   "id": "6a7f842b",
   "metadata": {},
   "source": [
    "### Memory Efficiency: List vs Generator\n",
    "\n",
    "**Introduction:**\n",
    "Generators are more memory-efficient than lists when working with large or infinite sequences.\n",
    "\n",
    "**Real-life use case:**\n",
    "Processing millions of records in a data pipeline without running out of memory.\n",
    "\n",
    "**What the code does:**\n",
    "The next code cell compares the memory usage of a list and a generator."
   ]
  },
  {
   "cell_type": "code",
   "execution_count": null,
   "id": "58236fdd",
   "metadata": {},
   "outputs": [],
   "source": [
    "# Memory efficiency example\n",
    "import sys\n",
    "\n",
    "# Regular list approach\n",
    "numbers_list = [x for x in range(1000)]\n",
    "print(f\"Size of list: {sys.getsizeof(numbers_list)} bytes\")\n",
    "\n",
    "# Generator approach\n",
    "numbers_gen = (x for x in range(1000))  # Generator expression\n",
    "print(f\"Size of generator: {sys.getsizeof(numbers_gen)} bytes\")"
   ]
  },
  {
   "cell_type": "markdown",
   "id": "f276155c",
   "metadata": {},
   "source": [
    "### Key Takeaways for Generators\n",
    "\n",
    "**Introduction:**\n",
    "Generators are ideal for working with large datasets or streams of data.\n",
    "\n",
    "**Real-life use case:**\n",
    "Use generators to process log files, sensor data, or any large/infinite sequence efficiently.\n",
    "\n",
    "**What the code does:**\n",
    "This cell summarizes best practices and common mistakes when using generators."
   ]
  },
  {
   "cell_type": "markdown",
   "id": "4b4410df",
   "metadata": {},
   "source": [
    "- Use `yield` to create generators for memory efficiency.\n",
    "- Use for loops for simple iteration, and `next()` for manual control.\n",
    "- Generators are not reusable; create a new one if you need to iterate again.\n",
    "- Common mistakes: forgetting to use `yield`, or trying to access all values at once."
   ]
  },
  {
   "cell_type": "markdown",
   "id": "24ae9586",
   "metadata": {},
   "source": [
    "### Introduction to Comprehensions\n",
    "\n",
    "**Introduction:**\n",
    "Comprehensions provide a concise way to create lists, sets, and dictionaries in Python.\n",
    "\n",
    "**Real-life use case:**\n",
    "Quickly filter and transform data, such as extracting emails from a list of users or removing duplicates from a dataset.\n",
    "\n",
    "**What the code does:**\n",
    "The next code cell demonstrates a basic list comprehension to filter even numbers from a range."
   ]
  },
  {
   "cell_type": "code",
   "execution_count": null,
   "id": "48cdcc93",
   "metadata": {},
   "outputs": [],
   "source": [
    "# List comprehension - compact way to create lists\n",
    "evens = [x for x in range(10) if x % 2 == 0]  # Filter even numbers\n",
    "print(f\"Even numbers: {evens}\")"
   ]
  },
  {
   "cell_type": "markdown",
   "id": "32bfe53a",
   "metadata": {},
   "source": [
    "### Set and Dictionary Comprehensions\n",
    "\n",
    "**Introduction:**\n",
    "Set and dictionary comprehensions allow you to create sets and dictionaries in a single line of code.\n",
    "\n",
    "**Real-life use case:**\n",
    "Removing duplicates from a list or mapping values to their squares for quick lookup.\n",
    "\n",
    "**What the code does:**\n",
    "The next code cell shows set and dictionary comprehensions in action."
   ]
  },
  {
   "cell_type": "code",
   "execution_count": null,
   "id": "d02ca74f",
   "metadata": {},
   "outputs": [],
   "source": [
    "# Set comprehension - creates sets (unique elements)\n",
    "squares = {x**2 for x in range(5)}\n",
    "print(f\"Squares: {squares}\")\n",
    "\n",
    "# Dictionary comprehension - creates dictionaries\n",
    "square_map = {x: x**2 for x in range(5)}\n",
    "print(f\"Number-to-square mapping: {square_map}\")"
   ]
  },
  {
   "cell_type": "markdown",
   "id": "0131280c",
   "metadata": {},
   "source": [
    "### Nested Comprehensions and Performance\n",
    "\n",
    "**Introduction:**\n",
    "Comprehensions can be nested for more complex data transformations, and are often faster than equivalent for loops.\n",
    "\n",
    "**Real-life use case:**\n",
    "Transposing a matrix or flattening a list of lists in a single line.\n",
    "\n",
    "**What the code does:**\n",
    "The next code cell demonstrates a nested list comprehension and compares performance with a for loop."
   ]
  },
  {
   "cell_type": "code",
   "execution_count": null,
   "id": "c72c40fb",
   "metadata": {},
   "outputs": [],
   "source": [
    "# Nested list comprehension\n",
    "matrix = [[1, 2, 3], [4, 5, 6], [7, 8, 9]]\n",
    "transposed = [[row[i] for row in matrix] for i in range(3)]\n",
    "print(f\"Transposed matrix: {transposed}\")\n",
    "\n",
    "# Performance comparison\n",
    "import time\n",
    "start = time.time()\n",
    "comp_result = [i*i for i in range(10000)]\n",
    "comp_time = time.time() - start\n",
    "print(f\"List comprehension time: {comp_time:.6f} seconds\")\n",
    "\n",
    "start = time.time()\n",
    "loop_result = []\n",
    "for i in range(10000):\n",
    "    loop_result.append(i*i)\n",
    "loop_time = time.time() - start\n",
    "print(f\"For loop time: {loop_time:.6f} seconds\")"
   ]
  },
  {
   "cell_type": "markdown",
   "id": "093e4e52",
   "metadata": {},
   "source": [
    "### Key Takeaways for Comprehensions\n",
    "\n",
    "**Introduction:**\n",
    "Comprehensions are powerful for concise, readable data transformations, but should be used judiciously for clarity.\n",
    "\n",
    "**Real-life use case:**\n",
    "Use comprehensions for simple filtering, mapping, and flattening tasks in data analysis and web development.\n",
    "\n",
    "**What the code does:**\n",
    "This cell summarizes best practices and common mistakes when using comprehensions."
   ]
  },
  {
   "cell_type": "markdown",
   "id": "77f14548",
   "metadata": {},
   "source": [
    "- Use comprehensions for simple, readable transformations.\n",
    "- Avoid deeply nested comprehensions for complex logic; use loops for clarity.\n",
    "- Comprehensions can be used for lists, sets, and dictionaries.\n",
    "- Common mistakes: overusing comprehensions for complex tasks, making code hard to read."
   ]
  }
 ],
 "metadata": {
  "kernelspec": {
   "display_name": "base",
   "language": "python",
   "name": "python3"
  },
  "language_info": {
   "codemirror_mode": {
    "name": "ipython",
    "version": 3
   },
   "file_extension": ".py",
   "mimetype": "text/x-python",
   "name": "python",
   "nbconvert_exporter": "python",
   "pygments_lexer": "ipython3",
   "version": "3.12.9"
  }
 },
 "nbformat": 4,
 "nbformat_minor": 5
}
