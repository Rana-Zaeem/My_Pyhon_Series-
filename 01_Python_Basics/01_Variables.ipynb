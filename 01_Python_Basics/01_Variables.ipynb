{
 "cells": [
  {
   "cell_type": "markdown",
   "id": "42cc49a0",
   "metadata": {},
   "source": [
    "# Variables in Python\n",
    "\n",
    "## Introduction to Variables\n",
    "\n",
    "### English\n",
    "A variable in programming is like a labeled container that holds a value. This value can be changed (varied) during the execution of a program, hence the name 'variable'. In Python, variables are created when you assign a value to them.\n",
    "\n",
    "### اردو (Urdu)\n",
    "پروگرامنگ میں ویریایبل ایک لیبل شدہ ڈبے کی طرح ہوتا ہے جو کسی قیمت کو رکھتا ہے۔ پروگرام کے دوران اس کی قیمت کو تبدیل کیا جا سکتا ہے، اسی لیے اسے 'ویریایبل' کہا جاتا ہے۔ پایتھن میں، ویریایبل اس وقت بنتے ہیں جب آپ انہیں کوئی قیمت دیتے ہیں۔"
   ]
  },
  {
   "cell_type": "markdown",
   "id": "5a9611bd",
   "metadata": {},
   "source": [
    "## A Real-World Analogy: Zaeem's Fruit Basket\n",
    "\n",
    "### English\n",
    "Imagine Zaeem has a basket. This basket can hold different types of fruits. Today, Zaeem puts 5 apples in the basket.\n",
    "\n",
    "In this analogy:\n",
    "- The basket is like a variable (a container)\n",
    "- The apples are the value stored in the variable\n",
    "- The label \"Zaeem's basket\" is like the variable name\n",
    "\n",
    "Tomorrow, Zaeem might decide to replace the apples with 3 oranges. The basket (variable) remains the same, but its contents (value) have changed.\n",
    "\n",
    "### اردو (Urdu)\n",
    "تصور کیجیے کہ زعیم کے پاس ایک ٹوکری ہے۔ یہ ٹوکری مختلف قسم کے پھل رکھ سکتی ہے۔ آج، زعیم نے ٹوکری میں 5 سیب رکھے ہیں۔\n",
    "\n",
    "اس مثال میں:\n",
    "- ٹوکری ویریایبل کی طرح ہے (ایک ڈبہ)\n",
    "- سیب ویریایبل میں محفوظ قیمت ہیں\n",
    "- \"زعیم کی ٹوکری\" کا لیبل ویریایبل کے نام کی طرح ہے\n",
    "\n",
    "کل، زعیم سیبوں کو 3 مالٹوں سے بدلنے کا فیصلہ کر سکتا ہے۔ ٹوکری (ویریایبل) وہی رہتی ہے، لیکن اس کے محتویات (قیمت) تبدیل ہو جاتے ہیں۔"
   ]
  },
  {
   "cell_type": "markdown",
   "id": "7a62cb08",
   "metadata": {},
   "source": [
    "![Python Variable Concept: A basket holding fruits](https://i.imgur.com/Jw3k3Rf.png)"
   ]
  },
  {
   "cell_type": "markdown",
   "id": "a9d98628",
   "metadata": {},
   "source": [
    "## Creating Variables in Python\n",
    "\n",
    "### English\n",
    "In Python, we create a variable by assigning a value to a name using the equal sign (`=`).\n",
    "\n",
    "### اردو (Urdu)\n",
    "پایتھن میں، ہم ایک ویریایبل بناتے ہیں جب ہم برابر کے نشان (`=`) کے ذریعے ایک نام کو قیمت دیتے ہیں۔"
   ]
  },
  {
   "cell_type": "code",
   "execution_count": null,
   "id": "05ed6041",
   "metadata": {},
   "outputs": [],
   "source": [
    "# Creating a variable named 'basket' with a value of 5\n",
    "basket = 5\n",
    "\n",
    "# Displaying the value of the variable\n",
    "print(\"Zaeem's basket contains\", basket, \"apples.\")"
   ]
  },
  {
   "cell_type": "markdown",
   "id": "83f20698",
   "metadata": {},
   "source": [
    "## Changing Variable Values\n",
    "\n",
    "### English\n",
    "We can change the value of a variable at any time by assigning a new value to it.\n",
    "\n",
    "### اردو (Urdu)\n",
    "ہم کسی بھی وقت ویریایبل کی قیمت کو اس میں نئی قیمت دے کر تبدیل کر سکتے ہیں۔"
   ]
  },
  {
   "cell_type": "code",
   "execution_count": null,
   "id": "e7161c6f",
   "metadata": {},
   "outputs": [],
   "source": [
    "# First, the basket has 5 apples\n",
    "basket = 5\n",
    "print(\"Day 1: Zaeem's basket contains\", basket, \"apples.\")\n",
    "\n",
    "# The next day, Zaeem changes the contents to 3 oranges\n",
    "basket = 3\n",
    "print(\"Day 2: Zaeem's basket now contains\", basket, \"oranges.\")"
   ]
  },
  {
   "cell_type": "markdown",
   "id": "a6636f4a",
   "metadata": {},
   "source": [
    "## Variable Naming Rules\n",
    "\n",
    "### English\n",
    "In Python, variable names must follow certain rules:\n",
    "1. They can contain letters, numbers, and underscores\n",
    "2. They cannot start with a number\n",
    "3. They are case-sensitive (e.g., `basket` and `Basket` are different variables)\n",
    "4. They cannot be Python reserved keywords (like `if`, `for`, `while`, etc.)\n",
    "\n",
    "### اردو (Urdu)\n",
    "پایتھن میں، ویریایبل کے ناموں کے لیے کچھ اصول ہیں:\n",
    "1. ان میں حروف، نمبر، اور انڈرسکور شامل ہو سکتے ہیں\n",
    "2. وہ کسی نمبر سے شروع نہیں ہو سکتے\n",
    "3. وہ کیس سینسٹو ہوتے ہیں (مثلاً، `basket` اور `Basket` مختلف ویریایبل ہیں)\n",
    "4. وہ پایتھن کے مخصوص الفاظ نہیں ہو سکتے (جیسے `if`, `for`, `while` وغیرہ)"
   ]
  },
  {
   "cell_type": "code",
   "execution_count": null,
   "id": "cb8f4803",
   "metadata": {},
   "outputs": [],
   "source": [
    "# Valid variable names\n",
    "my_basket = 10\n",
    "zaeemsBasket = 5\n",
    "basket_2 = 7\n",
    "_basket = 3\n",
    "\n",
    "# Invalid variable names (uncomment to see errors)\n",
    "# 2basket = 6      # Cannot start with a number\n",
    "# my-basket = 9    # Cannot use hyphen\n",
    "# if = 10          # Cannot use Python keywords"
   ]
  },
  {
   "cell_type": "markdown",
   "id": "d58818b7",
   "metadata": {},
   "source": [
    "## Using Variables in Expressions\n",
    "\n",
    "### English\n",
    "Variables can be used in expressions to perform calculations.\n",
    "\n",
    "### اردو (Urdu)\n",
    "ویریایبل کو حسابی عملیات کے لیے استعمال کیا جا سکتا ہے۔"
   ]
  },
  {
   "cell_type": "code",
   "execution_count": null,
   "id": "abcf0efd",
   "metadata": {},
   "outputs": [],
   "source": [
    "# Zaeem has two baskets\n",
    "basket1 = 5  # 5 apples in first basket\n",
    "basket2 = 3  # 3 apples in second basket\n",
    "\n",
    "# Total apples\n",
    "total_apples = basket1 + basket2\n",
    "\n",
    "print(\"Zaeem has\", basket1, \"apples in the first basket.\")\n",
    "print(\"Zaeem has\", basket2, \"apples in the second basket.\")\n",
    "print(\"In total, Zaeem has\", total_apples, \"apples.\")"
   ]
  },
  {
   "cell_type": "markdown",
   "id": "2e44b37a",
   "metadata": {},
   "source": [
    "## Practice Exercises\n",
    "\n",
    "### English\n",
    "Try these exercises to practice using variables:\n",
    "\n",
    "1. Create a variable called `name` and assign your name to it\n",
    "2. Create a variable called `age` and assign your age to it\n",
    "3. Print a message using these variables: \"My name is [name] and I am [age] years old.\"\n",
    "4. Calculate how old you will be in 10 years and store it in a new variable\n",
    "5. Print a message about your future age\n",
    "\n",
    "### اردو (Urdu)\n",
    "ویریایبل کے استعمال کی مشق کے لیے ان مشقوں کو آزمائیں:\n",
    "\n",
    "1. `name` نام کا ایک ویریایبل بنائیں اور اس میں اپنا نام رکھیں\n",
    "2. `age` نام کا ایک ویریایبل بنائیں اور اس میں اپنی عمر رکھیں\n",
    "3. ان ویریایبلز کا استعمال کرتے ہوئے ایک پیغام پرنٹ کریں: \"میرا نام [نام] ہے اور میں [عمر] سال کا ہوں۔\"\n",
    "4. محاسبہ کریں کہ 10 سال بعد آپ کی عمر کیا ہوگی اور اسے ایک نئے ویریایبل میں محفوظ کریں\n",
    "5. اپنی مستقبل کی عمر کے بارے میں ایک پیغام پرنٹ کریں"
   ]
  },
  {
   "cell_type": "code",
   "execution_count": null,
   "id": "acdc2751",
   "metadata": {},
   "outputs": [],
   "source": [
    "# Exercise solution (try to solve it yourself first!)\n",
    "\n",
    "# 1. Create a variable for your name\n",
    "name = \"Zaeem\"\n",
    "\n",
    "# 2. Create a variable for your age\n",
    "age = 25\n",
    "\n",
    "# 3. Print a message using these variables\n",
    "print(\"My name is\", name, \"and I am\", age, \"years old.\")\n",
    "print(f\"My name is {name} and I am {age} years old.\")  # Using f-string (a more modern approach)\n",
    "\n",
    "# 4. Calculate future age\n",
    "future_age = age + 10\n",
    "\n",
    "# 5. Print a message about future age\n",
    "print(f\"In 10 years, I will be {future_age} years old.\")"
   ]
  },
  {
   "cell_type": "markdown",
   "id": "f080addf",
   "metadata": {},
   "source": [
    "## Summary\n",
    "\n",
    "### English\n",
    "In this lesson, we learned:\n",
    "- What variables are in Python and how they work\n",
    "- How to create and name variables\n",
    "- How to change variable values\n",
    "- How to use variables in expressions\n",
    "- Rules for naming variables\n",
    "\n",
    "Variables are fundamental to programming as they allow us to store and manipulate data throughout our code.\n",
    "\n",
    "### اردو (Urdu)\n",
    "اس سبق میں، ہم نے سیکھا:\n",
    "- پایتھن میں ویریایبل کیا ہوتے ہیں اور وہ کیسے کام کرتے ہیں\n",
    "- ویریایبل کیسے بنائے اور ان کا نام کیسے رکھا جاتا ہے\n",
    "- ویریایبل کی قیمت کیسے تبدیل کی جاتی ہے\n",
    "- ویریایبل کو حسابی عملیات میں کیسے استعمال کیا جاتا ہے\n",
    "- ویریایبل کے نام رکھنے کے اصول\n",
    "\n",
    "ویریایبل پروگرامنگ میں بنیادی اہمیت رکھتے ہیں کیونکہ وہ ہمیں اپنے کوڈ میں ڈیٹا کو محفوظ کرنے اور اس میں ترمیم کرنے کی اجازت دیتے ہیں۔"
   ]
  },
  {
   "cell_type": "markdown",
   "id": "063f400d",
   "metadata": {},
   "source": [
    "## Next Steps\n",
    "\n",
    "### English\n",
    "In the next lesson, we'll learn about different data types in Python such as strings, integers, floats, and booleans.\n",
    "\n",
    "### اردو (Urdu)\n",
    "اگلے سبق میں، ہم پایتھن میں مختلف ڈیٹا ٹائپس کے بارے میں سیکھیں گے جیسے سٹرنگز، انٹیجرز، فلوٹس، اور بولینز۔"
   ]
  }
 ],
 "metadata": {
  "language_info": {
   "name": "python"
  }
 },
 "nbformat": 4,
 "nbformat_minor": 5
}
