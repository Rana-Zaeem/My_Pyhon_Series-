{
 "cells": [
  {
   "cell_type": "markdown",
   "metadata": {},
   "source": [
    "# Functions in Python\n",
    "\n",
    "## Introduction to Functions\n",
    "\n",
    "### English\n",
    "A function is a reusable block of code designed to perform a specific task. Functions allow you to organize your code, make it more readable, and prevent repetition. In data science, functions are essential for creating modular code that can be easily maintained and reused.\n",
    "\n",
    "### اردو (Urdu)\n",
    "فنکشن کوڈ کا ایک قابل استعمال بلاک ہے جو کسی مخصوص کام کو انجام دینے کے لیے ڈیزائن کیا گیا ہے۔ فنکشنز آپ کو اپنے کوڈ کو منظم کرنے، اسے زیادہ پڑھنے کے قابل بنانے، اور تکرار کو روکنے کی اجازت دیتے ہیں۔ ڈیٹا سائنس میں، فنکشنز ماڈیولر کوڈ بنانے کے لیے ضروری ہیں جنہیں آسانی سے برقرار اور دوبارہ استعمال کیا جا سکتا ہے۔"
   ]
  }
 ],
 "metadata": {
  "language_info": {
   "name": "python"
  }
 },
 "nbformat": 4,
 "nbformat_minor": 5
}
