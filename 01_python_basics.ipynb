{
 "cells": [
  {
   "cell_type": "markdown",
   "id": "735bfddf",
   "metadata": {},
   "source": [
    "# Python Basics for Data Science\n",
    "\n",
    "This notebook covers all essential Python basics required for data science, including definitions, code examples, and real-life uses."
   ]
  },
  {
   "cell_type": "markdown",
   "id": "5d36b32c",
   "metadata": {},
   "source": [
    "## 1. Variables and Data Types\n",
    "Variables store data. Python supports types like int, float, str, and bool.\n",
    "\n",
    "**What's next:** You'll see how to declare variables of different types and check their types.\n",
    "\n",
    "**Real-life use:** Storing user age, product price, or a name."
   ]
  },
  {
   "cell_type": "code",
   "execution_count": 1,
   "id": "be276ead",
   "metadata": {},
   "outputs": [
    {
     "name": "stdout",
     "output_type": "stream",
     "text": [
      "<class 'int'> <class 'float'> <class 'str'> <class 'bool'>\n"
     ]
    }
   ],
   "source": [
    "# Declaring variables of different types\n",
    "age = 30  # int\n",
    "price = 19.99  # float\n",
    "name = 'Alice'  # str\n",
    "is_active = True  # bool\n",
    "\n",
    "# Checking types\n",
    "print(type(age), type(price), type(name), type(is_active))  \n",
    "# Output: <class 'int'> <class 'float'> <class 'str'> <class 'bool'>"
   ]
  },
  {
   "cell_type": "markdown",
   "id": "1b712606",
   "metadata": {},
   "source": [
    "## 2. Basic Operators\n",
    "Operators perform operations on variables and values.\n",
    "\n",
    "**What's next:** You'll see examples of arithmetic and exponentiation.\n",
    "\n",
    "**Real-life use:** Calculating total price, discounts, or averages."
   ]
  },
  {
   "cell_type": "code",
   "execution_count": 2,
   "id": "3b2dad4e",
   "metadata": {},
   "outputs": [
    {
     "name": "stdout",
     "output_type": "stream",
     "text": [
      "Addition: 13\n",
      "Division: 3.3333333333333335\n",
      "Exponent: 1000\n",
      " 13\n",
      "Division: 3.3333333333333335\n",
      "Exponent: 1000\n"
     ]
    }
   ],
   "source": [
    "# Arithmetic operations\n",
    "a = 10\n",
    "b = 3\n",
    "print('Addition:', a + b)       # Output: Addition: 13\n",
    "print('Division:', a / b)      # Output: Division: 3.3333333333333335\n",
    "print('Exponent:', a ** b)     # Output: Exponent: 1000"
   ]
  },
  {
   "cell_type": "markdown",
   "id": "f8dc87cb",
   "metadata": {},
   "source": [
    "## 3. Control Flow: if, elif, else\n",
    "Control flow lets you make decisions in code.\n",
    "\n",
    "**What's next:** You'll see how to use if-else to branch logic.\n",
    "\n",
    "**Real-life use:** Checking if a user is old enough to access a service."
   ]
  },
  {
   "cell_type": "code",
   "execution_count": 3,
   "id": "5566a393",
   "metadata": {},
   "outputs": [
    {
     "name": "stdout",
     "output_type": "stream",
     "text": [
      "Adult\n"
     ]
    }
   ],
   "source": [
    "# Using if-else for decision making\n",
    "age = 18\n",
    "if age >= 18:\n",
    "    print('Adult')  # This will be executed since age is 18\n",
    "else:\n",
    "    print('Minor')  # This will not be executed\n",
    "    \n",
    "# Output: Adult"
   ]
  },
  {
   "cell_type": "markdown",
   "id": "5cafbc86",
   "metadata": {},
   "source": [
    "## 4. Loops: for and while\n",
    "Loops repeat actions. `for` is used for iterating, `while` for repeating until a condition is met.\n",
    "\n",
    "**What's next:** You'll see both for and while loops in action.\n",
    "\n",
    "**Real-life use:** Processing all rows in a dataset."
   ]
  },
  {
   "cell_type": "code",
   "execution_count": 4,
   "id": "ec8e998e",
   "metadata": {},
   "outputs": [
    {
     "name": "stdout",
     "output_type": "stream",
     "text": [
      "Iteration 0\n",
      "Iteration 1\n",
      "Iteration 2\n"
     ]
    }
   ],
   "source": [
    "# For loop example\n",
    "for i in range(3):\n",
    "    print('Iteration', i)\n",
    "# Output:\n",
    "# Iteration 0\n",
    "# Iteration 1\n",
    "# Iteration 2"
   ]
  },
  {
   "cell_type": "code",
   "execution_count": 5,
   "id": "368a3b7f",
   "metadata": {},
   "outputs": [
    {
     "name": "stdout",
     "output_type": "stream",
     "text": [
      "Count: 0\n",
      "Count: 1\n",
      "Count: 2\n",
      " 0\n",
      "Count: 1\n",
      "Count: 2\n"
     ]
    }
   ],
   "source": [
    "# While loop example\n",
    "count = 0\n",
    "while count < 3:\n",
    "    print('Count:', count)\n",
    "    count += 1\n",
    "# Output:\n",
    "# Count: 0\n",
    "# Count: 1\n",
    "# Count: 2"
   ]
  },
  {
   "cell_type": "markdown",
   "id": "e8721156",
   "metadata": {},
   "source": [
    "## 5. Functions and Lambda Expressions\n",
    "Functions organize code into reusable blocks. Lambda creates small anonymous functions.\n",
    "\n",
    "**What's next:** You'll see how to define and use functions and lambdas.\n",
    "\n",
    "**Real-life use:** Data cleaning, feature engineering."
   ]
  },
  {
   "cell_type": "code",
   "execution_count": 6,
   "id": "0ad78384",
   "metadata": {},
   "outputs": [
    {
     "name": "stdout",
     "output_type": "stream",
     "text": [
      "25\n",
      "36\n"
     ]
    }
   ],
   "source": [
    "# Defining and using a function\n",
    "def square(x):\n",
    "    return x * x\n",
    "\n",
    "print(square(5))  # Output: 25\n",
    "\n",
    "# Lambda (anonymous) function\n",
    "square_lambda = lambda x: x * x\n",
    "print(square_lambda(6))  # Output: 36"
   ]
  },
  {
   "cell_type": "markdown",
   "id": "5a232a68",
   "metadata": {},
   "source": [
    "## 6. List, Tuple, and Dictionary Operations\n",
    "Lists, tuples, and dictionaries store collections of data.\n",
    "\n",
    "**What's next:** You'll see how to create and access these data structures.\n",
    "\n",
    "**Real-life use:** Storing columns of data, mapping names to values."
   ]
  },
  {
   "cell_type": "code",
   "execution_count": 7,
   "id": "611ef176",
   "metadata": {},
   "outputs": [
    {
     "name": "stdout",
     "output_type": "stream",
     "text": [
      "1 5 1\n"
     ]
    }
   ],
   "source": [
    "# Creating and accessing lists, tuples, and dictionaries\n",
    "my_list = [1, 2, 3]          # A mutable ordered collection\n",
    "my_tuple = (4, 5, 6)        # An immutable ordered collection\n",
    "my_dict = {'a': 1, 'b': 2}  # A key-value mapping\n",
    "print(my_list[0], my_tuple[1], my_dict['a'])  # Output: 1 5 1"
   ]
  },
  {
   "cell_type": "markdown",
   "id": "a2ab20bb",
   "metadata": {},
   "source": [
    "## 7. String Manipulation\n",
    "Strings are text data. You can slice, format, and search them.\n",
    "\n",
    "**What's next:** You'll see how to change case and replace text in strings.\n",
    "\n",
    "**Real-life use:** Parsing CSV files, cleaning text data."
   ]
  },
  {
   "cell_type": "code",
   "execution_count": 8,
   "id": "0539a72f",
   "metadata": {},
   "outputs": [
    {
     "name": "stdout",
     "output_type": "stream",
     "text": [
      "data science\n",
      "Data_Science\n"
     ]
    }
   ],
   "source": [
    "# String operations\n",
    "text = 'Data Science'\n",
    "print(text.lower())           # Output: data science\n",
    "print(text.replace(' ', '_'))  # Output: Data_Science"
   ]
  },
  {
   "cell_type": "markdown",
   "id": "3f200a76",
   "metadata": {},
   "source": [
    "## 8. List Comprehensions\n",
    "List comprehensions create lists in a concise way.\n",
    "\n",
    "**What's next:** You'll see how to use list comprehensions for transformations.\n",
    "\n",
    "**Real-life use:** Creating new columns in dataframes."
   ]
  },
  {
   "cell_type": "code",
   "execution_count": 9,
   "id": "1580076a",
   "metadata": {},
   "outputs": [
    {
     "name": "stdout",
     "output_type": "stream",
     "text": [
      "[0, 1, 4, 9, 16]\n"
     ]
    }
   ],
   "source": [
    "# List comprehension example\n",
    "squares = [x**2 for x in range(5)]\n",
    "print(squares)"
   ]
  },
  {
   "cell_type": "markdown",
   "id": "337c8b15",
   "metadata": {},
   "source": [
    "## 9. Importing Libraries\n",
    "Libraries add extra functionality. Use `import` to include them.\n",
    "\n",
    "**What's next:** You'll see how to import and use standard libraries.\n",
    "\n",
    "**Real-life use:** Importing pandas, numpy, matplotlib, etc."
   ]
  },
  {
   "cell_type": "code",
   "execution_count": 10,
   "id": "2816801b",
   "metadata": {},
   "outputs": [
    {
     "name": "stdout",
     "output_type": "stream",
     "text": [
      "4.0\n",
      "9\n"
     ]
    }
   ],
   "source": [
    "# Importing libraries\n",
    "import math\n",
    "import random\n",
    "print(math.sqrt(16))\n",
    "print(random.randint(1, 10))"
   ]
  },
  {
   "cell_type": "markdown",
   "id": "20f20e72",
   "metadata": {},
   "source": [
    "## 10. File Handling\n",
    "Read and write files using Python's built-in functions.\n",
    "\n",
    "**What's next:** You'll see how to write to and read from files.\n",
    "\n",
    "**Real-life use:** Loading datasets, saving results."
   ]
  },
  {
   "cell_type": "code",
   "execution_count": 11,
   "id": "def71da9",
   "metadata": {},
   "outputs": [
    {
     "name": "stdout",
     "output_type": "stream",
     "text": [
      "Hello, file!\n"
     ]
    }
   ],
   "source": [
    "# Writing and reading a file\n",
    "with open('example.txt', 'w') as f:\n",
    "    f.write('Hello, file!')\n",
    "with open('example.txt', 'r') as f:\n",
    "    print(f.read())"
   ]
  },
  {
   "cell_type": "markdown",
   "id": "a2406dbe",
   "metadata": {},
   "source": [
    "## 11. Exception Handling\n",
    "Handle errors gracefully using try-except blocks.\n",
    "\n",
    "**What's next:** You'll see how to catch and handle exceptions.\n",
    "\n",
    "**Real-life use:** Handling missing files or invalid user input."
   ]
  },
  {
   "cell_type": "code",
   "execution_count": 12,
   "id": "4b36405b",
   "metadata": {},
   "outputs": [
    {
     "name": "stdout",
     "output_type": "stream",
     "text": [
      "Cannot divide by zero!\n",
      "\n"
     ]
    }
   ],
   "source": [
    "# Exception handling example\n",
    "try:\n",
    "    result = 10 / 0\n",
    "except ZeroDivisionError:\n",
    "    print('Cannot divide by zero!')"
   ]
  },
  {
   "cell_type": "markdown",
   "id": "24832b4e",
   "metadata": {},
   "source": [
    "## 12. Working with Dates and Times\n",
    "Use the `datetime` module to work with dates and times.\n",
    "\n",
    "**What's next:** You'll see how to get the current date/time and format dates.\n",
    "\n",
    "**Real-life use:** Timestamping data, calculating durations."
   ]
  },
  {
   "cell_type": "code",
   "execution_count": 13,
   "id": "69b7d77e",
   "metadata": {},
   "outputs": [
    {
     "name": "stdout",
     "output_type": "stream",
     "text": [
      "Current date and time: 2025-05-16 23:15:40.158103\n",
      "One week from now: 2025-05-23 23:15:40.158103\n",
      "Formatted date: 2025-05-16 23:15:40\n"
     ]
    }
   ],
   "source": [
    "# Working with dates and times\n",
    "from datetime import datetime, timedelta\n",
    "now = datetime.now()\n",
    "print('Current date and time:', now)\n",
    "\n",
    "# Date operations\n",
    "one_week_later = now + timedelta(days=7)\n",
    "print('One week from now:', one_week_later)\n",
    "\n",
    "# Format dates\n",
    "formatted_date = now.strftime('%Y-%m-%d %H:%M:%S')\n",
    "print('Formatted date:', formatted_date)"
   ]
  },
  {
   "cell_type": "markdown",
   "id": "6c09d2df",
   "metadata": {},
   "source": [
    "## 13. Sets and Their Operations\n",
    "Sets are collections of unique elements with mathematical operations.\n",
    "\n",
    "**What's next:** You'll learn how to create sets, add/remove elements, and perform set operations.\n",
    "\n",
    "**Real-life use:** Finding unique values, comparing groups, efficient membership testing."
   ]
  },
  {
   "cell_type": "code",
   "execution_count": 14,
   "id": "bba2d755",
   "metadata": {},
   "outputs": [],
   "source": [
    "# Creating sets\n",
    "fruits = {'apple', 'banana', 'cherry'}\n",
    "citrus = {'orange', 'lemon', 'lime', 'cherry'}"
   ]
  },
  {
   "cell_type": "code",
   "execution_count": 15,
   "id": "d2fc7276",
   "metadata": {},
   "outputs": [
    {
     "name": "stdout",
     "output_type": "stream",
     "text": [
      "Updated fruits: {'cherry', 'apple', 'mango'}\n"
     ]
    }
   ],
   "source": [
    "# Add and remove elements from a set\n",
    "fruits.add('mango')\n",
    "fruits.remove('banana')\n",
    "print('Updated fruits:', fruits)"
   ]
  },
  {
   "cell_type": "code",
   "execution_count": 16,
   "id": "57fc8542",
   "metadata": {},
   "outputs": [
    {
     "name": "stdout",
     "output_type": "stream",
     "text": [
      "\n",
      "Union: {'orange', 'lemon', 'cherry', 'lime', 'apple', 'mango'}\n",
      "Intersection: {'cherry'}\n",
      "Difference (fruits - citrus): {'mango', 'apple'}\n",
      "Symmetric difference: {'lemon', 'mango', 'lime', 'apple', 'orange'}\n"
     ]
    }
   ],
   "source": [
    "# Set operations: union, intersection, difference, symmetric difference\n",
    "print('\\nUnion:', fruits | citrus)  # All elements from both sets\n",
    "print('Intersection:', fruits & citrus)  # Common elements\n",
    "print('Difference (fruits - citrus):', fruits - citrus)  # In fruits but not in citrus\n",
    "print('Symmetric difference:', fruits ^ citrus)  # In either set but not both"
   ]
  },
  {
   "cell_type": "code",
   "execution_count": 17,
   "id": "2c0463d9",
   "metadata": {},
   "outputs": [
    {
     "name": "stdout",
     "output_type": "stream",
     "text": [
      "\n",
      "Is apple in fruits? True\n"
     ]
    }
   ],
   "source": [
    "# Membership testing in sets\n",
    "print('\\nIs apple in fruits?', 'apple' in fruits)"
   ]
  },
  {
   "cell_type": "markdown",
   "id": "0e8fb720",
   "metadata": {},
   "source": [
    "## 14. Advanced Dictionary Techniques\n",
    "Dictionaries can be used in sophisticated ways for data manipulation.\n",
    "\n",
    "**What's next:** You'll see dictionary comprehensions, default dictionaries, nested dictionaries, and merging.\n",
    "\n",
    "**Real-life use:** Feature extraction, counting occurrences, grouping related data."
   ]
  },
  {
   "cell_type": "code",
   "execution_count": 18,
   "id": "8073e33f",
   "metadata": {},
   "outputs": [
    {
     "name": "stdout",
     "output_type": "stream",
     "text": [
      "Square dictionary: {1: 1, 2: 4, 3: 9, 4: 16, 5: 25}\n"
     ]
    }
   ],
   "source": [
    "# Dictionary comprehensions\n",
    "squares_dict = {x: x**2 for x in range(1, 6)}\n",
    "print('Square dictionary:', squares_dict)"
   ]
  },
  {
   "cell_type": "code",
   "execution_count": 19,
   "id": "4e1c4cb1",
   "metadata": {},
   "outputs": [
    {
     "name": "stdout",
     "output_type": "stream",
     "text": [
      "\n",
      "Word count: {'data': 2, 'science': 2, 'is': 1, 'the': 1, 'of': 1}\n"
     ]
    }
   ],
   "source": [
    "# Default dictionaries for automatic default values\n",
    "from collections import defaultdict\n",
    "word_count = defaultdict(int)  # Default value is 0 for int\n",
    "text = \"data science is the science of data\"\n",
    "for word in text.split():\n",
    "    word_count[word] += 1\n",
    "print('\\nWord count:', dict(word_count))"
   ]
  },
  {
   "cell_type": "code",
   "execution_count": 20,
   "id": "bda70eea",
   "metadata": {},
   "outputs": [
    {
     "name": "stdout",
     "output_type": "stream",
     "text": [
      "\n",
      "Alice's department: Data Science\n"
     ]
    }
   ],
   "source": [
    "# Nested dictionaries for structured data\n",
    "employee_data = {\n",
    "    'Alice': {'department': 'Data Science', 'salary': 85000},\n",
    "    'Bob': {'department': 'Engineering', 'salary': 92000}\n",
    "}\n",
    "print(f\"\\nAlice's department: {employee_data['Alice']['department']}\")"
   ]
  },
  {
   "cell_type": "code",
   "execution_count": 21,
   "id": "be4de85b",
   "metadata": {},
   "outputs": [
    {
     "name": "stdout",
     "output_type": "stream",
     "text": [
      "\n",
      "Merged dictionary: {'a': 1, 'b': 3, 'c': 4}\n"
     ]
    }
   ],
   "source": [
    "# Dictionary merging (Python 3.9+)\n",
    "dict1 = {'a': 1, 'b': 2}\n",
    "dict2 = {'b': 3, 'c': 4}\n",
    "merged = dict1 | dict2  # dict2 values override dict1 where keys overlap\n",
    "print('\\nMerged dictionary:', merged)"
   ]
  },
  {
   "cell_type": "markdown",
   "id": "7bd1bb1c",
   "metadata": {},
   "source": [
    "## 15. Generators and Iterators\n",
    "Generators produce values on-demand, saving memory for large datasets.\n",
    "\n",
    "**What's next:** You'll learn to create generator functions, use generator expressions, and see real-life memory efficiency.\n",
    "\n",
    "**Real-life use:** Processing large files, creating data pipelines."
   ]
  },
  {
   "cell_type": "code",
   "execution_count": 22,
   "id": "8926a637",
   "metadata": {},
   "outputs": [],
   "source": [
    "# Generator function for Fibonacci numbers\n",
    "def fibonacci(n):\n",
    "    a, b = 0, 1\n",
    "    for _ in range(n):\n",
    "        yield a\n",
    "        a, b = b, a + b"
   ]
  },
  {
   "cell_type": "code",
   "execution_count": 23,
   "id": "a58b74ba",
   "metadata": {},
   "outputs": [
    {
     "name": "stdout",
     "output_type": "stream",
     "text": [
      "First 10 Fibonacci numbers: [0, 1, 1, 2, 3, 5, 8, 13, 21, 34]\n"
     ]
    }
   ],
   "source": [
    "# Using a generator to get the first 10 Fibonacci numbers\n",
    "fib_10 = list(fibonacci(10))\n",
    "print('First 10 Fibonacci numbers:', fib_10)"
   ]
  },
  {
   "cell_type": "code",
   "execution_count": 24,
   "id": "d579e9e2",
   "metadata": {},
   "outputs": [
    {
     "name": "stdout",
     "output_type": "stream",
     "text": [
      "\n",
      "Even squares:\n",
      "0 4 16 36 64 \n",
      "0 4 16 36 64 "
     ]
    }
   ],
   "source": [
    "# Generator expression for even squares\n",
    "even_squares = (x**2 for x in range(10) if x % 2 == 0)\n",
    "print('\\nEven squares:',)\n",
    "for square in even_squares:\n",
    "    print(square, end=' ')"
   ]
  },
  {
   "cell_type": "code",
   "execution_count": 25,
   "id": "1e930cbc",
   "metadata": {},
   "outputs": [],
   "source": [
    "# Memory efficiency example: reading a large file line by line\n",
    "def read_large_file(file_path):\n",
    "    \"\"\"A generator that yields lines from a file\"\"\"\n",
    "    with open(file_path, 'r') as file:\n",
    "        for line in file:\n",
    "            yield line.strip()\n",
    "\n",
    "# Example usage (commented out):\n",
    "# for line in read_large_file('huge_dataset.csv'):\n",
    "#     process(line)  # Process one line at a time"
   ]
  },
  {
   "cell_type": "markdown",
   "id": "9635d586",
   "metadata": {},
   "source": [
    "## 16. Regular Expressions\n",
    "Regex patterns help search, replace, and validate text.\n",
    "\n",
    "**What's next:** You'll see how to extract, replace, and validate text using regex.\n",
    "\n",
    "**Real-life use:** Data cleaning, extraction, validation."
   ]
  },
  {
   "cell_type": "code",
   "execution_count": 26,
   "id": "9067f72b",
   "metadata": {},
   "outputs": [],
   "source": [
    "import re"
   ]
  },
  {
   "cell_type": "code",
   "execution_count": 27,
   "id": "4729bf4f",
   "metadata": {},
   "outputs": [
    {
     "name": "stdout",
     "output_type": "stream",
     "text": [
      "Extracted emails: ['info@example.com', 'support@company.org']\n"
     ]
    }
   ],
   "source": [
    "# Finding patterns (extracting emails from text)\n",
    "text = \"Contact us at info@example.com or support@company.org\"\n",
    "emails = re.findall(r'[\\w.+-]+@[\\w-]+\\.[\\w.-]+', text)\n",
    "print('Extracted emails:', emails)"
   ]
  },
  {
   "cell_type": "code",
   "execution_count": 28,
   "id": "833df9bf",
   "metadata": {},
   "outputs": [
    {
     "name": "stdout",
     "output_type": "stream",
     "text": [
      "\n",
      "Censored text: Contact us at info@example.com or support@company.org\n"
     ]
    }
   ],
   "source": [
    "# Replacing patterns (censoring emails)\n",
    "censored = re.sub(r'\\b[A-Za-z0-9._%+-]+@[A-ZaZ0-9.-]+\\.[A-Z|a-z]{2,}\\b', '[EMAIL REDACTED]', text)\n",
    "print('\\nCensored text:', censored)"
   ]
  },
  {
   "cell_type": "code",
   "execution_count": 29,
   "id": "0d269cbe",
   "metadata": {},
   "outputs": [
    {
     "name": "stdout",
     "output_type": "stream",
     "text": [
      "'+1-555-123-4567' is valid: True\n",
      "'123-456-7890' is valid: True\n",
      "'5551234567' is valid: True\n",
      "'12-34-567' is valid: False\n"
     ]
    }
   ],
   "source": [
    "# Validation (checking if phone numbers are valid)\n",
    "def is_valid_phone(phone):\n",
    "    pattern = r'^(\\+\\d{1,3})?[-\\s]?\\(?\\d{3}\\)?[-\\s]?\\d{3}[-\\s]?\\d{4}$'\n",
    "    return bool(re.match(pattern, phone))\n",
    "\n",
    "phones = ['+1-555-123-4567', '123-456-7890', '5551234567', '12-34-567']\n",
    "for phone in phones:\n",
    "    print(f\"'{phone}' is valid: {is_valid_phone(phone)}\")"
   ]
  },
  {
   "cell_type": "markdown",
   "id": "357bce8e",
   "metadata": {},
   "source": [
    "## 17. Map, Filter, and Reduce Functions\n",
    "Functional programming tools for data transformation.\n",
    "\n",
    "**What's next:** You'll see how to use map, filter, and reduce for batch processing and pipelines.\n",
    "\n",
    "**Real-life use:** Batch processing, data transformation pipelines."
   ]
  },
  {
   "cell_type": "code",
   "execution_count": 30,
   "id": "0b0e0fec",
   "metadata": {},
   "outputs": [],
   "source": [
    "from functools import reduce"
   ]
  },
  {
   "cell_type": "code",
   "execution_count": 31,
   "id": "59482f0f",
   "metadata": {},
   "outputs": [
    {
     "name": "stdout",
     "output_type": "stream",
     "text": [
      "Squared numbers: [1, 4, 9, 16, 25]\n"
     ]
    }
   ],
   "source": [
    "# Map: apply function to each item\n",
    "numbers = [1, 2, 3, 4, 5]\n",
    "squares = list(map(lambda x: x**2, numbers))\n",
    "print('Squared numbers:', squares)"
   ]
  },
  {
   "cell_type": "code",
   "execution_count": 32,
   "id": "54cfddcf",
   "metadata": {},
   "outputs": [
    {
     "name": "stdout",
     "output_type": "stream",
     "text": [
      "Even numbers: [2, 4]\n"
     ]
    }
   ],
   "source": [
    "# Filter: keep items that match condition\n",
    "even_numbers = list(filter(lambda x: x % 2 == 0, numbers))\n",
    "print('Even numbers:', even_numbers)"
   ]
  },
  {
   "cell_type": "code",
   "execution_count": 33,
   "id": "bb0649b5",
   "metadata": {},
   "outputs": [
    {
     "name": "stdout",
     "output_type": "stream",
     "text": [
      "Sum of numbers: 15\n",
      " 15\n"
     ]
    }
   ],
   "source": [
    "# Reduce: accumulate values\n",
    "sum_result = reduce(lambda x, y: x + y, numbers)\n",
    "print('Sum of numbers:', sum_result)"
   ]
  },
  {
   "cell_type": "code",
   "execution_count": 34,
   "id": "c53d0053",
   "metadata": {},
   "outputs": [
    {
     "name": "stdout",
     "output_type": "stream",
     "text": [
      "\n",
      "Processed names: ['Alice', 'Charlie', 'David']\n"
     ]
    }
   ],
   "source": [
    "# Real-world example: data processing pipeline\n",
    "data = ['  alice  ', 'BOB', 'Charlie  ', '  DAVID']\n",
    "\n",
    "# Clean, filter and transform data in one pipeline\n",
    "processed = list(map(\n",
    "    lambda x: x.capitalize(),\n",
    "    filter(\n",
    "        lambda x: len(x.strip()) > 3,\n",
    "        map(lambda x: x.strip(), data)\n",
    "    )\n",
    "))\n",
    "print('\\nProcessed names:', processed)"
   ]
  },
  {
   "cell_type": "markdown",
   "id": "1d31f129",
   "metadata": {},
   "source": [
    "## 18. Context Managers with `with`\n",
    "Context managers ensure proper resource handling.\n",
    "\n",
    "**What's next:** You'll see how to use context managers for file operations and timing code.\n",
    "\n",
    "**Real-life use:** File operations, database connections, API requests."
   ]
  },
  {
   "cell_type": "code",
   "execution_count": 35,
   "id": "8d79bf2b",
   "metadata": {},
   "outputs": [
    {
     "name": "stdout",
     "output_type": "stream",
     "text": [
      "File is closed after with block: True\n"
     ]
    }
   ],
   "source": [
    "# File handling with context manager\n",
    "with open('example.txt', 'w') as file:\n",
    "    file.write('This file will be closed automatically\\n')\n",
    "    file.write('Even if an error occurs')\n",
    "print('File is closed after with block:', file.closed)"
   ]
  },
  {
   "cell_type": "code",
   "execution_count": 36,
   "id": "dfb0115c",
   "metadata": {},
   "outputs": [
    {
     "name": "stdout",
     "output_type": "stream",
     "text": [
      "Execution took 0.66362 seconds\n"
     ]
    }
   ],
   "source": [
    "# Custom context manager for timing code execution\n",
    "from contextlib import contextmanager\n",
    "import time\n",
    "\n",
    "@contextmanager\n",
    "def timer():\n",
    "    \"\"\"Measure execution time of a code block\"\"\"\n",
    "    start = time.time()\n",
    "    try:\n",
    "        yield  # This is where the with-block's code executes\n",
    "    finally:\n",
    "        end = time.time()\n",
    "        print(f\"Execution took {end - start:.5f} seconds\")\n",
    "\n",
    "# Usage\n",
    "with timer():\n",
    "    # Simulate work\n",
    "    sum(i**2 for i in range(1000000))"
   ]
  },
  {
   "cell_type": "markdown",
   "id": "82ca83ee",
   "metadata": {},
   "source": [
    "## 19. Object-Oriented Programming\n",
    "Classes allow you to create custom data types with behavior.\n",
    "\n",
    "**What's next:** You'll define classes, use inheritance, and see real-life encapsulation.\n",
    "\n",
    "**Real-life use:** Creating custom data structures, encapsulating logic."
   ]
  },
  {
   "cell_type": "code",
   "execution_count": 37,
   "id": "e10ecdea",
   "metadata": {},
   "outputs": [],
   "source": [
    "# Define a class for a data point\n",
    "class DataPoint:\n",
    "    def __init__(self, x, y, label=None):\n",
    "        self.x = x\n",
    "        self.y = y\n",
    "        self.label = label\n",
    "        self._distance = None  # Private attribute\n",
    "    \n",
    "    def distance_from_origin(self):\n",
    "        \"\"\"Calculate distance from (0,0)\"\"\"\n",
    "        import math\n",
    "        if self._distance is None:  # Calculate only once\n",
    "            self._distance = math.sqrt(self.x**2 + self.y**2)\n",
    "        return self._distance\n",
    "    \n",
    "    def __repr__(self):\n",
    "        \"\"\"String representation\"\"\"\n",
    "        if self.label:\n",
    "            return f\"DataPoint({self.x}, {self.y}, '{self.label}')\"\n",
    "        return f\"DataPoint({self.x}, {self.y})\""
   ]
  },
  {
   "cell_type": "code",
   "execution_count": 38,
   "id": "2fe6c812",
   "metadata": {},
   "outputs": [],
   "source": [
    "# Class inheritance: LabeledDataPoint extends DataPoint\n",
    "class LabeledDataPoint(DataPoint):\n",
    "    def is_outlier(self, threshold=5.0):\n",
    "        \"\"\"Check if point is far from origin\"\"\"\n",
    "        return self.distance_from_origin() > threshold"
   ]
  },
  {
   "cell_type": "code",
   "execution_count": 39,
   "id": "dd3f7a57",
   "metadata": {},
   "outputs": [
    {
     "name": "stdout",
     "output_type": "stream",
     "text": [
      "DataPoint(1, 2, 'A') - Distance: 2.24\n",
      "DataPoint(3, 4, 'B') - Distance: 5.00\n",
      "  Is outlier: False\n",
      "DataPoint(10, 10, 'Outlier') - Distance: 14.14\n",
      "  Is outlier: True\n"
     ]
    }
   ],
   "source": [
    "# Using the classes\n",
    "points = [\n",
    "    DataPoint(1, 2, 'A'),\n",
    "    LabeledDataPoint(3, 4, 'B'),\n",
    "    LabeledDataPoint(10, 10, 'Outlier')\n",
    "]\n",
    "\n",
    "for p in points:\n",
    "    print(f\"{p} - Distance: {p.distance_from_origin():.2f}\")\n",
    "    if isinstance(p, LabeledDataPoint):\n",
    "        print(f\"  Is outlier: {p.is_outlier()}\")"
   ]
  },
  {
   "cell_type": "markdown",
   "id": "e293c8b4",
   "metadata": {},
   "source": [
    "## 20. Error Handling Best Practices\n",
    "Proper error handling makes your code more robust.\n",
    "\n",
    "**What's next:** You'll see specific exception handling and how to create custom exceptions.\n",
    "\n",
    "**Real-life use:** Making data pipelines resilient, graceful degradation."
   ]
  },
  {
   "cell_type": "code",
   "execution_count": 40,
   "id": "299617b1",
   "metadata": {},
   "outputs": [
    {
     "name": "stdout",
     "output_type": "stream",
     "text": [
      "Division operation attempted\n",
      "5.0\n",
      "Error: Division by zero\n",
      "Division operation attempted\n",
      "inf\n",
      "Error: unsupported operand type(s) for /: 'str' and 'int'\n",
      "Division operation attempted\n",
      "None\n"
     ]
    }
   ],
   "source": [
    "# Specific exception handling\n",
    "def safe_division(a, b):\n",
    "    try:\n",
    "        return a / b\n",
    "    except ZeroDivisionError:\n",
    "        print(\"Error: Division by zero\")\n",
    "        return float('inf')  # Return infinity\n",
    "    except TypeError as e:\n",
    "        print(f\"Error: {e}\")\n",
    "        return None\n",
    "    finally:\n",
    "        print(\"Division operation attempted\")\n",
    "\n",
    "print(safe_division(10, 2))   # Normal case\n",
    "print(safe_division(10, 0))   # Division by zero\n",
    "print(safe_division('10', 2)) # Type error"
   ]
  },
  {
   "cell_type": "code",
   "execution_count": 41,
   "id": "428a1d74",
   "metadata": {},
   "outputs": [
    {
     "name": "stdout",
     "output_type": "stream",
     "text": [
      "Valid age: 25\n",
      "Validation error: Age must be between 0 and 120, got -5\n",
      "Validation error: Age must be between 0 and 120, got 200\n",
      "Validation error: Age must be a number, got thirty\n"
     ]
    }
   ],
   "source": [
    "# Custom exceptions for data validation\n",
    "class DataValidationError(Exception):\n",
    "    \"\"\"Exception raised for data validation errors\"\"\"\n",
    "    pass\n",
    "\n",
    "def process_age(age):\n",
    "    try:\n",
    "        age = int(age)\n",
    "        if age < 0 or age > 120:\n",
    "            raise DataValidationError(f\"Age must be between 0 and 120, got {age}\")\n",
    "        return age\n",
    "    except ValueError:\n",
    "        raise DataValidationError(f\"Age must be a number, got {age}\")\n",
    "\n",
    "# Testing the validation\n",
    "test_ages = ['25', '-5', '200', 'thirty']\n",
    "for age in test_ages:\n",
    "    try:\n",
    "        validated_age = process_age(age)\n",
    "        print(f\"Valid age: {validated_age}\")\n",
    "    except DataValidationError as e:\n",
    "        print(f\"Validation error: {e}\")"
   ]
  },
  {
   "cell_type": "markdown",
   "id": "b46358a8",
   "metadata": {},
   "source": [
    "## 21. Working with CSV and JSON\n",
    "CSV and JSON are common data interchange formats.\n",
    "\n",
    "**What's next:** You'll see how to write and read CSV and JSON files in Python.\n",
    "\n",
    "**Real-life use:** Importing datasets, API communication, data storage."
   ]
  },
  {
   "cell_type": "code",
   "execution_count": 42,
   "id": "1839ceb0",
   "metadata": {},
   "outputs": [],
   "source": [
    "import csv\n",
    "import json"
   ]
  },
  {
   "cell_type": "code",
   "execution_count": 43,
   "id": "77846cde",
   "metadata": {},
   "outputs": [],
   "source": [
    "# Create sample data for CSV and JSON\n",
    "data = [\n",
    "    {'name': 'Alice', 'age': 30, 'city': 'New York'},\n",
    "    {'name': 'Bob', 'age': 25, 'city': 'Boston'},\n",
    "    {'name': 'Charlie', 'age': 35, 'city': 'Chicago'}\n",
    "]"
   ]
  },
  {
   "cell_type": "code",
   "execution_count": 44,
   "id": "7d0dbb8c",
   "metadata": {},
   "outputs": [
    {
     "name": "stdout",
     "output_type": "stream",
     "text": [
      "Reading from CSV:\n",
      "Alice, 30, New York\n",
      "Bob, 25, Boston\n",
      "Charlie, 35, Chicago\n"
     ]
    }
   ],
   "source": [
    "# Writing and reading CSV\n",
    "with open('people.csv', 'w', newline='') as csvfile:\n",
    "    fieldnames = ['name', 'age', 'city']\n",
    "    writer = csv.DictWriter(csvfile, fieldnames=fieldnames)\n",
    "    writer.writeheader()\n",
    "    writer.writerows(data)\n",
    "\n",
    "print(\"Reading from CSV:\")\n",
    "with open('people.csv', 'r') as csvfile:\n",
    "    reader = csv.DictReader(csvfile)\n",
    "    for row in reader:\n",
    "        print(f\"{row['name']}, {row['age']}, {row['city']}\")"
   ]
  },
  {
   "cell_type": "code",
   "execution_count": 45,
   "id": "0dd94f0e",
   "metadata": {},
   "outputs": [
    {
     "name": "stdout",
     "output_type": "stream",
     "text": [
      "\n",
      "Reading from JSON:\n",
      "Alice, 30, New York\n",
      "Bob, 25, Boston\n",
      "Charlie, 35, Chicago\n"
     ]
    }
   ],
   "source": [
    "# Writing and reading JSON\n",
    "with open('people.json', 'w') as jsonfile:\n",
    "    json.dump(data, jsonfile, indent=4)\n",
    "\n",
    "print(\"\\nReading from JSON:\")\n",
    "with open('people.json', 'r') as jsonfile:\n",
    "    loaded_data = json.load(jsonfile)\n",
    "    for person in loaded_data:\n",
    "        print(f\"{person['name']}, {person['age']}, {person['city']}\")"
   ]
  },
  {
   "cell_type": "markdown",
   "id": "90e751ce",
   "metadata": {},
   "source": [
    "## 22. Unpacking and Multiple Assignment\n",
    "Unpacking and multiple assignment allow elegant value extraction.\n",
    "\n",
    "**What's next:** You'll see how to unpack tuples, lists, and dictionaries, and use multiple assignment in real code.\n",
    "\n",
    "**Real-life use:** Data destructuring, tuple returns, coordinate handling."
   ]
  },
  {
   "cell_type": "code",
   "execution_count": 46,
   "id": "279ef34f",
   "metadata": {},
   "outputs": [
    {
     "name": "stdout",
     "output_type": "stream",
     "text": [
      "Coordinates: x=10, y=20\n"
     ]
    }
   ],
   "source": [
    "# Basic unpacking\n",
    "coords = (10, 20)\n",
    "x, y = coords  # Unpack tuple into variables\n",
    "print(f\"Coordinates: x={x}, y={y}\")"
   ]
  },
  {
   "cell_type": "code",
   "execution_count": 47,
   "id": "502bc1f1",
   "metadata": {},
   "outputs": [
    {
     "name": "stdout",
     "output_type": "stream",
     "text": [
      "Values: a=1, b=2, c=3\n"
     ]
    }
   ],
   "source": [
    "# Multiple assignment\n",
    "a, b, c = 1, 2, 3\n",
    "print(f\"Values: a={a}, b={b}, c={c}\")"
   ]
  },
  {
   "cell_type": "code",
   "execution_count": 48,
   "id": "050e905f",
   "metadata": {},
   "outputs": [
    {
     "name": "stdout",
     "output_type": "stream",
     "text": [
      "After swap: a=2, b=1\n"
     ]
    }
   ],
   "source": [
    "# Swapping variables (no temp variable needed)\n",
    "a, b = b, a\n",
    "print(f\"After swap: a={a}, b={b}\")"
   ]
  },
  {
   "cell_type": "code",
   "execution_count": 49,
   "id": "b2dd7090",
   "metadata": {},
   "outputs": [
    {
     "name": "stdout",
     "output_type": "stream",
     "text": [
      "First: 1, Middle: [2, 3, 4], Last: 5\n"
     ]
    }
   ],
   "source": [
    "# Unpacking with * for remaining items\n",
    "first, *middle, last = [1, 2, 3, 4, 5]\n",
    "print(f\"First: {first}, Middle: {middle}, Last: {last}\")"
   ]
  },
  {
   "cell_type": "code",
   "execution_count": 50,
   "id": "101893c4",
   "metadata": {},
   "outputs": [
    {
     "name": "stdout",
     "output_type": "stream",
     "text": [
      "Point: (1, 2)\n",
      "Point: (3, 4)\n",
      "Point: (5, 6)\n"
     ]
    }
   ],
   "source": [
    "# Unpacking in a for loop\n",
    "points = [(1, 2), (3, 4), (5, 6)]\n",
    "for x, y in points:\n",
    "    print(f\"Point: ({x}, {y})\")"
   ]
  },
  {
   "cell_type": "code",
   "execution_count": 51,
   "id": "b5f9ceb7",
   "metadata": {},
   "outputs": [
    {
     "name": "stdout",
     "output_type": "stream",
     "text": [
      "name: Alice\n",
      "age: 30\n",
      "job: Data Scientist\n"
     ]
    }
   ],
   "source": [
    "# Unpacking dictionary items\n",
    "person = {'name': 'Alice', 'age': 30, 'job': 'Data Scientist'}\n",
    "for key, value in person.items():\n",
    "    print(f\"{key}: {value}\")"
   ]
  },
  {
   "cell_type": "code",
   "execution_count": 52,
   "id": "a7379a9c",
   "metadata": {},
   "outputs": [
    {
     "name": "stdout",
     "output_type": "stream",
     "text": [
      "\n",
      "Stats - Min: 1, Max: 9, Avg: 4.67\n"
     ]
    }
   ],
   "source": [
    "# Function with multiple return values\n",
    "def get_statistics(numbers):\n",
    "    \"\"\"Return min, max, average of a list\"\"\"\n",
    "    return min(numbers), max(numbers), sum(numbers)/len(numbers)\n",
    "\n",
    "data = [5, 3, 8, 1, 9, 2]\n",
    "minimum, maximum, average = get_statistics(data)\n",
    "print(f\"\\nStats - Min: {minimum}, Max: {maximum}, Avg: {average:.2f}\")"
   ]
  }
 ],
 "metadata": {
  "kernelspec": {
   "display_name": "Python 3",
   "language": "python",
   "name": "python3"
  },
  "language_info": {
   "codemirror_mode": {
    "name": "ipython",
    "version": 3
   },
   "file_extension": ".py",
   "mimetype": "text/x-python",
   "name": "python",
   "nbconvert_exporter": "python",
   "pygments_lexer": "ipython3",
   "version": "3.12.6"
  }
 },
 "nbformat": 4,
 "nbformat_minor": 5
}
