{
 "cells": [
  {
   "cell_type": "markdown",
   "id": "8112ebb8",
   "metadata": {},
   "source": [
    "# Python Print Functions\n",
    "\n",
    "This notebook covers everything you need to know about printing in Python, from basic usage to advanced formatting techniques.\n",
    "\n",
    "## Table of Contents\n",
    "- [Basic Print](#Basic-Print)\n",
    "- [Formatted Printing](#Formatted-Printing)\n",
    "- [Print Parameters](#Print-Parameters)\n",
    "- [Advanced Formatting](#Advanced-Formatting)\n",
    "- [Print and Files](#Print-and-Files)\n",
    "- [Special Cases and Tips](#Special-Cases-and-Tips)"
   ]
  },
  {
   "cell_type": "markdown",
   "id": "423532ef",
   "metadata": {},
   "source": [
    "## Basic Print\n",
    "\n",
    "The `print()` function is one of the most basic and frequently used functions in Python. It outputs text and variables to the console."
   ]
  },
  {
   "cell_type": "code",
   "execution_count": 1,
   "id": "7e4cee8d",
   "metadata": {},
   "outputs": [
    {
     "name": "stdout",
     "output_type": "stream",
     "text": [
      "Hello, World!\n",
      "Hello World 2023\n",
      "Language: Python Version: 3.1\n"
     ]
    }
   ],
   "source": [
    "# Basic print statement\n",
    "print(\"Hello, World!\")  # Output: Hello, World!\n",
    "\n",
    "# Printing multiple items (automatically separated by spaces)\n",
    "print(\"Hello\", \"World\", 2023)  # Output: Hello World 2023\n",
    "\n",
    "# Printing variables\n",
    "name = \"Python\"\n",
    "version = 3.10\n",
    "print(\"Language:\", name, \"Version:\", version)  # Output: Language: Python Version: 3.10"
   ]
  },
  {
   "cell_type": "markdown",
   "id": "fd191d3c",
   "metadata": {},
   "source": [
    "## Formatted Printing\n",
    "\n",
    "Python offers several ways to format strings for printing:\n",
    "- f-strings (Python 3.6+)\n",
    "- str.format() method\n",
    "- % operator (older style)"
   ]
  },
  {
   "cell_type": "code",
   "execution_count": 2,
   "id": "e301b6a5",
   "metadata": {},
   "outputs": [
    {
     "name": "stdout",
     "output_type": "stream",
     "text": [
      "Language: Python, Version: 3.1\n",
      "Language: Python, Version: 3.1\n",
      "Language: Python, Version: 3.1\n",
      "Language: Python, Version: 3.1\n"
     ]
    }
   ],
   "source": [
    "name = \"Python\"\n",
    "version = 3.10\n",
    "\n",
    "# f-strings (recommended for Python 3.6+)\n",
    "print(f\"Language: {name}, Version: {version}\")  # Output: Language: Python, Version: 3.1\n",
    "\n",
    "# str.format() method\n",
    "print(\"Language: {}, Version: {}\".format(name, version))  # Output: Language: Python, Version: 3.1\n",
    "\n",
    "# Named placeholders with format\n",
    "print(\"Language: {lang}, Version: {ver}\".format(lang=name, ver=version))  # Output: Language: Python, Version: 3.1\n",
    "\n",
    "# % operator (older style)\n",
    "print(\"Language: %s, Version: %.1f\" % (name, version))  # Output: Language: Python, Version: 3.1"
   ]
  },
  {
   "cell_type": "markdown",
   "id": "5e9f4801",
   "metadata": {},
   "source": [
    "## Print Parameters\n",
    "\n",
    "The `print()` function has several useful parameters:"
   ]
  },
  {
   "cell_type": "code",
   "execution_count": 3,
   "id": "446b6d13",
   "metadata": {},
   "outputs": [
    {
     "name": "stdout",
     "output_type": "stream",
     "text": [
      "Python-is-awesome\n",
      "This is on the same line\n",
      "Processing... 4\n",
      "Done!\n",
      "\n",
      "Done!\n"
     ]
    }
   ],
   "source": [
    "# sep parameter - separator between items\n",
    "print(\"Python\", \"is\", \"awesome\", sep=\"-\")  # Output: Python-is-awesome\n",
    "\n",
    "# end parameter - what to print at the end (default is newline)\n",
    "print(\"This is on\", end=\" \")  # No newline after this output\n",
    "print(\"the same line\")  # Output: This is on the same line\n",
    "\n",
    "# file parameter - where to send the output\n",
    "with open(\"output.txt\", \"w\") as f:\n",
    "    print(\"This goes to a file\", file=f)  # Output saved to output.txt file, not displayed in console\n",
    "\n",
    "# flush parameter - force buffer flushing\n",
    "import time\n",
    "for i in range(5):\n",
    "    # This will update on same line with each iteration (0 to 4)\n",
    "    print(\"Processing...\", i, end=\"\\r\", flush=True)  \n",
    "    time.sleep(0.5)\n",
    "print(\"\\nDone!\")  # Final output: Done!"
   ]
  },
  {
   "cell_type": "markdown",
   "id": "baaf0238",
   "metadata": {},
   "source": [
    "## Advanced Formatting\n",
    "\n",
    "Format specifiers provide fine control over how values are displayed:"
   ]
  },
  {
   "cell_type": "code",
   "execution_count": 4,
   "id": "6598e535",
   "metadata": {},
   "outputs": [
    {
     "name": "stdout",
     "output_type": "stream",
     "text": [
      "Price: $49.95\n",
      "Number: 001 - Square:    1\n",
      "Number: 002 - Square:    4\n",
      "Number: 003 - Square:    9\n",
      "Number: 004 - Square:   16\n",
      "Number: 005 - Square:   25\n",
      "Number: 006 - Square:   36\n",
      "Number: 007 - Square:   49\n",
      "Number: 008 - Square:   64\n",
      "Number: 009 - Square:   81\n",
      "Number: 010 - Square:  100\n",
      "Score: 86.2%\n",
      "|Left      |  Center  |     Right|\n",
      "Scientific: 1.23e+07\n"
     ]
    }
   ],
   "source": [
    "# Number formatting\n",
    "price = 49.9536\n",
    "\n",
    "# Format as currency\n",
    "print(f\"Price: ${price:.2f}\")  # Output: Price: $49.95\n",
    "\n",
    "# Format with padding\n",
    "for i in range(1, 11):\n",
    "    print(f\"Number: {i:03d} - Square: {i*i:4d}\")  \n",
    "    # Outputs with zero-padded numbers and right-aligned squares:\n",
    "    # Number: 001 - Square:    1\n",
    "    # Number: 002 - Square:    4\n",
    "    # ...\n",
    "    # Number: 010 - Square:  100\n",
    "\n",
    "# Format percentages\n",
    "score = 0.8623\n",
    "print(f\"Score: {score:.1%}\")  # Output: Score: 86.2%\n",
    "\n",
    "# Format with alignment\n",
    "print(f\"|{'Left':<10}|{'Center':^10}|{'Right':>10}|\")  # Output: |Left      |  Center  |     Right|\n",
    "\n",
    "# Scientific notation\n",
    "large_num = 1.23456e7\n",
    "print(f\"Scientific: {large_num:.2e}\")  # Output: Scientific: 1.23e+07"
   ]
  },
  {
   "cell_type": "markdown",
   "id": "30bafa60",
   "metadata": {},
   "source": [
    "## Print and Files\n",
    "\n",
    "Printing to files and handling outputs:"
   ]
  },
  {
   "cell_type": "code",
   "execution_count": 5,
   "id": "dc8b602d",
   "metadata": {},
   "outputs": [
    {
     "name": "stdout",
     "output_type": "stream",
     "text": [
      "File content:\n",
      "Line 1\n",
      "Line 2\n",
      "Line 3\n",
      "\n",
      "Captured: This is captured in the buffer\n",
      "\n"
     ]
    }
   ],
   "source": [
    "# Write multiple lines to a file\n",
    "with open(\"multiple_lines.txt\", \"w\") as f:\n",
    "    print(\"Line 1\", file=f)\n",
    "    print(\"Line 2\", file=f)\n",
    "    print(\"Line 3\", file=f)\n",
    "    # No console output, content written to file\n",
    "\n",
    "# Read the file back to verify\n",
    "with open(\"multiple_lines.txt\", \"r\") as f:\n",
    "    content = f.read()\n",
    "    \n",
    "print(\"File content:\")\n",
    "print(content)\n",
    "# Output:\n",
    "# File content:\n",
    "# Line 1\n",
    "# Line 2\n",
    "# Line 3\n",
    "\n",
    "# Capturing print output (Python 3.4+)\n",
    "import io\n",
    "buffer = io.StringIO()\n",
    "print(\"This is captured in the buffer\", file=buffer)  # No console output\n",
    "captured_output = buffer.getvalue()\n",
    "buffer.close()\n",
    "\n",
    "print(\"Captured:\", captured_output)  # Output: Captured: This is captured in the buffer"
   ]
  },
  {
   "cell_type": "markdown",
   "id": "0f2467ea",
   "metadata": {},
   "source": [
    "## Special Cases and Tips\n",
    "\n",
    "Some special printing scenarios and useful tips:"
   ]
  },
  {
   "cell_type": "code",
   "execution_count": 6,
   "id": "47fcdbc2",
   "metadata": {},
   "outputs": [
    {
     "name": "stdout",
     "output_type": "stream",
     "text": [
      "Newline: \n",
      ", Tab: \t, Backslash: \\\n",
      "Raw string keeps \\n as literal characters\n",
      "\u001b[91mRed Text\u001b[0m\n",
      "\u001b[92mGreen Text\u001b[0m\n",
      "\u001b[94mBlue Text\u001b[0m\n",
      "Name      Age   Role\n",
      "----------------------\n",
      "Alice     25    Engineer\n",
      "Bob       30    Designer\n",
      "Charlie   35    Manager\n",
      "DEBUG [C:\\Users\\mb\\AppData\\Local\\Temp\\ipykernel_15388\\4168238867.py:38]: x = 42\n",
      "\n",
      "Raw string keeps \\n as literal characters\n",
      "\u001b[91mRed Text\u001b[0m\n",
      "\u001b[92mGreen Text\u001b[0m\n",
      "\u001b[94mBlue Text\u001b[0m\n",
      "Name      Age   Role\n",
      "----------------------\n",
      "Alice     25    Engineer\n",
      "Bob       30    Designer\n",
      "Charlie   35    Manager\n",
      "DEBUG [C:\\Users\\mb\\AppData\\Local\\Temp\\ipykernel_15388\\4168238867.py:38]: x = 42\n"
     ]
    }
   ],
   "source": [
    "# Printing special characters\n",
    "print(\"Newline: \\n, Tab: \\t, Backslash: \\\\\")  \n",
    "# Output: \n",
    "# Newline: \n",
    "#, Tab:    , Backslash: \\\n",
    "\n",
    "# Raw strings\n",
    "print(r\"Raw string keeps \\n as literal characters\")  # Output: Raw string keeps \\n as literal characters\n",
    "\n",
    "# Printing colored text (ANSI escape codes)\n",
    "print(\"\\033[91mRed Text\\033[0m\")     # Output: Red Text (in red color if terminal supports ANSI)\n",
    "print(\"\\033[92mGreen Text\\033[0m\")   # Output: Green Text (in green color if terminal supports ANSI)\n",
    "print(\"\\033[94mBlue Text\\033[0m\")    # Output: Blue Text (in blue color if terminal supports ANSI)\n",
    "\n",
    "# Printing tables\n",
    "data = [(\"Alice\", 25, \"Engineer\"), (\"Bob\", 30, \"Designer\"), (\"Charlie\", 35, \"Manager\")]\n",
    "print(f\"{'Name':<10}{'Age':<6}{'Role'}\")\n",
    "print(\"-\" * 22)\n",
    "for name, age, role in data:\n",
    "    print(f\"{name:<10}{age:<6}{role}\")\n",
    "# Output:\n",
    "# Name      Age   Role\n",
    "# ----------------------\n",
    "# Alice     25    Engineer\n",
    "# Bob       30    Designer\n",
    "# Charlie   35    Manager\n",
    "\n",
    "# Debugging with print\n",
    "def debug_print(*args, **kwargs):\n",
    "    import inspect\n",
    "    frame = inspect.currentframe().f_back\n",
    "    line_num = frame.f_lineno\n",
    "    file_name = frame.f_code.co_filename.split(\"/\")[-1]\n",
    "    print(f\"DEBUG [{file_name}:{line_num}]:\", *args, **kwargs)\n",
    "\n",
    "# Example usage\n",
    "x = 42\n",
    "debug_print(f\"x = {x}\")  # Output: DEBUG [<filename>:<line_number>]: x = 42"
   ]
  },
  {
   "cell_type": "markdown",
   "id": "c1acda9b",
   "metadata": {},
   "source": [
    "## Print Function in Python 2 vs Python 3\n",
    "\n",
    "For those who might work with both Python versions:"
   ]
  },
  {
   "cell_type": "code",
   "execution_count": 7,
   "id": "33234a97",
   "metadata": {},
   "outputs": [
    {
     "name": "stdout",
     "output_type": "stream",
     "text": [
      "This is Python 3 style\n",
      "Works in both Python 2 and 3\n"
     ]
    }
   ],
   "source": [
    "# Python 2 style (not executable in Python 3)\n",
    "# print \"This is Python 2 style\"  # No parentheses needed in Python 2\n",
    "\n",
    "# Python 3 style\n",
    "print(\"This is Python 3 style\")  # Output: This is Python 3 style\n",
    "\n",
    "# For compatibility in both Python 2 and 3\n",
    "from __future__ import print_function  # Import at the top of the file\n",
    "print(\"Works in both Python 2 and 3\")  # Output: Works in both Python 2 and 3"
   ]
  },
  {
   "cell_type": "markdown",
   "id": "35ff9035",
   "metadata": {},
   "source": [
    "## Practice Exercises\n",
    "\n",
    "Try these exercises to reinforce your understanding of Python's print function:"
   ]
  },
  {
   "cell_type": "code",
   "execution_count": 8,
   "id": "0f77e74f",
   "metadata": {},
   "outputs": [
    {
     "name": "stdout",
     "output_type": "stream",
     "text": [
      "Number  Square  Cube    \n",
      "------------------------\n",
      "1       1       1       \n",
      "2       4       8       \n",
      "3       9       27      \n",
      "4       16      64      \n",
      "5       25      125     \n",
      "6       36      216     \n",
      "7       49      343     \n",
      "8       64      512     \n",
      "9       81      729     \n",
      "10      100     1000    \n"
     ]
    }
   ],
   "source": [
    "# Exercise 1: Print a formatted table of squares and cubes for numbers 1-10\n",
    "# Your code here\n",
    "\n",
    "# Example solution\n",
    "print(f\"{'Number':<8}{'Square':<8}{'Cube':<8}\")\n",
    "print(\"-\" * 24)\n",
    "for i in range(1, 11):\n",
    "    print(f\"{i:<8}{i**2:<8}{i**3:<8}\")\n",
    "# Output:\n",
    "# Number  Square  Cube    \n",
    "# ------------------------\n",
    "# 1       1       1       \n",
    "# 2       4       8       \n",
    "# 3       9       27      \n",
    "# 4       16      64      \n",
    "# 5       25      125     \n",
    "# 6       36      216     \n",
    "# 7       49      343     \n",
    "# 8       64      512     \n",
    "# 9       81      729     \n",
    "# 10      100     1000"
   ]
  },
  {
   "cell_type": "code",
   "execution_count": 9,
   "id": "7cb85444",
   "metadata": {},
   "outputs": [
    {
     "name": "stdout",
     "output_type": "stream",
     "text": [
      "Progress: |██████████████████████████████████████████████████| 100.0%\n",
      "Progress: |██████████████████████████████████████████████████| 100.0%\n"
     ]
    }
   ],
   "source": [
    "# Exercise 2: Create a progress bar using print\n",
    "# Your code here\n",
    "\n",
    "# Example solution\n",
    "import time\n",
    "\n",
    "def progress_bar(iteration, total, length=50, fill='█'):\n",
    "    percent = \"{0:.1f}\".format(100 * (iteration / float(total)))\n",
    "    filled_length = int(length * iteration // total)\n",
    "    bar = fill * filled_length + '-' * (length - filled_length)\n",
    "    print(f'\\rProgress: |{bar}| {percent}%', end='\\r')\n",
    "    if iteration == total: \n",
    "        print()\n",
    "\n",
    "# Test the progress bar\n",
    "total = 10\n",
    "for i in range(total + 1):\n",
    "    progress_bar(i, total)\n",
    "    time.sleep(0.2)\n",
    "# Output (animated, final state):\n",
    "# Progress: |██████████████████████████████████████████████████| 100.0%"
   ]
  },
  {
   "cell_type": "markdown",
   "id": "7d6e0f2e",
   "metadata": {},
   "source": [
    "## Summary\n",
    "\n",
    "Key takeaways about Python's print function:\n",
    "\n",
    "- Basic syntax: `print(*objects, sep=' ', end='\\n', file=sys.stdout, flush=False)`\n",
    "- Modern formatting with f-strings is recommended (Python 3.6+)\n",
    "- Useful parameters include `sep`, `end`, `file`, and `flush`\n",
    "- Format specifiers provide precise control over output appearance\n",
    "- Print can output to files and other streams, not just the console\n",
    "\n",
    "Understanding print functions thoroughly is essential for effective debugging, logging, and creating user interfaces in your Python applications."
   ]
  }
 ],
 "metadata": {
  "kernelspec": {
   "display_name": "base",
   "language": "python",
   "name": "python3"
  },
  "language_info": {
   "codemirror_mode": {
    "name": "ipython",
    "version": 3
   },
   "file_extension": ".py",
   "mimetype": "text/x-python",
   "name": "python",
   "nbconvert_exporter": "python",
   "pygments_lexer": "ipython3",
   "version": "3.12.9"
  }
 },
 "nbformat": 4,
 "nbformat_minor": 5
}
