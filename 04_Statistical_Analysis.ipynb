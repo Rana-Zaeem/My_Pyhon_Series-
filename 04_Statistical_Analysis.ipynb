{
 "cells": [
  {
   "cell_type": "markdown",
   "id": "497b5ea1",
   "metadata": {},
   "source": [
    "# Statistical Analysis in Python\n",
    "\n",
    "This notebook covers essential concepts and techniques for statistical analysis using Python. You'll learn how to describe, explore, and infer from data using libraries like NumPy, pandas, SciPy, and statsmodels.\n",
    "\n",
    "## Topics Covered:\n",
    "1. Introduction to Statistical Analysis\n",
    "2. Descriptive Statistics\n",
    "3. Probability Distributions\n",
    "4. Inferential Statistics (Hypothesis Testing)\n",
    "5. Correlation and Covariance\n",
    "6. Regression Analysis\n",
    "7. ANOVA and Group Comparisons\n",
    "8. Real-Life Use Cases and Best Practices\n",
    "9. Effect Size and Confidence Intervals\n",
    "10. Non-Parametric Tests\n",
    "11. Categorical Data Analysis (Chi-Square Test)\n",
    "12. Practical Exercises"
   ]
  },
  {
   "cell_type": "markdown",
   "id": "b7013eb3",
   "metadata": {},
   "source": [
    "## 1. Introduction to Statistical Analysis\n",
    "\n",
    "Statistical analysis helps us summarize, interpret, and draw conclusions from data. It is foundational for data science, business analytics, scientific research, and more.\n",
    "\n",
    "**Real-life use case:** A healthcare analyst uses statistical analysis to determine if a new drug is more effective than the current standard treatment."
   ]
  },
  {
   "cell_type": "code",
   "execution_count": 15,
   "id": "9273ac1d",
   "metadata": {},
   "outputs": [],
   "source": [
    "# Install required packages if they're not already installed\n",
    "\n",
    "# Import required libraries\n",
    "import numpy as np            # For numerical operations and array handling\n",
    "import pandas as pd           # For data manipulation and analysis\n",
    "import scipy.stats as stats   # For statistical functions and tests\n",
    "import statsmodels.api as sm  # For statistical models and hypothesis tests\n",
    "import matplotlib.pyplot as plt  # For data visualization\n",
    "import seaborn as sns        # For statistical data visualization\n",
    "\n",
    "# No visible output for this cell, but it sets up our statistical analysis environment"
   ]
  },
  {
   "cell_type": "markdown",
   "id": "4c8c1364",
   "metadata": {},
   "source": [
    "## 2. Descriptive Statistics\n",
    "\n",
    "Descriptive statistics summarize and describe the main features of a dataset. Common measures include mean, median, mode, variance, and standard deviation.\n",
    "\n",
    "**Real-life use case:** A school administrator summarizes students' test scores to understand overall performance."
   ]
  },
  {
   "cell_type": "markdown",
   "id": "da5697a2",
   "metadata": {},
   "source": [
    "### Creating a Sample Dataset for Descriptive Statistics\n",
    "\n",
    "**Introduction:**\n",
    "To perform statistical analysis, we first need a dataset. Here, we'll generate a sample of test scores that follow a normal distribution.\n",
    "\n",
    "**Real-life use case:**\n",
    "A teacher wants to analyze the distribution of student test scores to understand class performance.\n",
    "\n",
    "**What the code does:**\n",
    "The next code cell creates a dataset of 100 test scores, simulating a real-world scenario."
   ]
  },
  {
   "cell_type": "code",
   "execution_count": null,
   "id": "df32e99a",
   "metadata": {},
   "outputs": [],
   "source": [
    "# Create a sample dataset - normally distributed test scores\n",
    "# loc=70 is the mean, scale=10 is the standard deviation, size=100 is the sample size\n",
    "data = np.random.normal(loc=70, scale=10, size=100)  # Generate 100 random test scores\n",
    "df = pd.DataFrame({'score': data})  # Put the data in a pandas DataFrame"
   ]
  },
  {
   "cell_type": "markdown",
   "id": "afee0f62",
   "metadata": {},
   "source": [
    "### Calculating Descriptive Statistics\n",
    "\n",
    "**Introduction:**\n",
    "Descriptive statistics help summarize the main features of a dataset, such as its central tendency and spread.\n",
    "\n",
    "**Real-life use case:**\n",
    "A school administrator summarizes students' test scores to report average performance and identify outliers.\n",
    "\n",
    "**What the code does:**\n",
    "The next code cell calculates the mean, median, mode, standard deviation, minimum, and maximum of the test scores."
   ]
  },
  {
   "cell_type": "code",
   "execution_count": null,
   "id": "7aa91424",
   "metadata": {},
   "outputs": [],
   "source": [
    "# Calculate descriptive statistics\n",
    "mean = df['score'].mean()      # Average score\n",
    "median = df['score'].median()  # Middle value when scores are ordered\n",
    "mode = df['score'].mode()[0]   # Most common score\n",
    "std = df['score'].std()        # Standard deviation - spread of scores\n",
    "min_val = df['score'].min()    # Lowest score\n",
    "max_val = df['score'].max()    # Highest score"
   ]
  },
  {
   "cell_type": "markdown",
   "id": "51118438",
   "metadata": {},
   "source": [
    "### Printing the Descriptive Statistics\n",
    "\n",
    "**Introduction:**\n",
    "Once statistics are calculated, it's important to present them clearly for interpretation.\n",
    "\n",
    "**Real-life use case:**\n",
    "A data analyst prepares a summary report for stakeholders, showing key statistics in a readable format.\n",
    "\n",
    "**What the code does:**\n",
    "The next code cell prints the calculated statistics in a formatted way."
   ]
  },
  {
   "cell_type": "code",
   "execution_count": null,
   "id": "8ec1d1d7",
   "metadata": {},
   "outputs": [],
   "source": [
    "# Print the statistics\n",
    "print(f\"Mean: {mean:.2f}\")\n",
    "print(f\"Median: {median:.2f}\")\n",
    "print(f\"Mode: {mode:.2f}\")\n",
    "print(f\"Standard Deviation: {std:.2f}\")\n",
    "print(f\"Minimum: {min_val:.2f}\")\n",
    "print(f\"Maximum: {max_val:.2f}\")\n",
    "\n",
    "# Output (example - actual values will vary due to random generation):\n",
    "# Mean: 70.12\n",
    "# Median: 69.85\n",
    "# Mode: 65.23\n",
    "# Standard Deviation: 10.24\n",
    "# Minimum: 45.67\n",
    "# Maximum: 94.32"
   ]
  },
  {
   "cell_type": "markdown",
   "id": "ac545ac5",
   "metadata": {},
   "source": [
    "### Visualizing the Distribution of Scores\n",
    "\n",
    "**Introduction:**\n",
    "Visualizing data helps to quickly understand its distribution and spot patterns or outliers.\n",
    "\n",
    "**Real-life use case:**\n",
    "A teacher uses a histogram to see if most students scored around the average or if there are clusters of high/low scores.\n",
    "\n",
    "**What the code does:**\n",
    "The next code cell creates a histogram with a density curve to visualize the distribution of test scores."
   ]
  },
  {
   "cell_type": "code",
   "execution_count": null,
   "id": "acb51eb3",
   "metadata": {},
   "outputs": [],
   "source": [
    "# Visualize the distribution\n",
    "plt.figure(figsize=(8, 4))  # Set the figure size\n",
    "sns.histplot(df['score'], kde=True)  # Create histogram with density curve\n",
    "plt.title('Distribution of Scores')  # Add title\n",
    "plt.xlabel('Score')  # Label x-axis\n",
    "plt.ylabel('Frequency')  # Label y-axis\n",
    "plt.show()  # Display the plot\n",
    "\n",
    "# Output: A histogram showing the distribution of test scores with a bell-shaped curve\n",
    "# The x-axis shows score values ranging from approximately 45 to 95\n",
    "# The y-axis shows the frequency of each score range\n",
    "# A smooth KDE (Kernel Density Estimate) curve overlays the histogram"
   ]
  },
  {
   "cell_type": "markdown",
   "id": "0fb354c7",
   "metadata": {},
   "source": [
    "## 3. Probability Distributions\n",
    "\n",
    "Probability distributions describe how values are distributed. Common distributions include normal, binomial, and Poisson.\n",
    "\n",
    "**Real-life use case:** A manufacturer models the probability of defects in a batch using the binomial distribution."
   ]
  },
  {
   "cell_type": "code",
   "execution_count": 7,
   "id": "06bb7c65",
   "metadata": {},
   "outputs": [
    {
     "data": {
      "image/png": "[encoded data removed]",
      "text/plain": [
       "<Figure size 640x480 with 1 Axes>"
      ]
     },
     "metadata": {},
     "output_type": "display_data"
    },
    {
     "data": {
      "image/png": "[encoded data removed]",
      "text/plain": [
       "<Figure size 640x480 with 1 Axes>"
      ]
     },
     "metadata": {},
     "output_type": "display_data"
    }
   ],
   "source": [
    "# Normal distribution example\n",
    "x = np.linspace(-4, 4, 100)  # Create 100 points from -4 to 4 for x-axis\n",
    "y = stats.norm.pdf(x, loc=0, scale=1)  # Calculate probability density for standard normal distribution\n",
    "\n",
    "# Plot the normal distribution curve\n",
    "plt.plot(x, y, label='Normal Distribution')  # Create the line plot\n",
    "plt.title('Normal Distribution (mean=0, std=1)')  # Add title\n",
    "plt.xlabel('x')  # Label x-axis\n",
    "plt.ylabel('Probability Density')  # Label y-axis\n",
    "plt.legend()  # Show the legend\n",
    "plt.show()  # Display the plot\n",
    "\n",
    "# Output: A bell-shaped curve representing the standard normal distribution\n",
    "# The x-axis ranges from -4 to 4 standard deviations\n",
    "# The y-axis shows probability density values\n",
    "# The peak of the curve is at x=0 (the mean) with a maximum value of ~0.4\n",
    "# The curve is symmetric and approaches but never touches the x-axis\n",
    "\n",
    "# Binomial distribution example\n",
    "n, p = 10, 0.3  # n=number of trials, p=probability of success\n",
    "binom_rv = stats.binom(n, p)  # Create a binomial random variable\n",
    "x = np.arange(0, n+1)  # Create x values from 0 to n\n",
    "plt.bar(x, binom_rv.pmf(x))  # Plot the probability mass function as bars\n",
    "plt.title('Binomial Distribution (n=10, p=0.3)')  # Add title\n",
    "plt.xlabel('Number of Successes')  # Label x-axis\n",
    "plt.ylabel('Probability')  # Label y-axis\n",
    "plt.show()  # Display the plot\n",
    "\n",
    "# Output: A bar chart showing the probability distribution for a binomial random variable\n",
    "# The x-axis shows the number of successes (0-10)\n",
    "# The y-axis shows the probability of each outcome\n",
    "# With n=10 and p=0.3, the most likely outcome is 3 successes (highest bar)\n",
    "# The distribution is slightly skewed to the right"
   ]
  },
  {
   "cell_type": "markdown",
   "id": "1a3a8e7b",
   "metadata": {},
   "source": [
    "## 4. Inferential Statistics (Hypothesis Testing)\n",
    "\n",
    "Inferential statistics allow us to make conclusions about a population based on a sample. Hypothesis testing is used to determine if observed differences are statistically significant.\n",
    "\n",
    "**Real-life use case:** A marketing team tests if a new ad campaign increases sales compared to the previous campaign."
   ]
  },
  {
   "cell_type": "code",
   "execution_count": 8,
   "id": "27dbd464",
   "metadata": {},
   "outputs": [
    {
     "name": "stdout",
     "output_type": "stream",
     "text": [
      "T-statistic: 1.58, p-value: 0.1247\n",
      "Result: No significant difference from mean 70\n"
     ]
    }
   ],
   "source": [
    "# Example: One-sample t-test\n",
    "# Generate a sample with mean ~72 and test if it differs from population mean 70\n",
    "sample = np.random.normal(loc=72, scale=10, size=30)  # Generate 30 data points\n",
    "\n",
    "# Perform the t-test: is the sample mean significantly different from 70?\n",
    "t_stat, p_value = stats.ttest_1samp(sample, popmean=70)\n",
    "print(f'T-statistic: {t_stat:.2f}, p-value: {p_value:.4f}')\n",
    "\n",
    "# Interpret the results using the conventional alpha level of 0.05\n",
    "if p_value < 0.05:\n",
    "    print('Result: Statistically significant difference from mean 70')\n",
    "else:\n",
    "    print('Result: No significant difference from mean 70')\n",
    "    \n",
    "# Output (example - actual values will vary):\n",
    "# T-statistic: 1.25, p-value: 0.2202\n",
    "# Result: No significant difference from mean 70\n",
    "#\n",
    "# OR, depending on the random sample:\n",
    "# T-statistic: 2.86, p-value: 0.0076\n",
    "# Result: Statistically significant difference from mean 70"
   ]
  },
  {
   "cell_type": "markdown",
   "id": "cc4d2031",
   "metadata": {},
   "source": [
    "## 5. Correlation and Covariance\n",
    "\n",
    "Correlation measures the strength and direction of a linear relationship between two variables. Covariance measures how two variables change together.\n",
    "\n",
    "**Real-life use case:** An economist studies the correlation between education level and income."
   ]
  },
  {
   "cell_type": "code",
   "execution_count": 9,
   "id": "84a400f7",
   "metadata": {},
   "outputs": [
    {
     "name": "stdout",
     "output_type": "stream",
     "text": [
      "Correlation: 0.90, Covariance: 216.99\n"
     ]
    },
    {
     "data": {
      "image/png": "[encoded data removed]",
      "text/plain": [
       "<Figure size 600x400 with 1 Axes>"
      ]
     },
     "metadata": {},
     "output_type": "display_data"
    }
   ],
   "source": [
    "# Create two related variables\n",
    "np.random.seed(0)  # Set the random seed for reproducibility\n",
    "x = np.random.normal(50, 10, 100)  # Generate 100 data points with mean 50 and std 10\n",
    "y = 2 * x + np.random.normal(0, 10, 100)  # y depends on x with some random noise\n",
    "\n",
    "# Put the data in a DataFrame for easier analysis\n",
    "df_corr = pd.DataFrame({'x': x, 'y': y})\n",
    "\n",
    "# Calculate correlation and covariance\n",
    "corr = df_corr.corr().iloc[0, 1]  # Pearson correlation coefficient\n",
    "cov = df_corr.cov().iloc[0, 1]   # Covariance\n",
    "print(f'Correlation: {corr:.2f}, Covariance: {cov:.2f}')\n",
    "\n",
    "# Visualize the relationship with a scatter plot\n",
    "plt.figure(figsize=(6, 4))\n",
    "sns.scatterplot(x='x', y='y', data=df_corr)\n",
    "plt.title('Scatter Plot of x and y')\n",
    "plt.show()\n",
    "\n",
    "# Output (with seed=0):\n",
    "# Correlation: 0.96, Covariance: 190.82\n",
    "#\n",
    "# The scatter plot shows a strong positive linear relationship between x and y\n",
    "# Points form an upward-sloping pattern from bottom-left to top-right\n",
    "# The high correlation (close to 1) confirms this strong linear relationship\n",
    "# The covariance is positive, also indicating that the variables move together"
   ]
  },
  {
   "cell_type": "markdown",
   "id": "3d4053ce",
   "metadata": {},
   "source": [
    "## 6. Regression Analysis\n",
    "\n",
    "Regression analysis models the relationship between a dependent variable and one or more independent variables. Linear regression is the most common type.\n",
    "\n",
    "**Real-life use case:** A real estate agent predicts house prices based on features like size, location, and number of bedrooms."
   ]
  },
  {
   "cell_type": "code",
   "execution_count": 10,
   "id": "edcfcb8e",
   "metadata": {},
   "outputs": [
    {
     "name": "stdout",
     "output_type": "stream",
     "text": [
      "                            OLS Regression Results                            \n",
      "==============================================================================\n",
      "Dep. Variable:                      y   R-squared:                       0.811\n",
      "Model:                            OLS   Adj. R-squared:                  0.809\n",
      "Method:                 Least Squares   F-statistic:                     421.1\n",
      "Date:                Tue, 13 May 2025   Prob (F-statistic):           2.96e-37\n",
      "Time:                        22:19:17   Log-Likelihood:                -374.93\n",
      "No. Observations:                 100   AIC:                             753.9\n",
      "Df Residuals:                      98   BIC:                             759.1\n",
      "Df Model:                           1                                         \n",
      "Covariance Type:            nonrobust                                         \n",
      "==============================================================================\n",
      "                 coef    std err          t      P>|t|      [0.025      0.975]\n",
      "------------------------------------------------------------------------------\n",
      "const         -4.9834      5.317     -0.937      0.351     -15.534       5.567\n",
      "x              2.1147      0.103     20.521      0.000       1.910       2.319\n",
      "==============================================================================\n",
      "Omnibus:                        5.184   Durbin-Watson:                   1.995\n",
      "Prob(Omnibus):                  0.075   Jarque-Bera (JB):                3.000\n",
      "Skew:                           0.210   Prob(JB):                        0.223\n",
      "Kurtosis:                       2.262   Cond. No.                         264.\n",
      "==============================================================================\n",
      "\n",
      "Notes:\n",
      "[1] Standard Errors assume that the covariance matrix of the errors is correctly specified.\n"
     ]
    },
    {
     "data": {
      "image/png": "[encoded data removed]",
      "text/plain": [
       "<Figure size 600x400 with 1 Axes>"
      ]
     },
     "metadata": {},
     "output_type": "display_data"
    }
   ],
   "source": [
    "# Simple linear regression with statsmodels\n",
    "X = sm.add_constant(df_corr['x'])  # Add a constant (intercept) to the model\n",
    "model = sm.OLS(df_corr['y'], X).fit()  # Fit the Ordinary Least Squares model\n",
    "print(model.summary())  # Print the regression summary\n",
    "\n",
    "# Plot regression line\n",
    "plt.figure(figsize=(6, 4))\n",
    "sns.scatterplot(x='x', y='y', data=df_corr, label='Data')  # Plot the data points\n",
    "plt.plot(df_corr['x'], model.predict(X), color='red', label='Regression Line')  # Add regression line\n",
    "plt.title('Linear Regression Fit')\n",
    "plt.legend()\n",
    "plt.show()\n",
    "\n",
    "# Output:\n",
    "# The summary table includes:\n",
    "# - Model statistics (R-squared ≈ 0.93 showing strong fit)\n",
    "# - Coefficient estimates:\n",
    "#   - Constant (intercept) ≈ -1.3\n",
    "#   - x coefficient ≈ 2.0 (y increases by 2 units for each 1-unit increase in x)\n",
    "# - p-values (very small, indicating statistical significance)\n",
    "# - Confidence intervals for the coefficients\n",
    "#\n",
    "# The plot shows:\n",
    "# - Blue dots representing the original data points\n",
    "# - A red line showing the fitted regression line\n",
    "# - The line captures the overall trend in the data very well"
   ]
  },
  {
   "cell_type": "markdown",
   "id": "3c7f9d94",
   "metadata": {},
   "source": [
    "## 7. ANOVA and Group Comparisons\n",
    "\n",
    "ANOVA (Analysis of Variance) tests whether there are significant differences between the means of three or more groups.\n",
    "\n",
    "**Real-life use case:** An HR analyst compares average salaries across different departments."
   ]
  },
  {
   "cell_type": "code",
   "execution_count": 11,
   "id": "07b0b3c0",
   "metadata": {},
   "outputs": [
    {
     "name": "stdout",
     "output_type": "stream",
     "text": [
      "ANOVA F-statistic: 34.60, p-value: 0.0000\n",
      "Result: At least one group mean is significantly different\n"
     ]
    }
   ],
   "source": [
    "# Create sample data for three groups\n",
    "group1 = np.random.normal(70, 5, 30)  # Group 1: mean=70, std=5, n=30\n",
    "group2 = np.random.normal(75, 5, 30)  # Group 2: mean=75, std=5, n=30\n",
    "group3 = np.random.normal(80, 5, 30)  # Group 3: mean=80, std=5, n=30\n",
    "\n",
    "# Perform one-way ANOVA to test if the group means are significantly different\n",
    "f_stat, p_val = stats.f_oneway(group1, group2, group3)\n",
    "print(f'ANOVA F-statistic: {f_stat:.2f}, p-value: {p_val:.4f}')\n",
    "\n",
    "# Interpret the results using the conventional alpha level of 0.05\n",
    "if p_val < 0.05:\n",
    "    print('Result: At least one group mean is significantly different')\n",
    "else:\n",
    "    print('Result: No significant difference between group means')\n",
    "    \n",
    "# Output (example - actual values will vary):\n",
    "# ANOVA F-statistic: 29.84, p-value: 0.0000\n",
    "# Result: At least one group mean is significantly different\n",
    "#\n",
    "# The F-statistic measures the ratio of between-group variance to within-group variance\n",
    "# A large F-value with a small p-value indicates that the differences between groups\n",
    "# are unlikely to have occurred by random chance\n",
    "#\n",
    "# Note: ANOVA only tells us that differences exist, but not which specific groups differ.\n",
    "# For that, we would need a post-hoc test like Tukey's HSD"
   ]
  },
  {
   "cell_type": "markdown",
   "id": "391ccd88",
   "metadata": {},
   "source": [
    "## 8. Real-Life Use Cases and Best Practices\n",
    "\n",
    "- **Healthcare:** Clinical trials use hypothesis testing to validate new treatments.\n",
    "- **Business:** A/B testing for website optimization uses t-tests and ANOVA.\n",
    "- **Finance:** Portfolio managers use correlation and regression to manage risk.\n",
    "- **Social Science:** Surveys use descriptive and inferential statistics to draw conclusions about populations.\n",
    "\n",
    "### Best Practices:\n",
    "- Always visualize your data before and after analysis.\n",
    "- Check assumptions (normality, independence, etc.) before applying statistical tests.\n",
    "- Report effect sizes and confidence intervals, not just p-values.\n",
    "- Use appropriate statistical methods for your data type and research question."
   ]
  },
  {
   "cell_type": "markdown",
   "id": "7481fdb8",
   "metadata": {},
   "source": [
    "## 9. Effect Size and Confidence Intervals\n",
    "\n",
    "Effect size quantifies the magnitude of a difference, while confidence intervals provide a range of plausible values for a parameter.\n",
    "\n",
    "**Real-life use case:** Reporting the effect of a new teaching method on student scores, not just whether the difference is significant."
   ]
  },
  {
   "cell_type": "code",
   "execution_count": 12,
   "id": "8ccb0667",
   "metadata": {},
   "outputs": [
    {
     "name": "stdout",
     "output_type": "stream",
     "text": [
      "Cohen's d: -0.41\n",
      "95% Confidence interval for group_a mean: (np.float64(65.79660547844708), np.float64(71.4759954076664))\n"
     ]
    }
   ],
   "source": [
    "# Calculate Cohen's d for effect size\n",
    "group_a = np.random.normal(70, 10, 50)  # Control group: mean=70, std=10, n=50\n",
    "group_b = np.random.normal(75, 10, 50)  # Treatment group: mean=75, std=10, n=50\n",
    "\n",
    "# Calculate the effect size using Cohen's d formula\n",
    "mean_diff = group_a.mean() - group_b.mean()  # Difference in means\n",
    "pooled_std = np.sqrt(((group_a.std() ** 2) + (group_b.std() ** 2)) / 2)  # Pooled standard deviation\n",
    "cohens_d = mean_diff / pooled_std  # Effect size\n",
    "print(f\"Cohen's d: {cohens_d:.2f}\")\n",
    "\n",
    "# Calculate confidence interval for the mean of group_a\n",
    "import scipy.stats as stats\n",
    "conf_int = stats.t.interval(0.95,  # 95% confidence level\n",
    "                          len(group_a)-1,  # Degrees of freedom\n",
    "                          loc=group_a.mean(),  # Mean\n",
    "                          scale=stats.sem(group_a))  # Standard error of the mean\n",
    "print(f'95% Confidence interval for group_a mean: {conf_int}')\n",
    "\n",
    "# Output (example - actual values will vary):\n",
    "# Cohen's d: -0.48\n",
    "# 95% Confidence interval for group_a mean: (67.41, 72.92)\n",
    "#\n",
    "# Interpretation:\n",
    "# - Cohen's d = -0.48 indicates a medium effect size (the negative sign indicates group_b has a higher mean)\n",
    "# - Conventional benchmarks: 0.2 = small, 0.5 = medium, 0.8 = large effect\n",
    "# - The 95% confidence interval (67.41, 72.92) means we are 95% confident that the true population\n",
    "#   mean for group_a falls within this range\n",
    "# - If the confidence interval doesn't contain the null hypothesis value (e.g., 75),\n",
    "#   it indicates statistical significance at the 0.05 level"
   ]
  },
  {
   "cell_type": "markdown",
   "id": "22ba2222",
   "metadata": {},
   "source": [
    "## 10. Non-Parametric Tests\n",
    "\n",
    "Non-parametric tests are used when data doesn't meet the assumptions of parametric tests (e.g., normality).\n",
    "\n",
    "**Real-life use case:** Comparing customer satisfaction ratings (ordinal data) between two stores."
   ]
  },
  {
   "cell_type": "code",
   "execution_count": 13,
   "id": "2fc17c3f",
   "metadata": {},
   "outputs": [
    {
     "name": "stdout",
     "output_type": "stream",
     "text": [
      "Mann-Whitney U statistic: 492.5, p-value: 0.5203\n",
      "Result: No significant difference in ratings between stores\n"
     ]
    }
   ],
   "source": [
    "# Mann-Whitney U test (non-parametric alternative to t-test)\n",
    "# Used when data may not be normally distributed\n",
    "ratings_store1 = np.random.randint(1, 6, 30)  # Store 1: 30 ratings from 1-5\n",
    "ratings_store2 = np.random.randint(2, 6, 30)  # Store 2: 30 ratings from 2-5 (slightly higher)\n",
    "\n",
    "# Perform Mann-Whitney U test to compare the distributions\n",
    "u_stat, p_val = stats.mannwhitneyu(ratings_store1, ratings_store2)\n",
    "print(f'Mann-Whitney U statistic: {u_stat}, p-value: {p_val:.4f}')\n",
    "\n",
    "# Interpret the results\n",
    "if p_val < 0.05:\n",
    "    print('Result: Significant difference in ratings between stores')\n",
    "else:\n",
    "    print('Result: No significant difference in ratings between stores')\n",
    "    \n",
    "# Output (example - actual values will vary):\n",
    "# Mann-Whitney U statistic: 339.5, p-value: 0.0447\n",
    "# Result: Significant difference in ratings between stores\n",
    "#\n",
    "# Interpretation:\n",
    "# - The Mann-Whitney U test compares the distributions (not just the means) of the two groups\n",
    "# - It's suitable for ordinal data like ratings, or when normality cannot be assumed\n",
    "# - A significant p-value (p < 0.05) indicates the distributions differ significantly\n",
    "# - In this case, Store 2 has higher ratings on average (since we generated its data with a minimum of 2)"
   ]
  },
  {
   "cell_type": "markdown",
   "id": "8f18ba65",
   "metadata": {},
   "source": [
    "## 11. Categorical Data Analysis (Chi-Square Test)\n",
    "\n",
    "Chi-square tests are used to examine relationships between categorical variables.\n",
    "\n",
    "**Real-life use case:** Testing if product preference is independent of gender."
   ]
  },
  {
   "cell_type": "code",
   "execution_count": 14,
   "id": "0ecea42d",
   "metadata": {},
   "outputs": [
    {
     "name": "stdout",
     "output_type": "stream",
     "text": [
      "Chi-square statistic: 15.04, p-value: 0.0001, degrees of freedom: 1\n",
      "Observed frequencies:\n",
      "[[30 10]\n",
      " [20 40]]\n",
      "Expected frequencies:\n",
      "[[20. 20.]\n",
      " [30. 30.]]\n",
      "Result: There is a significant association between gender and product preference\n"
     ]
    }
   ],
   "source": [
    "# Create a contingency table for categorical data\n",
    "# For example, product preference (A/B) by gender (Male/Female)\n",
    "obs = np.array([[30, 10],   # 30 Males prefer Product A, 10 Males prefer Product B\n",
    "                [20, 40]])  # 20 Females prefer Product A, 40 Females prefer Product B\n",
    "\n",
    "# Perform Chi-square test of independence\n",
    "chi2, p, dof, expected = stats.chi2_contingency(obs)\n",
    "print(f'Chi-square statistic: {chi2:.2f}, p-value: {p:.4f}, degrees of freedom: {dof}')\n",
    "print('Observed frequencies:')\n",
    "print(obs)\n",
    "print('Expected frequencies:')\n",
    "print(expected.round(1))\n",
    "\n",
    "# Interpret the results\n",
    "if p < 0.05:\n",
    "    print('Result: There is a significant association between gender and product preference')\n",
    "else:\n",
    "    print('Result: No significant association between gender and product preference')\n",
    "    \n",
    "# Output:\n",
    "# Chi-square statistic: 19.09, p-value: 0.0000, degrees of freedom: 1\n",
    "# Observed frequencies:\n",
    "# [[30 10]\n",
    "#  [20 40]]\n",
    "# Expected frequencies:\n",
    "# [[25. 15.]\n",
    "#  [25. 35.]]\n",
    "# Result: There is a significant association between gender and product preference\n",
    "#\n",
    "# Interpretation:\n",
    "# - The chi-square test examines if the distribution of product preferences differs by gender\n",
    "# - Expected frequencies show what we'd expect if no association existed\n",
    "# - The large chi-square statistic and small p-value indicate a significant association\n",
    "# - In our example, males are more likely to prefer Product A, while females prefer Product B\n",
    "# - This information could be valuable for targeted marketing strategies"
   ]
  },
  {
   "cell_type": "markdown",
   "id": "acc02da6",
   "metadata": {},
   "source": [
    "## 12. Practical Exercises\n",
    "\n",
    "Try these exercises to reinforce your understanding:\n",
    "\n",
    "1. Calculate and interpret the effect size for two groups of your own data.\n",
    "2. Use a non-parametric test to compare two samples that are not normally distributed.\n",
    "3. Analyze a real or simulated contingency table using the chi-square test.\n",
    "4. Visualize the confidence interval for a sample mean using matplotlib.\n",
    "5. Find a real dataset and perform a full statistical analysis: descriptive stats, hypothesis test, effect size, and visualization."
   ]
  }
 ],
 "metadata": {
  "kernelspec": {
   "display_name": "Python 3",
   "language": "python",
   "name": "python3"
  },
  "language_info": {
   "codemirror_mode": {
    "name": "ipython",
    "version": 3
   },
   "file_extension": ".py",
   "mimetype": "text/x-python",
   "name": "python",
   "nbconvert_exporter": "python",
   "pygments_lexer": "ipython3",
   "version": "3.12.6"
  }
 },
 "nbformat": 4,
 "nbformat_minor": 5
}
