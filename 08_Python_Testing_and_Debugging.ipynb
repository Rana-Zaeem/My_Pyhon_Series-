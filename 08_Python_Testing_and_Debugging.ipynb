{
 "cells": [
  {
   "cell_type": "markdown",
   "id": "d7d6baf7",
   "metadata": {},
   "source": [
    "# Python Testing and Debugging\n",
    "This notebook covers unit testing, logging, debugging, and assertions with real-life use cases, best practices, and code examples."
   ]
  },
  {
   "cell_type": "markdown",
   "id": "a4726a72",
   "metadata": {},
   "source": [
    "## 1. Unit Testing\n",
    "**Definition:** Unit testing is the practice of testing small pieces of code (units) in isolation. Python's built-in `unittest` module is commonly used.\n",
    "\n",
    "**Syntax and Example:**"
   ]
  },
  {
   "cell_type": "markdown",
   "id": "d44828d8",
   "metadata": {},
   "source": [
    "### Importing the unittest Module\n",
    "\n",
    "**Introduction:**\n",
    "Unit testing in Python is commonly done using the built-in `unittest` module.\n",
    "\n",
    "**Real-life use case:**\n",
    "Software engineers use `unittest` to ensure that individual functions work as expected before deploying code.\n",
    "\n",
    "**What the code does:**\n",
    "The next code cell imports the `unittest` module for writing and running tests."
   ]
  },
  {
   "cell_type": "code",
   "execution_count": null,
   "id": "8e711559",
   "metadata": {},
   "outputs": [],
   "source": [
    "import unittest  # Import the unittest module for unit testing"
   ]
  },
  {
   "cell_type": "markdown",
   "id": "627634e1",
   "metadata": {},
   "source": [
    "### Writing a Simple Function to Test\n",
    "\n",
    "**Introduction:**\n",
    "Before writing tests, you need a function to test. Here, we'll use a simple addition function.\n",
    "\n",
    "**Real-life use case:**\n",
    "Testing utility functions in a financial application to ensure calculations are correct.\n",
    "\n",
    "**What the code does:**\n",
    "The next code cell defines a function that adds two numbers."
   ]
  },
  {
   "cell_type": "code",
   "execution_count": null,
   "id": "1510a891",
   "metadata": {},
   "outputs": [],
   "source": [
    "# The function we want to test\n",
    "def add(a, b):\n",
    "    \"\"\"Add two numbers and return the result.\"\"\"\n",
    "    return a + b"
   ]
  },
  {
   "cell_type": "markdown",
   "id": "921c6ae8",
   "metadata": {},
   "source": [
    "### Creating a Test Case Class\n",
    "\n",
    "**Introduction:**\n",
    "A test case class groups related tests together. Each test is a method that checks a specific behavior.\n",
    "\n",
    "**Real-life use case:**\n",
    "Grouping tests for a module or feature in a web application.\n",
    "\n",
    "**What the code does:**\n",
    "The next code cell defines a test case class for the `add` function."
   ]
  },
  {
   "cell_type": "code",
   "execution_count": null,
   "id": "62ebb659",
   "metadata": {},
   "outputs": [],
   "source": [
    "# Test case class inherits from unittest.TestCase\n",
    "class TestAdd(unittest.TestCase):\n",
    "    # Test methods must start with 'test'\n",
    "    def test_add_positive(self):\n",
    "        \"\"\"Test addition of positive numbers.\"\"\"\n",
    "        self.assertEqual(add(2, 3), 5)\n",
    "        self.assertEqual(add(0, 5), 5)\n",
    "    \n",
    "    def test_add_negative(self):\n",
    "        \"\"\"Test addition of negative numbers.\"\"\"\n",
    "        self.assertEqual(add(-1, -1), -2)\n",
    "        self.assertEqual(add(-5, 2), -3)\n",
    "    \n",
    "    def test_add_edge_cases(self):\n",
    "        \"\"\"Test edge cases like zero and large numbers.\"\"\"\n",
    "        self.assertEqual(add(0, 0), 0)\n",
    "        self.assertEqual(add(1000000, 1000000), 2000000)"
   ]
  },
  {
   "cell_type": "markdown",
   "id": "79a2fa3a",
   "metadata": {},
   "source": [
    "### Demonstrating Assertion Methods\n",
    "\n",
    "**Introduction:**\n",
    "`unittest` provides many assertion methods to check different conditions in your tests.\n",
    "\n",
    "**Real-life use case:**\n",
    "Ensuring that your code behaves correctly in a variety of scenarios, not just the happy path.\n",
    "\n",
    "**What the code does:**\n",
    "The next code cell adds a method to the test case class to demonstrate various assertions."
   ]
  },
  {
   "cell_type": "code",
   "execution_count": null,
   "id": "84480f50",
   "metadata": {},
   "outputs": [],
   "source": [
    "class TestAdd(unittest.TestCase):\n",
    "    # ...existing code...\n",
    "    def test_assertions_demo(self):\n",
    "        \"\"\"Demonstrate various unittest assertion methods.\"\"\"\n",
    "        self.assertTrue(add(1, 1) == 2)\n",
    "        self.assertFalse(add(1, 1) == 3)\n",
    "        self.assertGreater(add(5, 6), 10)\n",
    "        self.assertLess(add(-5, -5), 0)\n",
    "        self.assertIn(add(1, 2), [1, 2, 3])\n",
    "        self.assertIsInstance(add(1.5, 2.5), float)"
   ]
  },
  {
   "cell_type": "markdown",
   "id": "867c36f5",
   "metadata": {},
   "source": [
    "### Running the Test Suite\n",
    "\n",
    "**Introduction:**\n",
    "To execute your tests, you create a test suite and run it using a test runner.\n",
    "\n",
    "**Real-life use case:**\n",
    "Automating test execution as part of a continuous integration pipeline.\n",
    "\n",
    "**What the code does:**\n",
    "The next code cell loads and runs the test suite for the `TestAdd` class and prints a summary."
   ]
  },
  {
   "cell_type": "code",
   "execution_count": null,
   "id": "5fb0ed7b",
   "metadata": {},
   "outputs": [],
   "source": [
    "# Create and run the test suite\n",
    "suite = unittest.TestLoader().loadTestsFromTestCase(TestAdd)\n",
    "result = unittest.TextTestRunner().run(suite)\n",
    "\n",
    "print(\"\\n--- Test Result Summary ---\")\n",
    "print(f\"Tests run: {result.testsRun}\")\n",
    "print(f\"Errors: {len(result.errors)}\")\n",
    "print(f\"Failures: {len(result.failures)}\")"
   ]
  },
  {
   "cell_type": "markdown",
   "id": "3082097f",
   "metadata": {},
   "source": [
    "### Writing and Testing a More Complex Function\n",
    "\n",
    "**Introduction:**\n",
    "Unit tests are also useful for more complex functions, such as those that process lists or handle edge cases.\n",
    "\n",
    "**Real-life use case:**\n",
    "Testing data processing functions in a data analysis pipeline.\n",
    "\n",
    "**What the code does:**\n",
    "The next code cell defines a function to calculate statistics and a test case for it."
   ]
  },
  {
   "cell_type": "code",
   "execution_count": null,
   "id": "9f236b0b",
   "metadata": {},
   "outputs": [],
   "source": [
    "# A more complex function to test\n",
    "def calculate_statistics(numbers):\n",
    "    \"\"\"Calculate min, max, and average for a list of numbers.\"\"\"\n",
    "    if not numbers:\n",
    "        return {'min': None, 'max': None, 'avg': None}\n",
    "    return {\n",
    "        'min': min(numbers),\n",
    "        'max': max(numbers),\n",
    "        'avg': sum(numbers) / len(numbers)\n",
    "    }\n",
    "\n",
    "# Test case for the statistics function\n",
    "class TestStatistics(unittest.TestCase):\n",
    "    def test_normal_case(self):\n",
    "        stats = calculate_statistics([1, 2, 3, 4, 5])\n",
    "        self.assertEqual(stats['min'], 1)\n",
    "        self.assertEqual(stats['max'], 5)\n",
    "        self.assertEqual(stats['avg'], 3.0)\n",
    "    \n",
    "    def test_empty_list(self):\n",
    "        stats = calculate_statistics([])\n",
    "        self.assertIsNone(stats['min'])\n",
    "        self.assertIsNone(stats['max'])\n",
    "        self.assertIsNone(stats['avg'])"
   ]
  },
  {
   "cell_type": "markdown",
   "id": "b515ef61",
   "metadata": {},
   "source": [
    "### Running Tests for the Complex Function\n",
    "\n",
    "**Introduction:**\n",
    "You can run tests for any test case class using the same approach as before.\n",
    "\n",
    "**Real-life use case:**\n",
    "Ensuring that all data processing functions are robust and handle edge cases.\n",
    "\n",
    "**What the code does:**\n",
    "The next code cell loads and runs the test suite for the `TestStatistics` class."
   ]
  },
  {
   "cell_type": "code",
   "execution_count": null,
   "id": "2e2230b4",
   "metadata": {},
   "outputs": [],
   "source": [
    "# Run the statistics test\n",
    "suite = unittest.TestLoader().loadTestsFromTestCase(TestStatistics)\n",
    "unittest.TextTestRunner().run(suite)"
   ]
  },
  {
   "cell_type": "markdown",
   "id": "155828c8",
   "metadata": {},
   "source": [
    "**Output:**\n",
    ". .\n",
    "----------------------------------------------------------------------\n",
    "Ran 2 tests in ...\n",
    "OK\n",
    "\n",
    "**Real-life use case:** Ensuring that a financial calculation function always returns correct results.\n",
    "\n",
    "**Common mistakes:** Not testing edge cases or only testing happy paths.\n",
    "\n",
    "**Best practices:** Write tests for all critical code paths and automate test execution."
   ]
  },
  {
   "cell_type": "markdown",
   "id": "fb8f3e70",
   "metadata": {},
   "source": [
    "## 2. Logging\n",
    "**Definition:** Logging is used to record events and errors during program execution. The `logging` module is flexible and configurable.\n",
    "\n",
    "**Syntax and Example:**"
   ]
  },
  {
   "cell_type": "code",
   "execution_count": null,
   "id": "47698f95",
   "metadata": {},
   "outputs": [],
   "source": [
    "# Import the logging module\n",
    "\n",
    "# Configure basic logging to show INFO level and above\n",
    "logging.basicConfig(\n",
    "    level=logging.INFO,  # Set the minimum log level to INFO\n",
    "    format='%(asctime)s - %(name)s - %(levelname)s - %(message)s',  # Log message format\n",
    "    datefmt='%Y-%m-%d %H:%M:%S'  # Date format for log messages\n",
    ")"
   ]
  },
  {
   "cell_type": "markdown",
   "id": "4a947962",
   "metadata": {},
   "source": [
    "### Importing and Configuring the Logging Module\n",
    "\n",
    "**Introduction:**\n",
    "Logging is essential for tracking events and errors in your applications. Python's `logging` module is highly flexible and configurable.\n",
    "\n",
    "**Real-life use case:**\n",
    "Developers use logging to monitor application behavior, debug issues, and keep records of important events in production systems.\n",
    "\n",
    "**What the code does:**\n",
    "The next code cell imports the logging module and configures basic logging settings."
   ]
  },
  {
   "cell_type": "code",
   "execution_count": null,
   "id": "1f1fd146",
   "metadata": {},
   "outputs": [],
   "source": [
    "import logging  # Import the logging module\n",
    "\n",
    "# Configure basic logging to show INFO level and above\n",
    "logging.basicConfig(\n",
    "    level=logging.INFO,  # Set the minimum log level to INFO\n",
    "    format='%(asctime)s - %(name)s - %(levelname)s - %(message)s',  # Log message format\n",
    "    datefmt='%Y-%m-%d %H:%M:%S'  # Date format for log messages\n",
    ")"
   ]
  },
  {
   "cell_type": "markdown",
   "id": "cf2ecd03",
   "metadata": {},
   "source": [
    "### Creating and Using a Logger\n",
    "\n",
    "**Introduction:**\n",
    "A logger is an object used to write log messages. You can create multiple loggers for different parts of your application.\n",
    "\n",
    "**Real-life use case:**\n",
    "Using separate loggers for different modules (e.g., `calculator`, `data_processor`) helps organize logs and makes troubleshooting easier.\n",
    "\n",
    "**What the code does:**\n",
    "The next code cell creates a logger and defines a function that uses logging at different levels."
   ]
  },
  {
   "cell_type": "code",
   "execution_count": null,
   "id": "8369da16",
   "metadata": {},
   "outputs": [],
   "source": [
    "# Create a logger for the calculator component\n",
    "logger = logging.getLogger('calculator')\n",
    "\n",
    "def divide(a, b):\n",
    "    \"\"\"Divide a by b and log the result.\"\"\"\n",
    "    try:\n",
    "        logger.debug(f'Dividing {a} by {b}')  # Debug message (not shown by default)\n",
    "        result = a / b\n",
    "        logger.info(f'Division result: {result}')  # Info message\n",
    "        return result\n",
    "    except ZeroDivisionError:\n",
    "        logger.error(f'Division by zero: {a}/{b}')  # Error message\n",
    "        return None\n",
    "    except Exception as e:\n",
    "        logger.critical(f'Unexpected error: {str(e)}')  # Critical message\n",
    "        return None"
   ]
  },
  {
   "cell_type": "markdown",
   "id": "c18b61ea",
   "metadata": {},
   "source": [
    "### Logging Examples: Info and Error Levels\n",
    "\n",
    "**Introduction:**\n",
    "You can use different log levels (DEBUG, INFO, WARNING, ERROR, CRITICAL) to indicate the severity of events.\n",
    "\n",
    "**Real-life use case:**\n",
    "Log normal operations at INFO level and errors at ERROR level to distinguish between routine and problematic events.\n",
    "\n",
    "**What the code does:**\n",
    "The next code cell demonstrates logging at INFO and ERROR levels by calling the `divide` function with different arguments."
   ]
  },
  {
   "cell_type": "code",
   "execution_count": null,
   "id": "4771ed89",
   "metadata": {},
   "outputs": [],
   "source": [
    "# Basic logging examples\n",
    "result1 = divide(10, 2)   # Normal case - should log info message\n",
    "result2 = divide(5, 0)    # Error case - should log error message"
   ]
  },
  {
   "cell_type": "markdown",
   "id": "180f96cb",
   "metadata": {},
   "source": [
    "### Changing Log Levels Dynamically\n",
    "\n",
    "**Introduction:**\n",
    "You can change the log level at runtime to see more or less detail in your logs.\n",
    "\n",
    "**Real-life use case:**\n",
    "Switching to DEBUG level during troubleshooting to get more detailed information.\n",
    "\n",
    "**What the code does:**\n",
    "The next code cell sets the logger to DEBUG level and demonstrates logging a debug message."
   ]
  },
  {
   "cell_type": "code",
   "execution_count": null,
   "id": "44de5e4d",
   "metadata": {},
   "outputs": [],
   "source": [
    "# Change log level to DEBUG to see more details\n",
    "logger.setLevel(logging.DEBUG)  # Show all log levels including DEBUG\n",
    "result3 = divide(20, 4)   # Now debug messages will show too"
   ]
  },
  {
   "cell_type": "markdown",
   "id": "243c96cd",
   "metadata": {},
   "source": [
    "### Creating a Custom Logger for Another Component\n",
    "\n",
    "**Introduction:**\n",
    "You can create multiple loggers for different parts of your application.\n",
    "\n",
    "**Real-life use case:**\n",
    "A data processing module might have its own logger to track data-specific events.\n",
    "\n",
    "**What the code does:**\n",
    "The next code cell creates a logger for a data processor and logs an info message."
   ]
  },
  {
   "cell_type": "code",
   "execution_count": null,
   "id": "ed66fa6e",
   "metadata": {},
   "outputs": [],
   "source": [
    "# Creating a custom logger for a different component\n",
    "data_logger = logging.getLogger('data_processor')\n",
    "data_logger.info(\"Processing data batch #1234\")"
   ]
  },
  {
   "cell_type": "markdown",
   "id": "f01c1ef5",
   "metadata": {},
   "source": [
    "### Logging to a File\n",
    "\n",
    "**Introduction:**\n",
    "You can direct log messages to files for persistent storage and later analysis.\n",
    "\n",
    "**Real-life use case:**\n",
    "Saving error logs to a file for auditing or troubleshooting in production systems.\n",
    "\n",
    "**What the code does:**\n",
    "The next code cell adds a file handler to the logger so that WARNING and above messages are written to a file."
   ]
  },
  {
   "cell_type": "code",
   "execution_count": null,
   "id": "cd605122",
   "metadata": {},
   "outputs": [],
   "source": [
    "# Logging to a file\n",
    "file_handler = logging.FileHandler('app.log', mode='w')  # Create a file handler\n",
    "file_handler.setLevel(logging.WARNING)  # Only WARNING and above go to file\n",
    "file_format = logging.Formatter('%(asctime)s - %(name)s - %(levelname)s - %(message)s')\n",
    "file_handler.setFormatter(file_format)\n",
    "logger.addHandler(file_handler)\n",
    "\n",
    "# This error will now be logged both to console and to file\n",
    "result4 = divide(10, 0)"
   ]
  },
  {
   "cell_type": "markdown",
   "id": "e2301154",
   "metadata": {},
   "source": [
    "### Demonstrating Different Logging Levels\n",
    "\n",
    "**Introduction:**\n",
    "The logging module supports several levels, each indicating the importance of the message.\n",
    "\n",
    "**Real-life use case:**\n",
    "Using different log levels helps filter logs and focus on relevant information during debugging or monitoring.\n",
    "\n",
    "**What the code does:**\n",
    "The next code cell demonstrates logging at all standard levels and captures the output for review."
   ]
  },
  {
   "cell_type": "code",
   "execution_count": null,
   "id": "5b3b779f",
   "metadata": {},
   "outputs": [],
   "source": [
    "from io import StringIO\n",
    "\n",
    "# Capture log output for demonstration\n",
    "log_capture = StringIO()\n",
    "ch = logging.StreamHandler(log_capture)\n",
    "ch.setLevel(logging.DEBUG)\n",
    "logger.addHandler(ch)\n",
    "\n",
    "logger.debug(\"This is a DEBUG message - detailed information for diagnosis\")\n",
    "logger.info(\"This is an INFO message - confirmation that things are working\")\n",
    "logger.warning(\"This is a WARNING message - potential issue or problem\")\n",
    "logger.error(\"This is an ERROR message - something failed to work properly\")\n",
    "logger.critical(\"This is a CRITICAL message - program may not continue\")\n",
    "\n",
    "# Print captured log output\n",
    "print(log_capture.getvalue())"
   ]
  },
  {
   "cell_type": "markdown",
   "id": "3adcaf71",
   "metadata": {},
   "source": [
    "### Logging Best Practices\n",
    "\n",
    "**Introduction:**\n",
    "Following best practices ensures your logs are useful and maintainable.\n",
    "\n",
    "**Real-life use case:**\n",
    "Well-structured logs make it easier to diagnose issues and monitor application health in production.\n",
    "\n",
    "**What the code does:**\n",
    "The next code cell lists best practices for using logging in Python applications."
   ]
  },
  {
   "cell_type": "code",
   "execution_count": null,
   "id": "1de9a589",
   "metadata": {},
   "outputs": [],
   "source": [
    "# Logging best practices\n",
    "print(\"1. Use the appropriate log level for different situations\")\n",
    "print(\"2. Include contextual information in log messages\")\n",
    "print(\"3. Configure logging at the start of your application\")\n",
    "print(\"4. Use different handlers for different outputs\")\n",
    "print(\"5. Structure logs for easy filtering and analysis\")"
   ]
  },
  {
   "cell_type": "markdown",
   "id": "b316d2be",
   "metadata": {},
   "source": [
    "## 3. Debugging\n",
    "**Definition:** Debugging is the process of finding and fixing errors in code. The built-in `pdb` module provides an interactive debugger.\n",
    "\n",
    "**Syntax and Example:**"
   ]
  },
  {
   "cell_type": "markdown",
   "id": "d3750c9a",
   "metadata": {},
   "source": [
    "### Demonstrating a Bug in a Function\n",
    "\n",
    "**Introduction:**\n",
    "Bugs are common in programming. Identifying and fixing them is a key part of debugging.\n",
    "\n",
    "**Real-life use case:**\n",
    "A data analyst writes a function to calculate averages but gets unexpected results due to a logic error.\n",
    "\n",
    "**What the code does:**\n",
    "The next code cell shows a function with a bug and a fixed version for comparison."
   ]
  },
  {
   "cell_type": "code",
   "execution_count": null,
   "id": "3ac77238",
   "metadata": {},
   "outputs": [],
   "source": [
    "# Sample function with a bug\n",
    "\n",
    "def calculate_average(numbers):\n",
    "    \"\"\"Calculate the average of a list of numbers.\"\"\"\n",
    "    total = 0\n",
    "    for num in numbers:\n",
    "        # Bug: we're not actually adding the numbers to total\n",
    "        # total + num  # This line has a bug - it calculates but doesn't store the result\n",
    "        \n",
    "        # Fixed version would be:\n",
    "        total += num  # Correctly adds each number to total\n",
    "    return total / len(numbers) if numbers else 0"
   ]
  },
  {
   "cell_type": "markdown",
   "id": "e1e0220a",
   "metadata": {},
   "source": [
    "### Using Print Statements for Debugging\n",
    "\n",
    "**Introduction:**\n",
    "Print statements are a simple way to trace the flow of your program and inspect variable values.\n",
    "\n",
    "**Real-life use case:**\n",
    "A beginner uses print statements to understand how data changes during a loop.\n",
    "\n",
    "**What the code does:**\n",
    "The next code cell demonstrates using print statements to debug a function that calculates an average."
   ]
  },
  {
   "cell_type": "code",
   "execution_count": null,
   "id": "bb1d1d09",
   "metadata": {},
   "outputs": [],
   "source": [
    "def debug_with_print(numbers):\n",
    "    print(f\"Input: {numbers}\")\n",
    "    total = 0\n",
    "    for i, num in enumerate(numbers):\n",
    "        total += num\n",
    "        print(f\"After adding {num}: total = {total}\")\n",
    "    result = total / len(numbers) if numbers else 0\n",
    "    print(f\"Final result: {result}\")\n",
    "    return result\n",
    "\n",
    "# Example usage\n",
    "# debug_with_print([2, 4, 6, 8])"
   ]
  },
  {
   "cell_type": "markdown",
   "id": "00025a07",
   "metadata": {},
   "source": [
    "### Using the Python Debugger (pdb)\n",
    "\n",
    "**Introduction:**\n",
    "The built-in `pdb` module allows you to set breakpoints and step through code interactively.\n",
    "\n",
    "**Real-life use case:**\n",
    "A developer uses `pdb` to pause execution and inspect variables at a specific point in a function.\n",
    "\n",
    "**What the code does:**\n",
    "The next code cell shows how to insert a breakpoint using `pdb` or the modern `breakpoint()` function."
   ]
  },
  {
   "cell_type": "code",
   "execution_count": null,
   "id": "eb3da429",
   "metadata": {},
   "outputs": [],
   "source": [
    "def buggy_function(x):\n",
    "    y = x + 10\n",
    "    # Uncomment the next line to start the debugger at this point\n",
    "    # import pdb; pdb.set_trace()  # Python 3.6 and earlier\n",
    "    # or use this in Python 3.7+:\n",
    "    # breakpoint()  # More modern way to insert a breakpoint\n",
    "    return y\n",
    "\n",
    "# Example usage\n",
    "# result = buggy_function(5)\n",
    "# print(f\"Result from buggy_function: {result}\")"
   ]
  },
  {
   "cell_type": "markdown",
   "id": "4892d920",
   "metadata": {},
   "source": [
    "### Using try/except for Debugging\n",
    "\n",
    "**Introduction:**\n",
    "Catching exceptions with try/except blocks helps you handle errors gracefully and print useful debug information.\n",
    "\n",
    "**Real-life use case:**\n",
    "A developer wraps code in try/except to catch and log errors during data processing.\n",
    "\n",
    "**What the code does:**\n",
    "The next code cell demonstrates using try/except to debug a division function."
   ]
  },
  {
   "cell_type": "code",
   "execution_count": null,
   "id": "c8670c5d",
   "metadata": {},
   "outputs": [],
   "source": [
    "def division_function(a, b):\n",
    "    try:\n",
    "        result = a / b\n",
    "        print(f\"Success: {a} / {b} = {result}\")\n",
    "        return result\n",
    "    except Exception as e:\n",
    "        print(f\"Error occurred: {type(e).__name__}: {str(e)}\")\n",
    "        print(f\"Error occurred in division_function({a}, {b})\")\n",
    "        # In a real scenario, you might want to re-raise the exception\n",
    "        # raise\n",
    "        return None\n",
    "\n",
    "# Example usage\n",
    "# division_function(10, 2)  # Should work fine\n",
    "# division_function(10, 0)  # Should catch the error"
   ]
  },
  {
   "cell_type": "markdown",
   "id": "58bf744e",
   "metadata": {},
   "source": [
    "### Other Debugging Tools in Python\n",
    "\n",
    "**Introduction:**\n",
    "Python offers many debugging tools, including IDE debuggers and enhanced command-line debuggers.\n",
    "\n",
    "**Real-life use case:**\n",
    "A data scientist uses Jupyter's `%debug` magic or an IDE's graphical debugger to step through code.\n",
    "\n",
    "**What the code does:**\n",
    "The next code cell lists popular debugging tools and their use cases."
   ]
  },
  {
   "cell_type": "code",
   "execution_count": null,
   "id": "c7329dd0",
   "metadata": {},
   "outputs": [],
   "source": [
    "# List of popular debugging tools in Python\n",
    "print(\"1. VSCode's built-in debugger - Set breakpoints and inspect variables graphically\")\n",
    "print(\"2. PyCharm debugger - Professional IDE with robust debugging tools\")\n",
    "print(\"3. IPython/Jupyter - Use %debug magic to start debugger after an exception occurs\")\n",
    "print(\"4. pdbpp - Enhanced version of pdb with syntax highlighting and tab completion\")\n",
    "print(\"5. logging module - For logging-based debugging in production\")"
   ]
  },
  {
   "cell_type": "markdown",
   "id": "6174b19a",
   "metadata": {},
   "source": [
    "### Debugging Tips for Data Science\n",
    "\n",
    "**Introduction:**\n",
    "Debugging data science code often involves inspecting data shapes, types, and values.\n",
    "\n",
    "**Real-life use case:**\n",
    "A data scientist checks for NaN values and inspects data before running algorithms.\n",
    "\n",
    "**What the code does:**\n",
    "The next code cell provides tips and a function for debugging data arrays."
   ]
  },
  {
   "cell_type": "code",
   "execution_count": null,
   "id": "b65bc688",
   "metadata": {},
   "outputs": [],
   "source": [
    "import numpy as np\n",
    "\n",
    "def process_data(data):\n",
    "    # Print shape and data types - useful for debugging\n",
    "    print(f\"Data shape: {data.shape}, dtype: {data.dtype}\")\n",
    "    # Check for problematic values\n",
    "    print(f\"NaN values: {np.isnan(data).sum()}\")\n",
    "    print(f\"Infinite values: {np.isinf(data).sum()}\")\n",
    "    # Data summary - useful to see if values are reasonable\n",
    "    print(f\"Min: {np.min(data)}, Max: {np.max(data)}, Mean: {np.mean(data):.2f}\")\n",
    "    # Continue with processing...\n",
    "    return data * 2\n",
    "\n",
    "# Example usage\n",
    "# sample_data = np.array([1.0, 2.0, 3.0, 4.0, 5.0])\n",
    "# processed = process_data(sample_data)\n",
    "# print(f\"Processed data: {processed}\")"
   ]
  },
  {
   "cell_type": "markdown",
   "id": "b6af2852",
   "metadata": {},
   "source": [
    "## 4. Assertions\n",
    "**Definition:** Assertions are used to check if a condition is true. If not, an AssertionError is raised. Useful for catching bugs early.\n",
    "\n",
    "**Syntax and Example:**"
   ]
  },
  {
   "cell_type": "markdown",
   "id": "7190dc1d",
   "metadata": {},
   "source": [
    "### Basic Assertion Usage\n",
    "\n",
    "**Introduction:**\n",
    "Assertions are used to check if a condition is true during program execution. If the condition is false, an AssertionError is raised.\n",
    "\n",
    "**Real-life use case:**\n",
    "A developer uses assertions to catch invalid input early in a function.\n",
    "\n",
    "**What the code does:**\n",
    "The next code cell demonstrates a function that uses an assertion to ensure a number is positive."
   ]
  },
  {
   "cell_type": "code",
   "execution_count": null,
   "id": "d4e20c12",
   "metadata": {},
   "outputs": [],
   "source": [
    "def get_positive_number(n):\n",
    "    \"\"\"Return n if it's positive, otherwise raise an AssertionError.\"\"\"\n",
    "    assert n > 0, 'Number must be positive'  # Assertion with error message\n",
    "    return n\n",
    "\n",
    "# Example usage\n",
    "# print(get_positive_number(5))  # Works fine\n",
    "# print(get_positive_number(-2))  # Would raise AssertionError"
   ]
  },
  {
   "cell_type": "markdown",
   "id": "37ca0a30",
   "metadata": {},
   "source": [
    "### Advanced Assertion Examples for Data Validation\n",
    "\n",
    "**Introduction:**\n",
    "Assertions can be used to validate data and catch logical errors in functions.\n",
    "\n",
    "**Real-life use case:**\n",
    "A data scientist uses assertions to ensure all grades are within a valid range before calculating an average.\n",
    "\n",
    "**What the code does:**\n",
    "The next code cell demonstrates assertions for data validation in a function."
   ]
  },
  {
   "cell_type": "code",
   "execution_count": null,
   "id": "bb50c1d6",
   "metadata": {},
   "outputs": [],
   "source": [
    "def calculate_average(grades):\n",
    "    \"\"\"Calculate the average of a list of grades.\"\"\"\n",
    "    assert len(grades) > 0, \"Cannot calculate average of empty list\"\n",
    "    assert all(0 <= grade <= 100 for grade in grades), \"Grades must be between 0 and 100\"\n",
    "    return sum(grades) / len(grades)\n",
    "\n",
    "# Example usage\n",
    "# print(calculate_average([85, 90, 95]))  # Valid input\n",
    "# print(calculate_average([]))  # Would raise AssertionError\n",
    "# print(calculate_average([85, 105, 90]))  # Would raise AssertionError"
   ]
  },
  {
   "cell_type": "markdown",
   "id": "2806a0cf",
   "metadata": {},
   "source": [
    "### Assertions vs. Explicit Validation\n",
    "\n",
    "**Introduction:**\n",
    "Assertions are best for internal checks, while explicit validation is better for public APIs.\n",
    "\n",
    "**Real-life use case:**\n",
    "A library author uses assertions for internal invariants and explicit checks for user-facing functions.\n",
    "\n",
    "**What the code does:**\n",
    "The next code cell compares assertions and explicit validation in two functions."
   ]
  },
  {
   "cell_type": "code",
   "execution_count": null,
   "id": "21274c31",
   "metadata": {},
   "outputs": [],
   "source": [
    "def internal_function(data):\n",
    "    \"\"\"Process data - for internal use where input validity is guaranteed.\"\"\"\n",
    "    assert isinstance(data, list), \"Data must be a list\"  # Checks data type\n",
    "    # Process data...\n",
    "    return f\"Processed {len(data)} items\"\n",
    "\n",
    "def public_function(data):\n",
    "    \"\"\"Process data - for public API where input should be validated.\"\"\"\n",
    "    if not isinstance(data, list):\n",
    "        raise TypeError(\"Data must be a list\")  # More appropriate for public API\n",
    "    # Process data...\n",
    "    return f\"Processed {len(data)} items\"\n",
    "\n",
    "# Example usage\n",
    "# print(internal_function([1, 2, 3]))  # Works fine\n",
    "# print(public_function([1, 2, 3]))   # Works fine too"
   ]
  },
  {
   "cell_type": "markdown",
   "id": "a5af0816",
   "metadata": {},
   "source": [
    "### When to Use Assertions vs. Exceptions\n",
    "\n",
    "**Introduction:**\n",
    "Assertions are for internal invariants, while exceptions are for handling expected error conditions.\n",
    "\n",
    "**Real-life use case:**\n",
    "A developer uses assertions to check for impossible states and exceptions for user input errors.\n",
    "\n",
    "**What the code does:**\n",
    "The next code cell explains the difference and provides best practices."
   ]
  },
  {
   "cell_type": "code",
   "execution_count": null,
   "id": "b71b0dd5",
   "metadata": {},
   "outputs": [],
   "source": [
    "# When to use assertions vs exceptions\n",
    "print(\"1. Assertions: for internal invariants and conditions that should never happen\")\n",
    "print(\"2. Exceptions: for handling expected error conditions and input validation\")\n",
    "print(\"\\nImportant note: Assertions can be disabled with Python's -O flag,\")\n",
    "print(\"so never use them for input validation in production code!\")"
   ]
  },
  {
   "cell_type": "markdown",
   "id": "6933ee5d",
   "metadata": {},
   "source": [
    "### Using Assertions in Testing\n",
    "\n",
    "**Introduction:**\n",
    "Assertions are useful for writing simple test functions to check code correctness.\n",
    "\n",
    "**Real-life use case:**\n",
    "A developer writes a quick test function using assertions to verify a utility function.\n",
    "\n",
    "**What the code does:**\n",
    "The next code cell demonstrates a simple test function using assertions."
   ]
  },
  {
   "cell_type": "code",
   "execution_count": null,
   "id": "9c08b71c",
   "metadata": {},
   "outputs": [],
   "source": [
    "def is_even(n):\n",
    "    \"\"\"Return True if n is even, False otherwise.\"\"\"\n",
    "    return n % 2 == 0\n",
    "\n",
    "def test_is_even():\n",
    "    assert is_even(2) == True, \"2 should be even\"\n",
    "    assert is_even(4) == True, \"4 should be even\"\n",
    "    assert is_even(1) == False, \"1 should be odd\"\n",
    "    assert is_even(3) == False, \"3 should be odd\"\n",
    "    print(\"All tests passed!\")\n",
    "\n",
    "# Example usage\n",
    "# test_is_even()"
   ]
  },
  {
   "cell_type": "markdown",
   "id": "927a75dc",
   "metadata": {},
   "source": [
    "## 5. Property-Based Testing\n",
    "**Definition:** Property-based testing is a testing approach where instead of writing specific test cases, you define properties that should always hold true for your functions, and the testing framework automatically generates test inputs.\n",
    "\n",
    "**Syntax and Example:**"
   ]
  },
  {
   "cell_type": "markdown",
   "id": "5c772ecc",
   "metadata": {},
   "source": [
    "### Installing and Importing Hypothesis for Property-Based Testing\n",
    "\n",
    "**Introduction:**\n",
    "Property-based testing uses libraries like Hypothesis to automatically generate test cases based on properties you define.\n",
    "\n",
    "**Real-life use case:**\n",
    "A developer wants to ensure a sorting function works for all possible integer lists, not just a few examples.\n",
    "\n",
    "**What the code does:**\n",
    "The next code cell shows how to install and import Hypothesis and its strategies."
   ]
  },
  {
   "cell_type": "code",
   "execution_count": null,
   "id": "d2a815d4",
   "metadata": {},
   "outputs": [],
   "source": [
    "# Install hypothesis if you're running this for the first time\n",
    "# !pip install hypothesis\n",
    "\n",
    "try:\n",
    "    from hypothesis import given, strategies as st\n",
    "except ImportError:\n",
    "    print(\"Hypothesis not installed. Run '!pip install hypothesis' to install.\")"
   ]
  },
  {
   "cell_type": "markdown",
   "id": "499e14cd",
   "metadata": {},
   "source": [
    "### Defining a Function to Test with Property-Based Testing\n",
    "\n",
    "**Introduction:**\n",
    "You can use property-based testing to check that a function behaves correctly for a wide range of inputs.\n",
    "\n",
    "**Real-life use case:**\n",
    "Testing a sorting function to ensure it always returns a sorted list, regardless of input.\n",
    "\n",
    "**What the code does:**\n",
    "The next code cell defines a simple sorting function."
   ]
  },
  {
   "cell_type": "code",
   "execution_count": null,
   "id": "791821d6",
   "metadata": {},
   "outputs": [],
   "source": [
    "def sort_list(items):\n",
    "    \"\"\"Sort a list of integers in ascending order.\"\"\"\n",
    "    return sorted(items)"
   ]
  },
  {
   "cell_type": "markdown",
   "id": "b9f4e565",
   "metadata": {},
   "source": [
    "### Property: Sorting Preserves List Length\n",
    "\n",
    "**Introduction:**\n",
    "A key property of sorting is that it should not change the number of elements in the list.\n",
    "\n",
    "**Real-life use case:**\n",
    "Ensuring that no data is lost or duplicated during sorting.\n",
    "\n",
    "**What the code does:**\n",
    "The next code cell uses Hypothesis to test that sorting preserves the length of the list."
   ]
  },
  {
   "cell_type": "code",
   "execution_count": null,
   "id": "3545024e",
   "metadata": {},
   "outputs": [],
   "source": [
    "try:\n",
    "    @given(st.lists(st.integers()))\n",
    "    def test_sort_preserves_length(items):\n",
    "        sorted_items = sort_list(items)\n",
    "        assert len(sorted_items) == len(items), \"Sorting should preserve list length\"\n",
    "    # Example usage\n",
    "    # test_sort_preserves_length()\n",
    "except NameError:\n",
    "    pass"
   ]
  },
  {
   "cell_type": "markdown",
   "id": "5d8e21c2",
   "metadata": {},
   "source": [
    "### Property: Sorting is Idempotent\n",
    "\n",
    "**Introduction:**\n",
    "Sorting a list that is already sorted should not change it.\n",
    "\n",
    "**Real-life use case:**\n",
    "A developer wants to ensure that repeated sorting does not alter the result.\n",
    "\n",
    "**What the code does:**\n",
    "The next code cell uses Hypothesis to test that sorting is idempotent."
   ]
  },
  {
   "cell_type": "code",
   "execution_count": null,
   "id": "87d61c41",
   "metadata": {},
   "outputs": [],
   "source": [
    "try:\n",
    "    @given(st.lists(st.integers()))\n",
    "    def test_sort_idempotent(items):\n",
    "        sorted_once = sort_list(items)\n",
    "        sorted_twice = sort_list(sorted_once)\n",
    "        assert sorted_once == sorted_twice, \"Sorting a sorted list should not change it\"\n",
    "    # Example usage\n",
    "    # test_sort_idempotent()\n",
    "except NameError:\n",
    "    pass"
   ]
  },
  {
   "cell_type": "markdown",
   "id": "7c69cca2",
   "metadata": {},
   "source": [
    "### Property: Sorting Preserves All Elements\n",
    "\n",
    "**Introduction:**\n",
    "Sorting should not add or remove elements from the list.\n",
    "\n",
    "**Real-life use case:**\n",
    "A developer wants to ensure that sorting does not lose or duplicate data.\n",
    "\n",
    "**What the code does:**\n",
    "The next code cell uses Hypothesis to test that sorting preserves all elements."
   ]
  },
  {
   "cell_type": "code",
   "execution_count": null,
   "id": "293dc397",
   "metadata": {},
   "outputs": [],
   "source": [
    "try:\n",
    "    @given(st.lists(st.integers()))\n",
    "    def test_sort_contains_same_elements(items):\n",
    "        sorted_items = sort_list(items)\n",
    "        assert set(sorted_items) == set(items), \"Sorted list should contain same elements as original\"\n",
    "    # Example usage\n",
    "    # test_sort_contains_same_elements()\n",
    "except NameError:\n",
    "    pass"
   ]
  },
  {
   "cell_type": "markdown",
   "id": "529b21ac",
   "metadata": {},
   "source": [
    "### Property: Sorted List is in Ascending Order\n",
    "\n",
    "**Introduction:**\n",
    "A sorted list should have each element less than or equal to the next.\n",
    "\n",
    "**Real-life use case:**\n",
    "A developer wants to ensure the sorting function actually sorts the data.\n",
    "\n",
    "**What the code does:**\n",
    "The next code cell uses Hypothesis to test that the result is sorted in ascending order."
   ]
  },
  {
   "cell_type": "code",
   "execution_count": null,
   "id": "6553c016",
   "metadata": {},
   "outputs": [],
   "source": [
    "try:\n",
    "    @given(st.lists(st.integers()))\n",
    "    def test_sort_is_ordered(items):\n",
    "        sorted_items = sort_list(items)\n",
    "        for i in range(len(sorted_items) - 1):\n",
    "            assert sorted_items[i] <= sorted_items[i + 1], \"List is not properly sorted\"\n",
    "    # Example usage\n",
    "    # test_sort_is_ordered()\n",
    "except NameError:\n",
    "    pass"
   ]
  },
  {
   "cell_type": "markdown",
   "id": "c0040426",
   "metadata": {},
   "source": [
    "### Example: Property-Based Test for a Buggy Deduplication Function\n",
    "\n",
    "**Introduction:**\n",
    "Property-based testing can help find bugs in functions that seem correct for a few examples but fail for edge cases.\n",
    "\n",
    "**Real-life use case:**\n",
    "A developer writes a function to remove duplicates and uses property-based testing to ensure it never increases the list length.\n",
    "\n",
    "**What the code does:**\n",
    "The next code cell defines a buggy deduplication function and tests it with Hypothesis."
   ]
  },
  {
   "cell_type": "code",
   "execution_count": null,
   "id": "ee2b12ca",
   "metadata": {},
   "outputs": [],
   "source": [
    "def remove_duplicates(items):\n",
    "    \"\"\"Buggy implementation of removing duplicates from a list.\"\"\"\n",
    "    result = []\n",
    "    for item in items:\n",
    "        if item not in result:  # Inefficient but simple\n",
    "            result.append(item)\n",
    "    return result\n",
    "\n",
    "try:\n",
    "    @given(st.lists(st.integers()))\n",
    "    def test_deduplication_length(items):\n",
    "        deduplicated = remove_duplicates(items)\n",
    "        assert len(deduplicated) <= len(items), \"Deduplication should not increase length\"\n",
    "    # Example usage\n",
    "    # test_deduplication_length()\n",
    "except NameError:\n",
    "    pass"
   ]
  },
  {
   "cell_type": "markdown",
   "id": "f782f163",
   "metadata": {},
   "source": [
    "### Hypothesis Data Generation Strategies\n",
    "\n",
    "**Introduction:**\n",
    "Hypothesis can generate a wide variety of data types for testing.\n",
    "\n",
    "**Real-life use case:**\n",
    "A developer tests functions that accept different data types, such as integers, floats, text, or dates.\n",
    "\n",
    "**What the code does:**\n",
    "The next code cell lists some common Hypothesis strategies."
   ]
  },
  {
   "cell_type": "code",
   "execution_count": null,
   "id": "473eaffb",
   "metadata": {},
   "outputs": [],
   "source": [
    "# Hypothesis can generate many types of test data:\n",
    "print(\"- Integers: st.integers()\")\n",
    "print(\"- Floating point: st.floats()\")\n",
    "print(\"- Text: st.text()\")\n",
    "print(\"- Dates: st.dates()\")\n",
    "print(\"- Composite data: st.dictionaries(), st.tuples(), etc.\")"
   ]
  },
  {
   "cell_type": "markdown",
   "id": "a100a790",
   "metadata": {},
   "source": [
    "### Benefits of Property-Based Testing\n",
    "\n",
    "**Introduction:**\n",
    "Property-based testing helps you find edge cases and improve test coverage with less effort.\n",
    "\n",
    "**Real-life use case:**\n",
    "A team uses property-based testing to catch bugs that example-based tests miss.\n",
    "\n",
    "**What the code does:**\n",
    "The next code cell summarizes the benefits of property-based testing."
   ]
  },
  {
   "cell_type": "code",
   "execution_count": null,
   "id": "ad1d8f3b",
   "metadata": {},
   "outputs": [],
   "source": [
    "print(\"1. Better test coverage with fewer test cases\")\n",
    "print(\"2. Finding edge cases you might not think of\")\n",
    "print(\"3. Automatically shrinking test cases to minimal failing examples\")\n",
    "print(\"4. Tests that adapt as your code evolves\")"
   ]
  },
  {
   "cell_type": "markdown",
   "id": "3ee6d77e",
   "metadata": {},
   "source": [
    "## Conclusion\n",
    "This notebook covered essential Python testing and debugging concepts:\n",
    "\n",
    "1. **Unit Testing** - Writing tests to verify individual components work correctly\n",
    "2. **Logging** - Recording program events for monitoring and troubleshooting\n",
    "3. **Debugging** - Tools and techniques for finding and fixing bugs\n",
    "4. **Assertions** - Runtime checks to catch logical errors early\n",
    "5. **Property-Based Testing** - Generating test cases automatically based on properties\n",
    "\n",
    "**Best Practices:**\n",
    "- Write tests before or alongside your code (Test-Driven Development)\n",
    "- Use appropriate log levels and configure logging properly\n",
    "- Learn to use debugging tools effectively\n",
    "- Use assertions for internal invariants, not input validation\n",
    "- Consider both example-based and property-based testing\n",
    "\n",
    "**Next Steps:**\n",
    "- Explore test coverage tools like `coverage.py`\n",
    "- Learn about mocking for testing with `unittest.mock`\n",
    "- Set up continuous integration to run tests automatically\n",
    "- Investigate profiling tools for performance optimization"
   ]
  }
 ],
 "metadata": {
  "kernelspec": {
   "display_name": "Python 3",
   "language": "python",
   "name": "python3"
  },
  "language_info": {
   "codemirror_mode": {
    "name": "ipython",
    "version": 3
   },
   "file_extension": ".py",
   "mimetype": "text/x-python",
   "name": "python",
   "nbconvert_exporter": "python",
   "pygments_lexer": "ipython3",
   "version": "3.12.6"
  }
 },
 "nbformat": 4,
 "nbformat_minor": 5
}
