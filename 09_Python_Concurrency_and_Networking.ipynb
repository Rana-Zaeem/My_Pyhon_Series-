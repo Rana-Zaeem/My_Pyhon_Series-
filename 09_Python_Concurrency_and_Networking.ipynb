{
 "cells": [
  {
   "cell_type": "markdown",
   "id": "1cc2e8d9",
   "metadata": {},
   "source": [
    "# Python Concurrency and Networking\n",
    "This notebook covers threading, multiprocessing, async/await, sockets, and HTTP requests with real-life use cases, best practices, and code examples."
   ]
  },
  {
   "cell_type": "markdown",
   "id": "35e4c63d",
   "metadata": {},
   "source": [
    "## 1. Threading\n",
    "**Definition:** Threading allows concurrent execution of code, useful for I/O-bound tasks."
   ]
  },
  {
   "cell_type": "markdown",
   "id": "30c44ace",
   "metadata": {},
   "source": [
    "### Importing Threading and Time Modules\n",
    "\n",
    "**Introduction:**\n",
    "To use threading in Python, you need to import the `threading` and `time` modules.\n",
    "\n",
    "**Real-life use case:**\n",
    "These modules are used for running concurrent tasks and simulating delays in code.\n",
    "\n",
    "**What the code does:**\n",
    "The next code cell imports the required modules for threading examples."
   ]
  },
  {
   "cell_type": "code",
   "execution_count": null,
   "id": "bb4b07f6",
   "metadata": {},
   "outputs": [],
   "source": [
    "import threading\n",
    "import time"
   ]
  },
  {
   "cell_type": "markdown",
   "id": "004f7a6b",
   "metadata": {},
   "source": [
    "### Basic Threading Example\n",
    "\n",
    "**Introduction:**\n",
    "A thread allows you to run a function concurrently with the main program.\n",
    "\n",
    "**Real-life use case:**\n",
    "Downloading files in the background while the main program continues.\n",
    "\n",
    "**What the code does:**\n",
    "The next code cell defines a function that prints numbers with a delay, and shows how to run it in a separate thread."
   ]
  },
  {
   "cell_type": "code",
   "execution_count": null,
   "id": "83780c9d",
   "metadata": {},
   "outputs": [],
   "source": [
    "def print_numbers():\n",
    "    \"\"\"Print numbers with a delay to simulate work.\"\"\"\n",
    "    for i in range(3):\n",
    "        print(f'Thread: {i}')\n",
    "        time.sleep(1)\n",
    "\n",
    "# Create and start a thread\n",
    "thread = threading.Thread(target=print_numbers)\n",
    "thread.start()\n",
    "print(\"Main thread continues while child thread runs\")\n",
    "thread.join()\n",
    "print(\"Thread completed\")"
   ]
  },
  {
   "cell_type": "markdown",
   "id": "48684db3",
   "metadata": {},
   "source": [
    "### Running Multiple Threads in Parallel\n",
    "\n",
    "**Introduction:**\n",
    "You can start several threads to perform tasks in parallel, which is useful for handling multiple I/O operations at once.\n",
    "\n",
    "**Real-life use case:**\n",
    "Processing multiple files or network requests simultaneously.\n",
    "\n",
    "**What the code does:**\n",
    "The next code cell defines a worker function and starts multiple threads to run it."
   ]
  },
  {
   "cell_type": "code",
   "execution_count": null,
   "id": "8c91af73",
   "metadata": {},
   "outputs": [],
   "source": [
    "def worker(name):\n",
    "    \"\"\"Worker function that reports its name and timestamps.\"\"\"\n",
    "    print(f'Worker {name} starting')\n",
    "    time.sleep(2)\n",
    "    print(f'Worker {name} finished')\n",
    "\n",
    "threads = []\n",
    "for i in range(3):\n",
    "    t = threading.Thread(target=worker, args=(f'#{i}',))\n",
    "    threads.append(t)\n",
    "    t.start()\n",
    "for t in threads:\n",
    "    t.join()\n",
    "print(\"All workers completed\")"
   ]
  },
  {
   "cell_type": "markdown",
   "id": "ddcd6d76",
   "metadata": {},
   "source": [
    "### Running a Background Task with a Daemon Thread\n",
    "\n",
    "**Introduction:**\n",
    "Daemon threads run in the background and automatically exit when the main program finishes.\n",
    "\n",
    "**Real-life use case:**\n",
    "Background monitoring or periodic tasks that should not block program exit.\n",
    "\n",
    "**What the code does:**\n",
    "The next code cell creates a daemon thread for a background task while the main thread continues its work."
   ]
  },
  {
   "cell_type": "code",
   "execution_count": null,
   "id": "f0ea29e4",
   "metadata": {},
   "outputs": [],
   "source": [
    "def background_task():\n",
    "    for i in range(5):\n",
    "        print(f\"Background task: step {i}\")\n",
    "        time.sleep(0.5)\n",
    "\n",
    "background_thread = threading.Thread(target=background_task)\n",
    "background_thread.daemon = True\n",
    "background_thread.start()\n",
    "for i in range(3):\n",
    "    print(f\"Main thread: step {i}\")\n",
    "    time.sleep(0.7)\n",
    "print(\"Main thread finished (background thread may not have completed)\")"
   ]
  },
  {
   "cell_type": "markdown",
   "id": "673671de",
   "metadata": {},
   "source": [
    "### Thread Synchronization with Lock\n",
    "\n",
    "**Introduction:**\n",
    "When multiple threads access shared data, you need synchronization to prevent race conditions.\n",
    "\n",
    "**Real-life use case:**\n",
    "Safely updating a shared counter from multiple threads.\n",
    "\n",
    "**What the code does:**\n",
    "The next code cell demonstrates using a Lock to synchronize access to a shared variable."
   ]
  },
  {
   "cell_type": "code",
   "execution_count": null,
   "id": "275ba2c2",
   "metadata": {},
   "outputs": [],
   "source": [
    "counter = 0\n",
    "count_lock = threading.Lock()\n",
    "\n",
    "def increment_counter():\n",
    "    global counter\n",
    "    for _ in range(100000):\n",
    "        with count_lock:\n",
    "            counter += 1\n",
    "thread1 = threading.Thread(target=increment_counter)\n",
    "thread2 = threading.Thread(target=increment_counter)\n",
    "thread1.start()\n",
    "thread2.start()\n",
    "thread1.join()\n",
    "thread2.join()\n",
    "print(f\"Final counter value with locks: {counter}\")"
   ]
  },
  {
   "cell_type": "markdown",
   "id": "b1d8551a",
   "metadata": {},
   "source": [
    "### Producer-Consumer Pattern with Queue\n",
    "\n",
    "**Introduction:**\n",
    "The producer-consumer pattern uses a queue to safely pass data between threads.\n",
    "\n",
    "**Real-life use case:**\n",
    "A web crawler where one thread fetches URLs (producer) and another processes the content (consumer).\n",
    "\n",
    "**What the code does:**\n",
    "The next code cell demonstrates a producer thread putting items in a queue and a consumer thread processing them."
   ]
  },
  {
   "cell_type": "code",
   "execution_count": null,
   "id": "d6d3c9aa",
   "metadata": {},
   "outputs": [],
   "source": [
    "import queue\n",
    "\n",
    "task_queue = queue.Queue()\n",
    "\n",
    "def producer():\n",
    "    for i in range(5):\n",
    "        item = f\"Item-{i}\"\n",
    "        task_queue.put(item)\n",
    "        print(f\"Produced {item}\")\n",
    "        time.sleep(0.5)\n",
    "    task_queue.put(None)\n",
    "\n",
    "def consumer():\n",
    "    while True:\n",
    "        item = task_queue.get()\n",
    "        if item is None:\n",
    "            break\n",
    "        print(f\"Consumed {item}\")\n",
    "        task_queue.task_done()\n",
    "        time.sleep(1)\n",
    "prod_thread = threading.Thread(target=producer)\n",
    "cons_thread = threading.Thread(target=consumer)\n",
    "prod_thread.start()\n",
    "cons_thread.start()\n",
    "prod_thread.join()\n",
    "cons_thread.join()\n",
    "print(\"Producer-Consumer demonstration completed\")"
   ]
  },
  {
   "cell_type": "markdown",
   "id": "ef421a63",
   "metadata": {},
   "source": [
    "### Note on Python's Global Interpreter Lock (GIL)\n",
    "\n",
    "**Introduction:**\n",
    "The Global Interpreter Lock (GIL) affects how threads execute Python code.\n",
    "\n",
    "**Real-life use case:**\n",
    "Understanding the GIL helps you choose between threading and multiprocessing for your application.\n",
    "\n",
    "**What the code does:**\n",
    "The next code cell explains the GIL and when to use threading vs. multiprocessing."
   ]
  },
  {
   "cell_type": "code",
   "execution_count": null,
   "id": "d2118223",
   "metadata": {},
   "outputs": [],
   "source": [
    "print(\"The GIL prevents multiple native threads from executing Python bytecode at once.\")\n",
    "print(\"This means threading is most useful for I/O-bound tasks rather than CPU-bound tasks.\")\n",
    "print(\"For CPU-bound tasks, consider multiprocessing instead.\")"
   ]
  }
 ],
 "metadata": {
  "kernelspec": {
   "display_name": "base",
   "language": "python",
   "name": "python3"
  },
  "language_info": {
   "codemirror_mode": {
    "name": "ipython",
    "version": 3
   },
   "file_extension": ".py",
   "mimetype": "text/x-python",
   "name": "python",
   "nbconvert_exporter": "python",
   "pygments_lexer": "ipython3",
   "version": "3.12.9"
  }
 },
 "nbformat": 4,
 "nbformat_minor": 5
}
